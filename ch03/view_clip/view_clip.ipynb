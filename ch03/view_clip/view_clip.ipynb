{
 "cells": [
  {
   "cell_type": "markdown",
   "metadata": {},
   "source": [
    "# Visualising CLIP #\n",
    "\n",
    "### Abstract ###\n",
    "\n",
    "- Code stripped from [@fuguer in Unstable Diffusion](https://discord.com/channels/1010980909568245801/1011105234820542554/1230930560956760185)\n",
    "- Notebook skeleton borrowed from [view_unet.ipynb](./v2a/view_unet.ipynb)\n",
    "\n",
    "### Required libraries ###\n",
    "\n",
    "- ~~Should be the common ML pack we're using. Also with [SD webui's dependency](https://github.com/AUTOMATIC1111/stable-diffusion-webui).~~\n",
    "\n",
    "- [sklearn](https://scikit-learn.org/stable/)\n",
    "- [safetensors](https://huggingface.co/docs/safetensors/index)\n",
    "- [diffusers](https://huggingface.co/docs/diffusers/installation)\n",
    "- [pytorch](https://pytorch.org/get-started/locally/#windows-python)\n",
    "- [Graphviz](https://graphviz.org/)\n",
    "- [pandas](https://pandas.pydata.org/)"
   ]
  },
  {
   "cell_type": "markdown",
   "metadata": {},
   "source": [
    "## Importing libraries ##"
   ]
  },
  {
   "cell_type": "code",
   "execution_count": 1,
   "metadata": {},
   "outputs": [],
   "source": [
    "import os\n",
    "import pandas as pd\n",
    "import numpy as np\n",
    "from scipy.spatial import distance_matrix\n",
    "\n",
    "import torch\n",
    "from safetensors.torch import load_file #safe_open\n",
    "from diffusers import StableDiffusionXLPipeline\n",
    "\n",
    "import matplotlib.pyplot as plt\n",
    "from sklearn.manifold import TSNE\n",
    "from sklearn.decomposition import PCA\n",
    "\n",
    "from tqdm import tqdm"
   ]
  },
  {
   "cell_type": "code",
   "execution_count": 2,
   "metadata": {},
   "outputs": [
    {
     "data": {
      "text/plain": [
       "'2.2.1+cu121'"
      ]
     },
     "execution_count": 2,
     "metadata": {},
     "output_type": "execute_result"
    }
   ],
   "source": [
    "torch.__version__"
   ]
  },
  {
   "cell_type": "code",
   "execution_count": 3,
   "metadata": {},
   "outputs": [
    {
     "data": {
      "text/plain": [
       "True"
      ]
     },
     "execution_count": 3,
     "metadata": {},
     "output_type": "execute_result"
    }
   ],
   "source": [
    "torch.cuda.is_available()"
   ]
  },
  {
   "cell_type": "code",
   "execution_count": 4,
   "metadata": {},
   "outputs": [],
   "source": [
    "# Fix for OMP: Error #15\n",
    "os.environ[\"KMP_DUPLICATE_LIB_OK\"] = \"TRUE\""
   ]
  },
  {
   "cell_type": "code",
   "execution_count": 5,
   "metadata": {},
   "outputs": [],
   "source": [
    "# TODO: Support 'cuda', but 'cpu' is arleady fast.\n",
    "g_device = \"cuda:1\" #\"cpu\"\n",
    "# Currently for generating graph only.\n",
    "g_seed = 114514"
   ]
  },
  {
   "cell_type": "code",
   "execution_count": 6,
   "metadata": {},
   "outputs": [],
   "source": [
    "DIR_BASE = \"F:/NOVELAI/astolfo_mix/sdxl/\" #To set up merger\n",
    "DIR_RAW = \"test/\" #To load N models"
   ]
  },
  {
   "cell_type": "code",
   "execution_count": 7,
   "metadata": {},
   "outputs": [],
   "source": [
    "MECHA_RECIPE_EXT = \".mecha\"\n",
    "MECHA_MODEL_EXT = \".safetensors\"\n",
    "\n",
    "MODEL_LIST_RAW = os.listdir(\"{}{}\".format(DIR_BASE,DIR_RAW))\n",
    "# Exclude yaml.\n",
    "MODEL_LIST_RAW = list(filter(lambda p: p.endswith(MECHA_MODEL_EXT), MODEL_LIST_RAW)) #p.endswith(\".ckpt\") or p.endswith(\".safetensors\") or p.endswith(\".bin\")\n",
    "#if len(MODEL_LIST_RAW) < 2:\n",
    "#    raise Exception(\"Need at least 2 models for merge.\")\n",
    "#model_list = list(map(lambda p: os.path.splitext(os.path.basename(p))[0], model_list))"
   ]
  },
  {
   "cell_type": "code",
   "execution_count": 8,
   "metadata": {},
   "outputs": [
    {
     "name": "stdout",
     "output_type": "stream",
     "text": [
      "1 raw models found.\n"
     ]
    }
   ],
   "source": [
    "print(\"{} raw models found.\".format(len(MODEL_LIST_RAW)))"
   ]
  },
  {
   "cell_type": "code",
   "execution_count": 9,
   "metadata": {},
   "outputs": [],
   "source": [
    "RESULT_CSV_DIR = \"./result_csv\"\n",
    "RESULT_PLT = \"./result.png\""
   ]
  },
  {
   "cell_type": "markdown",
   "metadata": {},
   "source": [
    "## Start dumping original codes. ##"
   ]
  },
  {
   "cell_type": "markdown",
   "metadata": {},
   "source": [
    "This is actually doing what [mega_cmp](https://github.com/6DammK9/nai-anime-pure-negative-prompt/blob/main/ch03/v2a/mega_cmp.ipynb) does."
   ]
  },
  {
   "cell_type": "code",
   "execution_count": 10,
   "metadata": {},
   "outputs": [],
   "source": [
    "def compute_distances(model_paths, text_dict, device=\"cuda\"):\n",
    "    results = {\n",
    "        \"Cosine\": {},\n",
    "        \"Euclidean\": {},\n",
    "        \"Manhattan\": {},\n",
    "        \"Lengths\": {},  # Store the lengths of embeddings here\n",
    "        \"Embeddings\": {},\n",
    "    }\n",
    "\n",
    "    for model_path in tqdm(model_paths, desc='Obtaining prompt embeddings from model', position=0):\n",
    "        pipeline = StableDiffusionXLPipeline.from_single_file(os.path.join(\"{}{}\".format(DIR_BASE,DIR_RAW), model_path), use_safetensors=True)\n",
    "        pipeline.to(device)\n",
    "        tokenizer = pipeline.tokenizer_2\n",
    "        text_encoder = pipeline.text_encoder_2\n",
    "\n",
    "        # Extract text list for tokenization\n",
    "        text_list = list(text_dict.values())\n",
    "\n",
    "        # Tokenize the input text\n",
    "        text_input_ids = tokenizer(\n",
    "            text_list, truncation=True, padding=\"max_length\", max_length=tokenizer.model_max_length, return_tensors=\"pt\"\n",
    "        ).input_ids.to(device)\n",
    "        # tokens_one = tokenizers[0](\n",
    "        #     captions, truncation=True, padding=\"max_length\", max_length=tokenizers[0].model_max_length, return_tensors=\"pt\"\n",
    "        # ).input_ids \n",
    "\n",
    "        clip_skip = 2\n",
    "        #enc_out = text_encoder(tokens, output_hidden_states=True, return_dict=True)\n",
    "\n",
    "        prompt_embeds = text_encoder(\n",
    "            text_input_ids.to(text_encoder.device),\n",
    "            output_hidden_states=True,\n",
    "        )\n",
    "\n",
    "        pooled_prompt_embeds = prompt_embeds[0]\n",
    "        \n",
    "        clip_skip = 1\n",
    "        prompt_embeds = prompt_embeds.hidden_states[-clip_skip]\n",
    "        bs_embed, seq_len, _ = prompt_embeds.shape\n",
    "        prompt_embeds = prompt_embeds.view(bs_embed, seq_len, -1)\n",
    "\n",
    "        prompt_embeds = prompt_embeds.view(bs_embed, -1) # stack the sequences onto embeddings\n",
    "        prompt_embeds = prompt_embeds / prompt_embeds.norm(dim=1, keepdim=True)\n",
    "\n",
    "        \n",
    "        # Compute cosine similarities\n",
    "        \n",
    "        cosine_similarities = torch.mm(prompt_embeds, prompt_embeds.T)\n",
    "\n",
    "        # Compute Euclidean and Manhattan distances\n",
    "        embeddings_np = prompt_embeds.cpu().numpy()\n",
    "        euclidean_distances = distance_matrix(embeddings_np, embeddings_np)\n",
    "        manhattan_distances = distance_matrix(embeddings_np, embeddings_np, p=1)\n",
    "\n",
    "        # Store results\n",
    "        model_name = os.path.basename(model_path)\n",
    "        index_labels = list(text_dict.keys())\n",
    "        results[\"Cosine\"][model_name] = pd.DataFrame(cosine_similarities.cpu().numpy(), index=index_labels, columns=index_labels)\n",
    "        results[\"Euclidean\"][model_name] = pd.DataFrame(euclidean_distances, index=index_labels, columns=index_labels)\n",
    "        results[\"Manhattan\"][model_name] = pd.DataFrame(manhattan_distances, index=index_labels, columns=index_labels)\n",
    "        #results[\"Lengths\"][model_name] = embedding_lengths.cpu().numpy()\n",
    "        results['Embeddings'][model_name] = embeddings_np\n",
    "\n",
    "    return results"
   ]
  },
  {
   "cell_type": "markdown",
   "metadata": {},
   "source": [
    "Console log is a bad idea. I modify it to output as CSV."
   ]
  },
  {
   "cell_type": "code",
   "execution_count": 11,
   "metadata": {},
   "outputs": [],
   "source": [
    "def print_results(results, decimals=3, log_file_dir=\"./result_csv\"):\n",
    "    for distance_type, models in results.items():\n",
    "        if distance_type == 'Embeddings':\n",
    "            continue #It is NOT a distance \n",
    "        for model_name, df in models.items():\n",
    "            #Sometimes it is ndarray, cast to pd.DataFrame again\n",
    "            df = pd.DataFrame(df)\n",
    "            #print(f\"\\nModel: {model_name}\")    \n",
    "            formatted_df = df.round(decimals)            \n",
    "            #print(formatted_df)\n",
    "            formatted_df.to_csv('{}/{}-{}.csv'.format(log_file_dir, distance_type, model_name))  \n",
    "        #print(\"\\n\" + \"-\"*40)"
   ]
  },
  {
   "cell_type": "code",
   "execution_count": 12,
   "metadata": {},
   "outputs": [],
   "source": [
    "def visualize_embeddings(embeddings_dict, text_dict, markers_dict, method='tsne', n_components=2, random_state=42, plt_path=\"./result.png\"):\n",
    "    n_models = len(embeddings_dict)\n",
    "    n_cols = 3  # Adjust based on how many columns you want in your subplot grid\n",
    "    n_rows = (n_models + n_cols - 1) // n_cols\n",
    "\n",
    "    fig, axes = plt.subplots(n_rows, n_cols, figsize=(n_cols * 6, n_rows * 6))\n",
    "    axes = axes.flatten()\n",
    "\n",
    "    for idx, (model_name, embeddings) in tqdm(enumerate(embeddings_dict.items()), desc='Generating plots', position=0):\n",
    "        if method == 'tsne':\n",
    "            embeddings_reduced = TSNE(n_components=n_components, perplexity=min(len(embeddings) - 1, 30), random_state=random_state).fit_transform(embeddings)\n",
    "        elif method == 'pca':\n",
    "            pca = PCA(n_components=n_components, random_state=random_state)\n",
    "            embeddings_reduced = pca.fit_transform(embeddings)\n",
    "            # Capture the explained variance ratios for PCA1 and PCA2\n",
    "            explained_var_ratio = pca.explained_variance_ratio_ * 100  # Convert to percentage\n",
    "        else:\n",
    "            raise ValueError(\"Method must be 'tsne' or 'pca'.\")\n",
    "\n",
    "        ax = axes[idx]\n",
    "        scatter_plots = []\n",
    "        for i, (label, text) in enumerate(text_dict.items()):\n",
    "            marker = markers_dict.get(label, 'o')\n",
    "            scatter = ax.scatter(embeddings_reduced[i, 0], embeddings_reduced[i, 1], label=text, marker=marker)\n",
    "            scatter_plots.append(scatter)\n",
    "        ax.set_title(f'{method.upper()} of {model_name}')\n",
    "\n",
    "        if method == 'pca':\n",
    "            # Set the axis labels with the explained variance\n",
    "            ax.set_xlabel(f'PCA1 - {explained_var_ratio[0]:.2f}%')\n",
    "            ax.set_ylabel(f'PCA2 - {explained_var_ratio[1]:.2f}%')\n",
    "\n",
    "        # Only place the legend in the rightmost column plots\n",
    "        if (idx + 1) % n_cols == 0:\n",
    "            ax.legend(handles=scatter_plots, loc='center left', bbox_to_anchor=(1, 0.5), ncol=1 if len(text_dict) <= 10 else 2)\n",
    "\n",
    "    # Hide unused subplots\n",
    "    for i in range(n_models, n_rows * n_cols):\n",
    "        axes[i].axis('off')\n",
    "\n",
    "    plt.tight_layout(pad=3.0)\n",
    "    plt.subplots_adjust(right=0.8 if n_cols > 1 else 0.95)  # Adjust right edge to fit legends if multiple columns\n",
    "    plt.savefig(plt_path)\n",
    "    plt.show()"
   ]
  },
  {
   "cell_type": "code",
   "execution_count": 13,
   "metadata": {},
   "outputs": [],
   "source": [
    "# Main setup\n",
    "device = g_device\n",
    "text_dict = {\n",
    "    \"DSS\": \"doggystyle sex\", \n",
    "    \"MSS\": \"missionary sex\", \n",
    "    \"RSC\": \"reverse_suspended_congress\", \n",
    "    \"MPS\": \"mating press\", \n",
    "    \"INT\": \"interracial\",\n",
    "    \"FEL\": \"fellatio\",\n",
    "    \"BLO\": \"blowjob\",\n",
    "    \"ROS\": \"rough_sex\",\n",
    "    \"CUM\": \"cum\",\n",
    "    \"s1\": \"penis\",\n",
    "    \"s2\": \"vagina\",\n",
    "    \"s3\": \"anal\",\n",
    "    \"s4\": \"oral\",\n",
    "    \"POV\": \"pov\",\n",
    "    \"SID\": \"side_view\",\n",
    "    \"w1\":\"pineapple\", \n",
    "    \"w2\":\"pen\",\n",
    "    \"w3\":\"dog\", \n",
    "    \"w4\":\"cat\",\n",
    "    \"w5\": \"woman\",\n",
    "    \"w6\": \"man\",\n",
    "    \"w7\": \"1boy\",\n",
    "    \"w8\": \"1girl\",\n",
    "    \"w9\": \"landscape\",\n",
    "    \"w10\": \"scenery\",\n",
    "    \"w11\": \"love\",\n",
    "    \"w12\": \"hairbow\",\n",
    "    \"w13\": \"blonde\",\n",
    "    \"w14\": \"ginger\",\n",
    "    \"w15\": \"hair\",\n",
    "    \"w16\": \"toes\",\n",
    "    \"w17\": \"hero\",\n",
    "    \"w18\": \"giant\",\n",
    "    \"w19\": \"orgasm\",\n",
    "    \"w20\": \"grape\",\n",
    "    \"w21\": \"testicles\",\n",
    "    \"t1\": \"photography\",\n",
    "    \"t2\": \"anime\",\n",
    "    \"g1\":\"beautiful\", \n",
    "    \"g2\":\"awe inspiring\",\n",
    "    \"b1\":\"mutation\", \n",
    "    \"b2\":\"ugly\",\n",
    "}\n",
    "\n",
    "markers_dict  = {\n",
    "    \"DSS\": \"x\", \n",
    "    \"MSS\": \"x\", \n",
    "    \"RSC\": \"x\", \n",
    "    \"MPS\": \"x\", \n",
    "    \"INT\": \"x\",\n",
    "    \"FEL\": \"x\",\n",
    "    \"BLO\": \"x\",\n",
    "    \"CUM\": \"x\",\n",
    "    \"t1\":\"s\", \n",
    "    \"t2\":\"s\",\n",
    "    \"g1\":\"^\", \n",
    "    \"g2\":\"^\",\n",
    "    \"b1\":\"v\", \n",
    "    \"b2\":\"v\",\n",
    "}\n",
    "\n",
    "\"\"\"\n",
    "'o': Circle\n",
    "'s': Square\n",
    "'D': Diamond\n",
    "'^': Triangle up\n",
    "'v': Triangle down\n",
    "'>': Triangle right\n",
    "'<': Triangle left\n",
    "'p': Pentagon\n",
    "'+': Plus\n",
    "'x': X\n",
    "'.': Point\n",
    "'*': Star\n",
    "\"\"\"\n",
    "\n",
    "model_paths = MODEL_LIST_RAW"
   ]
  },
  {
   "cell_type": "code",
   "execution_count": 14,
   "metadata": {},
   "outputs": [],
   "source": [
    "def main_loop():\n",
    "    with torch.no_grad():\n",
    "        # Compute distances\n",
    "        results = compute_distances(model_paths, text_dict)\n",
    "\n",
    "        # Print results organized by distance type, then by model\n",
    "        print_results(results, 4, RESULT_CSV_DIR)\n",
    "\n",
    "    #Must be 2 components only because the plot is a 2D image.\n",
    "    IMAGE_DIM = 2\n",
    "    visualize_embeddings(results['Embeddings'], text_dict, markers_dict, method='pca', n_components=IMAGE_DIM, random_state=g_seed, plt_path=RESULT_PLT)\n",
    "    #visualize_embeddings(results['Embeddings'], text_dict, markers_dict, method='tsne')"
   ]
  },
  {
   "cell_type": "code",
   "execution_count": 15,
   "metadata": {},
   "outputs": [
    {
     "name": "stderr",
     "output_type": "stream",
     "text": [
      "Obtaining prompt embeddings from model:   0%|          | 0/1 [00:00<?, ?it/s]"
     ]
    },
    {
     "name": "stderr",
     "output_type": "stream",
     "text": [
      "Obtaining prompt embeddings from model: 100%|██████████| 1/1 [00:57<00:00, 57.92s/it]\n",
      "Generating plots: 1it [00:00,  4.31it/s]\n"
     ]
    },
    {
     "data": {
      "image/png": "[encoded data removed]",
      "text/plain": [
       "<Figure size 1800x600 with 3 Axes>"
      ]
     },
     "metadata": {},
     "output_type": "display_data"
    }
   ],
   "source": [
    "main_loop()"
   ]
  },
  {
   "cell_type": "code",
   "execution_count": null,
   "metadata": {},
   "outputs": [],
   "source": []
  }
 ],
 "metadata": {
  "anaconda-cloud": {},
  "kernelspec": {
   "display_name": "Python 3",
   "language": "python",
   "name": "python3"
  },
  "language_info": {
   "codemirror_mode": {
    "name": "ipython",
    "version": 3
   },
   "file_extension": ".py",
   "mimetype": "text/x-python",
   "name": "python",
   "nbconvert_exporter": "python",
   "pygments_lexer": "ipython3",
   "version": "3.12.1"
  },
  "toc": {
   "base_numbering": 1,
   "nav_menu": {},
   "number_sections": true,
   "sideBar": true,
   "skip_h1_title": false,
   "title_cell": "Table of Contents",
   "title_sidebar": "Contents",
   "toc_cell": false,
   "toc_position": {},
   "toc_section_display": true,
   "toc_window_display": false
  }
 },
 "nbformat": 4,
 "nbformat_minor": 4
}
