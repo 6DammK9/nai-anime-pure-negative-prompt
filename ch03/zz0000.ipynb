{
 "cells": [
  {
   "cell_type": "markdown",
   "id": "019fd4e3-4c88-43a3-a2bb-3ec4c7d0fa92",
   "metadata": {
    "tags": []
   },
   "source": [
    "# Mega similarity check #\n",
    "\n",
    "- Not scientific. Just merging random codes together"
   ]
  },
  {
   "cell_type": "code",
   "execution_count": 1,
   "id": "1b6517a1-1515-415c-819d-5b496e5676e6",
   "metadata": {},
   "outputs": [],
   "source": [
    "from pathlib import Path\n",
    "import click\n",
    "import torch\n",
    "#import numpy as np\n",
    "import json \n",
    "from safetensors.torch import load_file"
   ]
  },
  {
   "cell_type": "code",
   "execution_count": 2,
   "id": "300ccc5b-4363-4002-8018-30e72fd0fd59",
   "metadata": {},
   "outputs": [],
   "source": [
    "g_device = \"cpu\""
   ]
  },
  {
   "cell_type": "code",
   "execution_count": 3,
   "id": "b8ee09f7-dcac-4e7f-908e-5fb14bdd9cb7",
   "metadata": {},
   "outputs": [],
   "source": [
    "def load_model(path: Path, device: str, print_ptl_info=False) -> dict[str, torch.Tensor]:\n",
    "    if \".safetensors\" in path.suffixes:\n",
    "        return load_file(path, device=device)\n",
    "    else:\n",
    "        ckpt = torch.load(path, map_location=device)\n",
    "        if print_ptl_info and \"epoch\" in ckpt and \"global_step\" in ckpt:\n",
    "            print(f\"[I] {path.name}: epoch {ckpt['epoch']}, step {ckpt['global_step']}\")\n",
    "        return ckpt[\"state_dict\"] if \"state_dict\" in ckpt else ckpt\n",
    "\n",
    "\n",
    "def check_equal_shape(a: torch.Tensor, b: torch.Tensor, fn):\n",
    "    if a.shape != b.shape:\n",
    "        return float('nan') #\"DIFFERENT SHAPE\"\n",
    "\n",
    "    return fn(a.type(torch.float),b.type(torch.float))\n",
    "    #return fn(a.reshape(-1), b.reshape(-1))\n",
    "\n",
    "\n",
    "METRIC_MAP = {\n",
    "    \"equal\": torch.equal,\n",
    "    \"l1\": lambda a, b: check_equal_shape(a, b, lambda a, b: torch.dist(a, b, p=1)),\n",
    "    \"l2\": lambda a, b: check_equal_shape(a, b, lambda a, b: torch.dist(a, b, p=2)),\n",
    "    \"cossim\": lambda a, b: check_equal_shape(a, b, lambda a, b: torch.mean(torch.cosine_similarity(a, b, dim=0)))\n",
    "}"
   ]
  },
  {
   "cell_type": "code",
   "execution_count": 4,
   "id": "8ef0b25b-61e4-4bfb-8bcc-cbbf8e148753",
   "metadata": {},
   "outputs": [],
   "source": [
    "def cmp_c(a_path, b_path, device, metric, no_ptl_info):\n",
    "    metric_fn = METRIC_MAP[metric]\n",
    "    \n",
    "    try:\n",
    "        a_path = a_path.decode('UTF-8')\n",
    "        b_path = b_path.decode('UTF-8')\n",
    "    except:\n",
    "        #No need\n",
    "        pass\n",
    "\n",
    "    a = load_model(Path(a_path), device, not no_ptl_info)\n",
    "    b = load_model(Path(b_path), device, not no_ptl_info)\n",
    "\n",
    "    ak = set(a.keys())\n",
    "    bk = set(b.keys())\n",
    "    \n",
    "    keys_inter = ak.intersection(bk)\n",
    "    da = list(ak.difference(bk))\n",
    "    db = list(bk.difference(ak))\n",
    "    kv = {}\n",
    "    for k in keys_inter:\n",
    "        kv[k] = metric_fn(a[k], b[k]).numpy().tolist()\n",
    "    return kv, da, db"
   ]
  },
  {
   "cell_type": "code",
   "execution_count": 5,
   "id": "4cc121bc-e1c9-4e0a-84b9-ad2e50eb4cf6",
   "metadata": {},
   "outputs": [],
   "source": [
    "def cmp_json(pa,pb,ofp,d=\"l2\",npi=True):\n",
    "    kv, da, db = cmp_c(Path(pa), Path(pb), g_device, d, npi)\n",
    "    dj = {'kv':kv, 'da':da, 'db':db}\n",
    "    with open(ofp, \"w\") as outfile:\n",
    "        json.dump(dj, outfile, indent=4, sort_keys=True)"
   ]
  },
  {
   "cell_type": "code",
   "execution_count": 6,
   "id": "55067342-8567-472c-9a07-dbbb4b210c3c",
   "metadata": {},
   "outputs": [],
   "source": [
    "# Testing: Obvious result\n",
    "cmp_json(\"./cosmoany.safetensors\", \"./cosmoany.safetensors\", \"ignore/test.json\")"
   ]
  },
  {
   "cell_type": "code",
   "execution_count": 7,
   "id": "7ec907bb-1ef8-47ae-b980-118a391d81ed",
   "metadata": {},
   "outputs": [],
   "source": [
    "# VAE: WD only\n",
    "pa = \"../../stable-diffusion-webui/tmp/VAE/kl-f8-anime.ckpt\"\n",
    "pb = \"../../stable-diffusion-webui/tmp/VAE/kl-f8-anime2.ckpt\"\n",
    "ofp = \"ignore/vae_wd.json\"\n",
    "cmp_json(pa, pb, ofp)"
   ]
  },
  {
   "cell_type": "code",
   "execution_count": 8,
   "id": "e2044cf4-7a06-40b0-8b46-9ed370da1da3",
   "metadata": {},
   "outputs": [],
   "source": [
    "# VAE: SD vs WD\n",
    "pa = \"../../stable-diffusion-webui/tmp/VAE/vae-ft-mse-840000-ema-pruned.ckpt\"\n",
    "pb = \"../../stable-diffusion-webui/tmp/VAE/kl-f8-anime2.ckpt\"\n",
    "ofp = \"ignore/vae_sdwd.json\"\n",
    "cmp_json(pa, pb, ofp)"
   ]
  },
  {
   "cell_type": "code",
   "execution_count": 9,
   "id": "34151561-a67b-4957-82f0-1e45adb66f38",
   "metadata": {},
   "outputs": [],
   "source": [
    "# VAE: SD vs NAI\n",
    "pa = \"../../stable-diffusion-webui/tmp/VAE/vae-ft-mse-840000-ema-pruned.ckpt\"\n",
    "pb = \"../../stable-diffusion-webui/tmp/VAE/animevae.pt\"\n",
    "ofp = \"ignore/vae_sdnai.json\"\n",
    "cmp_json(pa, pb, ofp)"
   ]
  },
  {
   "cell_type": "code",
   "execution_count": 10,
   "id": "5da0d330-10ab-47aa-980c-4c09cd758870",
   "metadata": {},
   "outputs": [],
   "source": [
    "# VAE: WD vs NAI\n",
    "pa = \"../../stable-diffusion-webui/tmp/VAE/kl-f8-anime2.ckpt\"\n",
    "pb = \"../../stable-diffusion-webui/tmp/VAE/animevae.pt\"\n",
    "ofp = \"ignore/vae_wdnai.json\"\n",
    "cmp_json(pa, pb, ofp)"
   ]
  },
  {
   "cell_type": "markdown",
   "id": "503b9db4-4a84-4988-a51e-31493502beeb",
   "metadata": {},
   "source": [
    "### Difference ###\n",
    "- SD: None\n",
    "- WD1: `encoder`, `decoder`\n",
    "- WD2: `decoder`\n",
    "- NAI: `decoder`"
   ]
  },
  {
   "cell_type": "code",
   "execution_count": 11,
   "id": "a587ee82-6cd6-404f-bc2c-72499d4a227c",
   "metadata": {},
   "outputs": [],
   "source": [
    "# SD: SD vs any3\n",
    "pa = \"../../stable-diffusion-webui/models/Stable-diffusion/sd-v1-4-full-ema.ckpt\"\n",
    "pb = \"../../stable-diffusion-webui/models/Stable-diffusion/Anything-V3.0.ckpt\"\n",
    "ofp = \"ignore/sd_sd_any3.json\"\n",
    "cmp_json(pa, pb, ofp)"
   ]
  },
  {
   "cell_type": "code",
   "execution_count": 12,
   "id": "fd48fd7b-c371-43de-8388-8d75e6510d58",
   "metadata": {},
   "outputs": [],
   "source": [
    "# SD: SD v1.4 vs SD v1.5\n",
    "pa = \"../../stable-diffusion-webui/models/Stable-diffusion/sd-v1-2-full-ema.ckpt\"\n",
    "pb = \"../../stable-diffusion-webui/models/Stable-diffusion/sd-v1-4-full-ema.ckpt\"\n",
    "ofp = \"ignore/sd_sd_sd.json\"\n",
    "cmp_json(pa, pb, ofp)"
   ]
  },
  {
   "cell_type": "code",
   "execution_count": 13,
   "id": "82adf6df-f629-4537-8eab-e49fec8a9368",
   "metadata": {},
   "outputs": [],
   "source": [
    "# SD: any3 vs basil\n",
    "pa = \"../../stable-diffusion-webui/models/Stable-diffusion/Anything-V3.0.ckpt\"\n",
    "pb = \"../../stable-diffusion-webui/models/Stable-diffusion/basil_mix.ckpt\"\n",
    "ofp = \"ignore/sd_any3_basil.json\"\n",
    "cmp_json(pa, pb, ofp)"
   ]
  },
  {
   "cell_type": "code",
   "execution_count": 14,
   "id": "82118a30-4016-4f9a-89fa-e810b91ccdfd",
   "metadata": {},
   "outputs": [],
   "source": [
    "# SD: nai vs ac\n",
    "pa = \"../../stable-diffusion-webui/tmp/nodelaileak/lastmodel.ckpt\"\n",
    "pb = \"../../stable-diffusion-webui/models/Stable-diffusion/ACertainty.ckpt\"\n",
    "ofp = \"ignore/sd_nai_ac.json\"\n",
    "cmp_json(pa, pb, ofp)"
   ]
  },
  {
   "cell_type": "code",
   "execution_count": 17,
   "id": "6696596e-277c-4148-b8e5-11c28c64c505",
   "metadata": {},
   "outputs": [],
   "source": [
    "# SD: any3 vs any4\n",
    "pa = \"../../stable-diffusion-webui/models/Stable-diffusion/Anything-V3.0.ckpt\"\n",
    "pb = \"../../stable-diffusion-webui/models/Stable-diffusion/anything-v4.0-pruned.safetensors\"\n",
    "ofp = \"ignore/sd_any3_any4.json\"\n",
    "cmp_json(pa, pb, ofp)"
   ]
  },
  {
   "cell_type": "markdown",
   "id": "8644af64-fc44-4c77-9a2b-631f7c8ead0b",
   "metadata": {},
   "source": [
    "### Difference ###\n",
    "- SD: None\n",
    "- NAI: Some `cumprod` layers dropped\n",
    "- ANY3: Same as NAI (merged)\n",
    "- AC: Same as NAI (???)"
   ]
  },
  {
   "cell_type": "code",
   "execution_count": 15,
   "id": "908bac81-34c4-469e-993f-90345bc224e4",
   "metadata": {},
   "outputs": [],
   "source": [
    "# SD: nti vs bp\n",
    "pa = \"../../stable-diffusion-webui/models/Stable-diffusion/NMFSAN2-ep20.safetensors\"\n",
    "pb = \"../../stable-diffusion-webui/models/Stable-diffusion/bp_nman_e29.safetensors\"\n",
    "ofp = \"ignore/sd_bp_nti.json\"\n",
    "cmp_json(pa, pb, ofp)"
   ]
  },
  {
   "cell_type": "code",
   "execution_count": 16,
   "id": "278d40d5-c0a5-4970-ae63-f045a78856b4",
   "metadata": {},
   "outputs": [],
   "source": [
    "# SD: nti vs any4\n",
    "pa = \"../../stable-diffusion-webui/models/Stable-diffusion/NMFSAN2-ep20.safetensors\"\n",
    "pb = \"../../stable-diffusion-webui/models/Stable-diffusion/anything-v4.0-pruned.safetensors\"\n",
    "ofp = \"ignore/sd_nti_any4.json\"\n",
    "cmp_json(pa, pb, ofp)"
   ]
  },
  {
   "cell_type": "markdown",
   "id": "6a441a75-512b-495c-8263-d448a3580108",
   "metadata": {},
   "source": [
    "### Special case ###\n",
    "- NTI: No `text_model` = `clip-vit-large-patch14`"
   ]
  },
  {
   "cell_type": "code",
   "execution_count": null,
   "id": "ab90b274-4af2-4cf9-a799-160bb842234a",
   "metadata": {},
   "outputs": [],
   "source": []
  }
 ],
 "metadata": {
  "kernelspec": {
   "display_name": "Python 3 (ipykernel)",
   "language": "python",
   "name": "python3"
  },
  "language_info": {
   "codemirror_mode": {
    "name": "ipython",
    "version": 3
   },
   "file_extension": ".py",
   "mimetype": "text/x-python",
   "name": "python",
   "nbconvert_exporter": "python",
   "pygments_lexer": "ipython3",
   "version": "3.10.8"
  }
 },
 "nbformat": 4,
 "nbformat_minor": 5
}
