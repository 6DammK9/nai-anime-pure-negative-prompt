{
 "cells": [
  {
   "cell_type": "markdown",
   "metadata": {},
   "source": [
    "# Amplify Diff: Add difference with doubled M #\n",
    "\n",
    "Making \"amplified difference\" merge, an intermediate step for making the Re-Basin merge. \n",
    "\n",
    "## Abstract ##\n",
    "\n",
    "- This is a special case of my *mega* merge. Usually `add_diff`  is not supassing 1, at least in [A1111](https://github.com/AUTOMATIC1111/stable-diffusion-webui/wiki/Features#checkpoint-merger). This time I need 2.\n",
    "\n",
    "## Expected \"Model A\" and \"Model B\" ##\n",
    "\n",
    "- Both models are expected to be merged from [sd-mecha](https://github.com/ljleb/sd-mecha), **and comed from the same model pool.** Currently my model pool consists of of 102 models.\n",
    "- Base Model (not used): OG SDXL 1.0\n",
    "- Model A: $A$ as [Uniform merge](https://arxiv.org/abs/2203.05482).\n",
    "- Model B: $B$ as [DARE (ICML2024)](https://arxiv.org/abs/2311.03099), \"TIES-SOUP w/ DARE\", along with DROP only (no rescale)\n",
    "\n",
    "## Expected output and algorithm discussion ##\n",
    "\n",
    "- Target model: $A + (B - A) * 2 = 2B - A$ where $M=2$\n",
    "- $M=1$ will definitely return $B$.\n",
    "- Model B, which is TIES based, uses \"averaging with sign (or movement) voting\", which should be close to averaging also.\n",
    "- Target model will be merged again with Model A under [Git Basin](https://arxiv.org/abs/2209.04836), which pivots on the [mid point](https://en.wikipedia.org/wiki/Midpoint) first: $(A + 2B - A) / 2 = B$,which is between $A$ and $2B - A$, the *amplified differnece*. \n",
    "- Then under an [optimization problem](https://docs.scipy.org/doc/scipy/reference/generated/scipy.optimize.linear_sum_assignment.html), the model will shift slightly from B. \n",
    "- The *slight shift* has been discovered in [my previous work](../ch01/rebasin.md#yes-time-to-make-pr), and I will do it [seperately](https://github.com/ogkalu2/Merge-Stable-Diffusion-models-without-distortion).\n",
    "\n",
    "## Required libraries ##\n",
    "\n",
    "- `torch>=2.0.1`\n",
    "- `tensordict`\n",
    "- `sd-mecha` (I prefer [clone](https://github.com/6DammK9/sd-mecha/tree/main) the source code inplace,current version as on 241011, branch [della](https://github.com/6DammK9/sd-mecha/tree/della)), until [this PR](https://github.com/ljleb/sd-mecha/pull/41) has been merged.\n",
    "- [safetensors](https://huggingface.co/docs/safetensors/index)\n",
    "- [diffusers](https://huggingface.co/docs/diffusers/installation)\n",
    "- [pytorch](https://pytorch.org/get-started/locally/#windows-python)\n",
    "\n",
    "## Limitation ##\n",
    "\n",
    "- ~~VAE remains unmanaged.~~ VAE can be picked from one of the raw models.\n",
    "- SDXL models only. I don't need this for SD1 and SD2.\n",
    "- Safetensors only. \n",
    "\n",
    "## WTF why and will it work? ##\n",
    "\n",
    "- Yes. [It is part of my research](./README_XL.md).\n",
    "- Image comparasion will be listed there."
   ]
  },
  {
   "cell_type": "markdown",
   "metadata": {},
   "source": [
    "## Importing libraries ##"
   ]
  },
  {
   "cell_type": "code",
   "execution_count": 1,
   "metadata": {},
   "outputs": [],
   "source": [
    "# Built-in\n",
    "import time\n",
    "import os\n",
    "import math\n",
    "\n",
    "# Is dependency fufilled?\n",
    "import torch\n",
    "\n",
    "from tqdm import tqdm"
   ]
  },
  {
   "cell_type": "code",
   "execution_count": 2,
   "metadata": {},
   "outputs": [
    {
     "data": {
      "text/plain": [
       "'2.6.0+cu126'"
      ]
     },
     "execution_count": 2,
     "metadata": {},
     "output_type": "execute_result"
    }
   ],
   "source": [
    "torch.__version__"
   ]
  },
  {
   "cell_type": "code",
   "execution_count": 3,
   "metadata": {},
   "outputs": [],
   "source": [
    "# Import the main module.\n",
    "import sd_mecha\n",
    "\n",
    "sd_mecha.set_log_level() #INFO"
   ]
  },
  {
   "cell_type": "code",
   "execution_count": 4,
   "metadata": {},
   "outputs": [],
   "source": [
    "# Fix for OMP: Error #15\n",
    "os.environ[\"KMP_DUPLICATE_LIB_OK\"] = \"TRUE\""
   ]
  },
  {
   "cell_type": "markdown",
   "metadata": {},
   "source": [
    "## User input session starts here. ##"
   ]
  },
  {
   "cell_type": "markdown",
   "metadata": {},
   "source": [
    "Specify all the paths."
   ]
  },
  {
   "cell_type": "code",
   "execution_count": 5,
   "metadata": {},
   "outputs": [],
   "source": [
    "DIR_BASE = \"F:/NOVELAI/astolfo_mix/sdxl/\" #To set up merger\n",
    "\n",
    "DIR_RAW = \"raw/\" #To load N models\n",
    "DIR_CLIP = \"clip/\"  #To write 3N models\n",
    "DIR_UNET = \"unet/\" #To write N models\n",
    "DIR_FINAL = \"./\" #To write 1 model"
   ]
  },
  {
   "cell_type": "markdown",
   "metadata": {},
   "source": [
    "Quick check on directory and make the model name prefix."
   ]
  },
  {
   "cell_type": "code",
   "execution_count": 6,
   "metadata": {},
   "outputs": [],
   "source": [
    "MECHA_RECIPE_EXT = \".mecha\"\n",
    "MECHA_MODEL_EXT = \".safetensors\""
   ]
  },
  {
   "cell_type": "markdown",
   "metadata": {},
   "source": [
    "Define model A and B."
   ]
  },
  {
   "cell_type": "code",
   "execution_count": 7,
   "metadata": {},
   "outputs": [],
   "source": [
    "MODEL_A = \"noobaiXLNAIXL_epsilonPred11Version\"\n",
    "MODEL_B = \"x6a-AstolfoKarMix-25071602-5818193\"\n",
    "\n",
    "MODEL_A_PATH = \"{}{}{}\".format(DIR_FINAL, MODEL_A, MECHA_MODEL_EXT)\n",
    "MODEL_B_PATH = \"{}{}{}\".format(DIR_FINAL, MODEL_B, MECHA_MODEL_EXT)"
   ]
  },
  {
   "cell_type": "code",
   "execution_count": 8,
   "metadata": {},
   "outputs": [
    {
     "name": "stdout",
     "output_type": "stream",
     "text": [
      "Model A: ./noobaiXLNAIXL_epsilonPred11Version.safetensors\n",
      "Model B: ./x6a-AstolfoKarMix-25071602-5818193.safetensors\n"
     ]
    }
   ],
   "source": [
    "print(\"Model A: {}\".format(MODEL_A_PATH))\n",
    "print(\"Model B: {}\".format(MODEL_B_PATH))"
   ]
  },
  {
   "cell_type": "markdown",
   "metadata": {},
   "source": [
    "Insert version number, and the... *\"AstolfoMix\"*.\n",
    "\n",
    "If you want to make multiple versions of AstolfoMix with different algorithms, I suggest modify the `MODEL_NAME_KEYWORD`."
   ]
  },
  {
   "cell_type": "code",
   "execution_count": 9,
   "metadata": {},
   "outputs": [],
   "source": [
    "MODEL_NAME_SUFFIX = \"25071602-5818193\" #yymmddxx-commit\n",
    "MODEL_NAME_KEYWORD = \"AstolfoKarmix\""
   ]
  },
  {
   "cell_type": "markdown",
   "metadata": {},
   "source": [
    "Change if your PC is in trouble.\n",
    "\n",
    "My WS: [Xeon 8358 ES, X12DPI-N6, 512GB DDR4, 2x RTX2080ti 22G, P4510 4TB *2](https://github.com/6DammK9/nai-anime-pure-negative-prompt/blob/main/ch04/ice_lake_ws.md). Overkill for a merger."
   ]
  },
  {
   "cell_type": "code",
   "execution_count": 10,
   "metadata": {},
   "outputs": [],
   "source": [
    "g_seed = 250716 #For reproducible result\n",
    "g_device = \"cpu\" #\"cuda:0\" if True else \"cpu\"  #I have 2 GPUS and this is the CPU slot\n",
    "g_precision_while_merge = torch.float64 if \"cuda\" in g_device else torch.float64 #I have RAM\n",
    "g_precision_final_model = torch.float16 if \"cuda\" in g_device else torch.float16 #fp16\n",
    "\n",
    "#240407: 2**34 will throw NaN issue. Stay with default = 2**28\n",
    "g_total_buffer_size=2**28\n",
    "#240507: (Not effective) DARE requires single thread to prevent OOM\n",
    "g_threads = 1 #if False else None"
   ]
  },
  {
   "cell_type": "markdown",
   "metadata": {},
   "source": [
    "## User input shuold ends here. ##"
   ]
  },
  {
   "cell_type": "markdown",
   "metadata": {},
   "source": [
    "Define output model name. I want to keep the format, however I need to manage the name manually."
   ]
  },
  {
   "cell_type": "code",
   "execution_count": 11,
   "metadata": {},
   "outputs": [],
   "source": [
    "MODEL_NAME_AMPLIFIED = \"amp-{}-{}\".format(MODEL_NAME_KEYWORD,MODEL_NAME_SUFFIX) #amp-AstolfoMix-240507-4edc67c"
   ]
  },
  {
   "cell_type": "code",
   "execution_count": 12,
   "metadata": {},
   "outputs": [
    {
     "name": "stdout",
     "output_type": "stream",
     "text": [
      "Amplified model:                         amp-AstolfoKarmix-25071602-5818193\n"
     ]
    }
   ],
   "source": [
    "print(\"Amplified model:                         {}\".format(MODEL_NAME_AMPLIFIED))"
   ]
  },
  {
   "cell_type": "markdown",
   "metadata": {},
   "source": [
    "Define recipe extension, and make the model output path (Note that it is still being formatted)"
   ]
  },
  {
   "cell_type": "code",
   "execution_count": 13,
   "metadata": {},
   "outputs": [],
   "source": [
    "\n",
    "OS_MODEL_PATH_AMPLIFIED = \"{}{}{}\".format(DIR_BASE,MODEL_NAME_AMPLIFIED,MECHA_MODEL_EXT)\n",
    "RECIPE_PATH_AMPLIFIED = \"{}{}{}\".format(DIR_BASE,MODEL_NAME_AMPLIFIED,MECHA_RECIPE_EXT)\n",
    "MECHA_MODEL_PATH_AMPLIFIED = \"{}{}{}\".format(DIR_FINAL,MODEL_NAME_AMPLIFIED,MECHA_MODEL_EXT)"
   ]
  },
  {
   "cell_type": "code",
   "execution_count": 14,
   "metadata": {},
   "outputs": [
    {
     "name": "stdout",
     "output_type": "stream",
     "text": [
      "Amplified model path    (OS): F:/NOVELAI/astolfo_mix/sdxl/amp-AstolfoKarmix-25071602-5818193.safetensors\n",
      "Amplified model recipe  (OS): F:/NOVELAI/astolfo_mix/sdxl/amp-AstolfoKarmix-25071602-5818193.mecha\n",
      "Amplified model path (mecha): ./amp-AstolfoKarmix-25071602-5818193.safetensors\n"
     ]
    }
   ],
   "source": [
    "print(\"Amplified model path    (OS): {}\".format(OS_MODEL_PATH_AMPLIFIED))\n",
    "print(\"Amplified model recipe  (OS): {}\".format(RECIPE_PATH_AMPLIFIED))\n",
    "print(\"Amplified model path (mecha): {}\".format(MECHA_MODEL_PATH_AMPLIFIED))"
   ]
  },
  {
   "cell_type": "markdown",
   "metadata": {},
   "source": [
    "### Right before the merging stuffs, I need to clear some hardcode. ###\n",
    "- Note that I assume the VAE has been fixed."
   ]
  },
  {
   "cell_type": "code",
   "execution_count": 15,
   "metadata": {},
   "outputs": [],
   "source": [
    "MECHA_IS_SDXL = \"sdxl-sgm\"\n",
    "AMP_FACTOR = 2.0\n",
    "DISABLE_CLIP = False"
   ]
  },
  {
   "cell_type": "code",
   "execution_count": 16,
   "metadata": {},
   "outputs": [],
   "source": [
    "# 0.0.26: sd_mecha.RecipeMerger\n",
    "# 1.0.4: Just config\n",
    "MERGE_CONFIG = {\n",
    "    \"model_dirs\": [DIR_BASE],\n",
    "    \"merge_device\": g_device,\n",
    "    \"merge_dtype\": g_precision_while_merge,\n",
    "    \"output_device\": g_device,\n",
    "    \"output_dtype\": g_precision_final_model,\n",
    "    \"total_buffer_size\": g_total_buffer_size,\n",
    "    \"omit_extra_keys\": True,\n",
    "    \"threads\": g_threads\n",
    "}"
   ]
  },
  {
   "cell_type": "markdown",
   "metadata": {},
   "source": [
    "### Amplified Difference ###\n",
    "\n",
    "- Notice that `c` is required and it is same as `model_a`\n",
    "- Note that `alpha` is applied globally so it is just a single number.\n",
    "- Somehow `clip_to_ab` has been implemented to \"prevent model weight out of range\", so I need to turn it off."
   ]
  },
  {
   "cell_type": "code",
   "execution_count": 17,
   "metadata": {},
   "outputs": [],
   "source": [
    "def make_recipe_amp_diff():\n",
    "    casted_model_a = sd_mecha.model(MODEL_A_PATH, MECHA_IS_SDXL)\n",
    "    casted_model_b = sd_mecha.model(MODEL_B_PATH, MECHA_IS_SDXL)\n",
    "    casted_recipe = sd_mecha.add_difference(casted_model_a, casted_model_b, casted_model_a, alpha=AMP_FACTOR, clamp_to_ab=DISABLE_CLIP)\n",
    "    return casted_recipe"
   ]
  },
  {
   "cell_type": "code",
   "execution_count": 18,
   "metadata": {},
   "outputs": [],
   "source": [
    "recipe_amp_diff = make_recipe_amp_diff()"
   ]
  },
  {
   "cell_type": "code",
   "execution_count": 19,
   "metadata": {},
   "outputs": [
    {
     "name": "stderr",
     "output_type": "stream",
     "text": [
      "INFO: Saving recipe to F:\\NOVELAI\\astolfo_mix\\sdxl\\amp-AstolfoKarmix-25071602-5818193.mecha\n"
     ]
    },
    {
     "data": {
      "text/plain": [
       "'version 0.1.0\\nmodel \"noobaiXLNAIXL_epsilonPred11Version.safetensors\" model_config=\"sdxl-sgm\" merge_space=\"weight\"\\nmodel \"x6a-AstolfoKarMix-25071602-5818193.safetensors\" model_config=\"sdxl-sgm\" merge_space=\"weight\"\\nmerge \"subtract\" &1 &0\\nmerge \"add_difference\" &0 &2 2.0\\nmerge \"fallback\" &3 &0'"
      ]
     },
     "execution_count": 19,
     "metadata": {},
     "output_type": "execute_result"
    }
   ],
   "source": [
    "sd_mecha.serialize(recipe_amp_diff, output=RECIPE_PATH_AMPLIFIED)"
   ]
  },
  {
   "cell_type": "markdown",
   "metadata": {},
   "source": [
    "## Time for action ##"
   ]
  },
  {
   "cell_type": "code",
   "execution_count": 20,
   "metadata": {},
   "outputs": [],
   "source": [
    "ts = time.time()"
   ]
  },
  {
   "cell_type": "markdown",
   "metadata": {},
   "source": [
    "### Amplified Difference ###\n",
    "\n",
    "- No `fallback_model` because I expect model A and B are well prepared."
   ]
  },
  {
   "cell_type": "code",
   "execution_count": 21,
   "metadata": {},
   "outputs": [
    {
     "name": "stderr",
     "output_type": "stream",
     "text": [
      "Merging recipe:   0%|          | 0/2519 [00:00<?, ?it/s]INFO: Saving to F:\\NOVELAI\\astolfo_mix\\sdxl\\amp-AstolfoKarmix-25071602-5818193.safetensors\n",
      "Merging recipe: 100%|██████████| 2519/2519 [00:52<00:00, 47.88it/s, key=ztsnr, shape=[0]]                                                                                           "
     ]
    },
    {
     "name": "stdout",
     "output_type": "stream",
     "text": [
      "Merge time: 52 sec\n"
     ]
    },
    {
     "name": "stderr",
     "output_type": "stream",
     "text": [
      "\n"
     ]
    }
   ],
   "source": [
    "tss = time.time()\n",
    "\n",
    "if os.path.isfile(OS_MODEL_PATH_AMPLIFIED):\n",
    "    print(\"Merged model is present. Skipping.\")\n",
    "else:\n",
    "    #scheduler.merge_and_save(recipe_amp_diff, output=MECHA_MODEL_PATH_AMPLIFIED, save_dtype=g_precision_final_model, total_buffer_size=g_total_buffer_size, threads=g_threads)\n",
    "    sd_mecha.merge(recipe_amp_diff, output=MECHA_MODEL_PATH_AMPLIFIED, **MERGE_CONFIG)\n",
    "\n",
    "tse = time.time()\n",
    "print(\"Merge time: {} sec\".format(int(tse - tss)))    "
   ]
  },
  {
   "cell_type": "markdown",
   "metadata": {},
   "source": [
    "Full operation time."
   ]
  },
  {
   "cell_type": "code",
   "execution_count": 22,
   "metadata": {},
   "outputs": [
    {
     "name": "stdout",
     "output_type": "stream",
     "text": [
      "Total time: 52 sec\n"
     ]
    }
   ],
   "source": [
    "te = time.time()\n",
    "print(\"Total time: {} sec\".format(int(te - ts)))"
   ]
  },
  {
   "cell_type": "markdown",
   "metadata": {},
   "source": [
    "Finally move the models to the [git rebasin](https://github.com/ogkalu2/Merge-Stable-Diffusion-models-without-distortion) folder and merge them.\n",
    "\n",
    "```sh\n",
    "python SD_rebasin_merge.py --model_a x101a-AstolfoMix-24051501-29bac1a.safetensors --model_b amp-AstolfoMix-24051501-29bac1a.safetensors\n",
    "```"
   ]
  },
  {
   "cell_type": "code",
   "execution_count": null,
   "metadata": {},
   "outputs": [],
   "source": []
  }
 ],
 "metadata": {
  "anaconda-cloud": {},
  "kernelspec": {
   "display_name": "novelai-env",
   "language": "python",
   "name": "python3"
  },
  "language_info": {
   "codemirror_mode": {
    "name": "ipython",
    "version": 3
   },
   "file_extension": ".py",
   "mimetype": "text/x-python",
   "name": "python",
   "nbconvert_exporter": "python",
   "pygments_lexer": "ipython3",
   "version": "3.12.1"
  },
  "toc": {
   "base_numbering": 1,
   "nav_menu": {},
   "number_sections": true,
   "sideBar": true,
   "skip_h1_title": false,
   "title_cell": "Table of Contents",
   "title_sidebar": "Contents",
   "toc_cell": false,
   "toc_position": {},
   "toc_section_display": true,
   "toc_window_display": false
  }
 },
 "nbformat": 4,
 "nbformat_minor": 4
}
