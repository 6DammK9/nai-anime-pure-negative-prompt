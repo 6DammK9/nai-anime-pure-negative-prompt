{
 "cells": [
  {
   "cell_type": "markdown",
   "metadata": {},
   "source": [
    "# AstolfoMix E2E merger #\n",
    "\n",
    "Extensive use of \"N-Average\" and \"Split UNET / TE\".\n",
    "\n",
    "## Abstract ##\n",
    "\n",
    "- Base code: [n_average.py](https://github.com/ljleb/sd-mecha/blob/main/examples/n_average.py), [split_unet_text_encoder.py](https://github.com/ljleb/sd-mecha/blob/main/examples/split_unet_text_encoder.py) and [serialize_recipe.py](https://github.com/ljleb/sd-mecha/blob/main/examples/serialize_recipe.py)\n",
    "- Using [sd-mecha](https://github.com/ljleb/sd-mecha) as main library. **Thank you [@ljleb](https://github.com/ljleb/) for the codebase, [@illyaeater](https://github.com/Enferlain), and [@silveroxides](https://github.com/silveroxides) for the alpha tester.**\n",
    "- Each generated model will have its own model metadata and `*.mecha` ~~assembly like~~ [recipe](https://github.com/ljleb/sd-mecha/blob/main/examples/recipes/test_split_unet_text_encoder.mecha). Open it with text editor.\n",
    "- **No need to waste 1TB+ of disk space for pariwise merging and iterlate with WebUI.** However you should know the \"model pool\", otherwise it is likely result in a worse model. \n",
    "- Required time: 11 (RAW) + 70 * 3 * 1.66 (TE) + 67 (SELECTED_TE) + 70 * 2.83 (UNET) + 43.9 (FINAL) + 102.5 (E2E) minutes = **12.85 hours** for 70 models \n",
    "- CPU usage: **100% with AVX2.**\n",
    "- RAM usage: *Around 32GB*.\n",
    "- VRAM usage: *Around 4GB*. \n",
    "- Storage usage: $5N+3$ SDXL models, including $N$ raw models. For $N=70$, it will use **2.24TB** for the most efficient approach.\n",
    "- I intentionally make it into Python notebook because I need to switch mode this time.\n",
    "\n",
    "## Required libraries ##\n",
    "\n",
    "- `torch>=2.0.1`\n",
    "- `tensordict`\n",
    "- `sd-mecha` (I prefer [clone](https://github.com/ljleb/sd-mecha/tree/main) the source code inplace,current version as on 240406, commit `feefbf4fa7f82420ca36c3126d5466441da78a44`)\n",
    "- [safetensors](https://huggingface.co/docs/safetensors/index)\n",
    "- [diffusers](https://huggingface.co/docs/diffusers/installation)\n",
    "- [pytorch](https://pytorch.org/get-started/locally/#windows-python)\n",
    "\n",
    "## Model naming schema ##\n",
    "\n",
    "- `RAW` as `_x01`: Place all raw models. Will generate `x51a` as averaged model regardless components.\n",
    "- `CLIP` as `_x01te`: Will generate all models as `x51a` replaced with `_x01`'s TE. Will be a set of `te0`, `te1`, `te2`. Use these models for model selection. \n",
    "- `UNET` as `_x51a-x39te0x39te1`: *Require selected TEs.* Will generate all models as `_01`'s UNET and average of selected `te0` and `te1`. VAE will be `x51a`.\n",
    "- `FINAL` as `e2e`: Final model as `x45`.\n",
    "\n",
    "## Recommened directories to make ##\n",
    "\n",
    "- `raw`: Store the raw $N$ models\n",
    "- `clip`: Store $3N$ models for CLIP selection\n",
    "- `unet`: Store $N$ models for UNET selection\n",
    "\n",
    "## Operation Mode ##\n",
    "\n",
    "- [`RAW`, `CLIP`, `UNET`, `FINAL`]. Procedure will be *mutually exclusive*. I will keep restarting the whole notebook.\n",
    "\n",
    "## Limitation ##\n",
    "\n",
    "- ~~VAE remains unmanaged.~~ VAE can be picked from one of the raw models.\n",
    "- SDXL models only. I don't need this for SD1 and SD2.\n",
    "- Safetensors only. \n",
    "\n",
    "## WTF why and will it work? ##\n",
    "\n",
    "- Yes. [It is part of my research](./README_XL.md).\n",
    "- Image comparasion will be listed there."
   ]
  },
  {
   "cell_type": "markdown",
   "metadata": {},
   "source": [
    "## Appendix: Pseudocode of sd-mecha ##\n",
    "\n",
    "- Note that the core concept is different from WebUI or supermerger. It focus on [serialization](https://www.geeksforgeeks.org/serialization-in-java/), along with *multiple merging methods* and *custom applied areas*.\n",
    "\n",
    "- It will pick `model_b_as_recipe` for every merge key and `model_a` for every passthroguh key\n",
    "\n",
    "- Sample code: `model_b_as_recipe = sd_mecha.merge_methods(model_a, model_b_as_recipe, alpha, beta, etc) #returns model_a`\n",
    "\n",
    "- For example, in `n_average`, `alpha` tends to `1`, instead of `0` in WebUI. \n",
    "\n",
    "- Also, `pick_vae` will show a special case on \"bake VAE\": `model_a_instead = sd_mecha.merge_methods(model_a, model_b_as_recipe, alpha=1) #returns model_a`\n",
    "\n",
    "Algorithm `SD-MECHA`:\n",
    "\n",
    "------\n",
    "\n",
    "- Let\n",
    "\n",
    "$\\{model_A, model_B\\, model_C\\} \\in models$ and $arch_{models} \\in arch_{SD}$ and is consistant (i.e. $arch_{model_A}=arch_{model_B}$)\n",
    "\n",
    "$\\{SumAverage,AddDiff,Rotate,ReBasin, etc.\\} \\in merge$\n",
    "\n",
    "$\\{CLIP, UNET, VAE\\} \\in models$, but $\\{CLIP, UNET\\} \\in \\alpha, \\{VAE\\} \\notin \\alpha$\n",
    "\n",
    "$ \\alpha = [0,1] , \\alpha=0 \\implies model_A, \\alpha=1 \\implies model_B$\n",
    "\n",
    "- Repeat:\n",
    "\n",
    "$model_A, model_B, merge, \\alpha, \\beta, etc. \\leftarrow deserialize(recipe)$ or user defined\n",
    "\n",
    "$model_A \\leftarrow merge(model_A, model_B, \\alpha, \\beta, etc.)$\n",
    "\n",
    "$model_B \\leftarrow model_A$\n",
    "\n",
    "$recipe \\leftarrow serialize(model_B)$\n",
    "\n",
    "- Until no more $model_B$\n",
    "\n",
    "- Return $recipe$\n",
    "\n",
    "------"
   ]
  },
  {
   "cell_type": "markdown",
   "metadata": {},
   "source": [
    "## Importing libraries ##"
   ]
  },
  {
   "cell_type": "code",
   "execution_count": 1,
   "metadata": {},
   "outputs": [],
   "source": [
    "# Built-in\n",
    "import time\n",
    "import os\n",
    "import math\n",
    "\n",
    "# Is dependency fufilled?\n",
    "import torch\n",
    "\n",
    "from tqdm import tqdm"
   ]
  },
  {
   "cell_type": "code",
   "execution_count": 2,
   "metadata": {},
   "outputs": [
    {
     "data": {
      "text/plain": [
       "'2.2.1+cu121'"
      ]
     },
     "execution_count": 2,
     "metadata": {},
     "output_type": "execute_result"
    }
   ],
   "source": [
    "torch.__version__"
   ]
  },
  {
   "cell_type": "code",
   "execution_count": 3,
   "metadata": {},
   "outputs": [],
   "source": [
    "# Import the main module.\n",
    "import sd_mecha\n",
    "\n",
    "sd_mecha.set_log_level() #INFO"
   ]
  },
  {
   "cell_type": "code",
   "execution_count": 4,
   "metadata": {},
   "outputs": [],
   "source": [
    "# Fix for OMP: Error #15\n",
    "os.environ[\"KMP_DUPLICATE_LIB_OK\"] = \"TRUE\""
   ]
  },
  {
   "cell_type": "markdown",
   "metadata": {},
   "source": [
    "## User input session starts here. ##"
   ]
  },
  {
   "cell_type": "markdown",
   "metadata": {},
   "source": [
    "Specify all the paths."
   ]
  },
  {
   "cell_type": "code",
   "execution_count": 5,
   "metadata": {},
   "outputs": [],
   "source": [
    "DIR_BASE = \"F:/NOVELAI/astolfo_mix/sdxl/\" #To set up merger\n",
    "\n",
    "DIR_RAW = \"raw/\" #To load N models\n",
    "DIR_CLIP = \"clip/\"  #To write 3N models\n",
    "DIR_UNET = \"unet/\" #To write N models\n",
    "DIR_FINAL = \"./\" #To write 1 model"
   ]
  },
  {
   "cell_type": "markdown",
   "metadata": {},
   "source": [
    "Quick check on directory and make the model name prefix."
   ]
  },
  {
   "cell_type": "code",
   "execution_count": 6,
   "metadata": {},
   "outputs": [],
   "source": [
    "MECHA_RECIPE_EXT = \".mecha\"\n",
    "MECHA_MODEL_EXT = \".safetensors\"\n",
    "\n",
    "MODEL_LIST_RAW = os.listdir(\"{}{}\".format(DIR_BASE,DIR_RAW))\n",
    "# Exclude yaml.\n",
    "MODEL_LIST_RAW = list(filter(lambda p: p.endswith(MECHA_MODEL_EXT), MODEL_LIST_RAW)) #p.endswith(\".ckpt\") or p.endswith(\".safetensors\") or p.endswith(\".bin\")\n",
    "if len(MODEL_LIST_RAW) < 2:\n",
    "    raise Exception(\"Need at least 2 models for merge.\")\n",
    "#model_list = list(map(lambda p: os.path.splitext(os.path.basename(p))[0], model_list))"
   ]
  },
  {
   "cell_type": "code",
   "execution_count": 7,
   "metadata": {},
   "outputs": [
    {
     "name": "stdout",
     "output_type": "stream",
     "text": [
      "73 raw models found.\n"
     ]
    }
   ],
   "source": [
    "print(\"{} raw models found.\".format(len(MODEL_LIST_RAW)))"
   ]
  },
  {
   "cell_type": "markdown",
   "metadata": {},
   "source": [
    "Define model selection. Index start with 1. Check model list for ordering!\n",
    "```log\n",
    "te0: --,--,--,--,--,--,--,--,--,--,--,--,--,--,40,--,--,--,--,--,--,--,--,60,--,--,--,--=-2\n",
    "te1: 01,--,09,--,--,14,15,--,--,--,--,29,31,34,40,44,47,48,49,50,53,56,58,60,61,64,65,66=-21\n",
    "te2: --,--,09,--,--,14,15,--,--,--,--,--,31,34,40,44,47,48,--,50,53,56,58,60,61,64,65,66=-18\n",
    "=sd: --,03,--,10,12,--,--,16,18,19,25=-7\n",
    "\n",
    "te0: 03,10,12,16,18,19,25,40,60=-9\n",
    "te1: 01,03,09,10,12,14,15,16,18,19,25,29,31,34,40,44,47,48,49,50,53,56,58,60,61,64,65,66=-28\n",
    "unet: 02,08,14,29,39,41,44,48,50,53,55,56,58,60,61,64,65,66=-18\n",
    "```"
   ]
  },
  {
   "cell_type": "code",
   "execution_count": 8,
   "metadata": {},
   "outputs": [],
   "source": [
    "MODEL_SELECTION_TE0 = [i+1 for i in range(len(MODEL_LIST_RAW)) if i+1 not in [3,10,12,16,18,19,25,40,60]] \n",
    "MODEL_SELECTION_TE1 = [i+1 for i in range(len(MODEL_LIST_RAW)) if i+1 not in [1,3,9,10,12,14,15,16,18,19,25,29,31,34,40,44,47,48,49,50,53,56,58,60,61,64,65,66]] \n",
    "MODEL_SELECTION_UNET = [i+1 for i in range(len(MODEL_LIST_RAW)) if i+1 not in [2,8,14,29,39,41,44,48,50,53,55,56,58,60,61,64,65,66]]\n",
    "\n",
    "#25 is the Original SDXL\n",
    "MODEL_SELECTION_VAE = 25"
   ]
  },
  {
   "cell_type": "code",
   "execution_count": 9,
   "metadata": {},
   "outputs": [
    {
     "name": "stdout",
     "output_type": "stream",
     "text": [
      "TE0:64,TE1:45,UNET:55\n"
     ]
    }
   ],
   "source": [
    "print(\"TE0:{},TE1:{},UNET:{}\".format(len(MODEL_SELECTION_TE0),len(MODEL_SELECTION_TE1),len(MODEL_SELECTION_UNET)))"
   ]
  },
  {
   "cell_type": "markdown",
   "metadata": {},
   "source": [
    "Specify all the keywords (I'll avoid hardcode because they will be everywhere)\n",
    "\n",
    "Note that I only run 1 merging algorithm at a time, otherwise my code will explode (too many items to consider)\n",
    "\n",
    "I won't explain too much on the merging algorithm. I only leave keywords here."
   ]
  },
  {
   "cell_type": "code",
   "execution_count": 10,
   "metadata": {},
   "outputs": [],
   "source": [
    "MODE_RAW = 'MODE_RAW'\n",
    "MODE_CLIP = 'MODE_CLIP'\n",
    "MODE_UNET = 'MODE_UNET'\n",
    "MODE_FINAL = 'MODE_FINAL'\n",
    "ALGO_AVERAGE = 'ALGO_AVERAGE' #Uniform Soup in Model Soup (implied)\n",
    "ALGO_TIES = 'ALGO_TIES' #TIES merge (Algo 1)\n",
    "\n",
    "ALGO_ACTIVATED = ALGO_TIES #ALGO_AVERAGE, ALGO_TIES \n",
    "MODE_ACTIVATED = [MODE_RAW,MODE_CLIP] #[MODE_RAW,MODE_CLIP,MODE_UNET,MODE_FINAL]"
   ]
  },
  {
   "cell_type": "markdown",
   "metadata": {},
   "source": [
    "Since AstolfoMix is a huge mix, and oppose to introduce too many hypermeters. \n",
    "\n",
    "Optimization is pain, see [AutoMBW-rt](https://github.com/6DammK9/auto-MBW-rt) which involves 27 parameters and a set of testing prompts.\n",
    "\n",
    "Therefore I suggest not to adjust any numbers until you have your \"baseline model\" generated. Note that \"averaging\" is parameterless. "
   ]
  },
  {
   "cell_type": "code",
   "execution_count": 11,
   "metadata": {},
   "outputs": [],
   "source": [
    "TIES_LAMBDA = 1.0 #From ljleb and paper\n",
    "TIES_TOP_K = 1.0 #From ljleb, paper suggest 0.2 as \"Top 20%\""
   ]
  },
  {
   "cell_type": "markdown",
   "metadata": {},
   "source": [
    "Insert version number, and the... *\"AstolfoMix\"*.\n",
    "\n",
    "If you want to make multiple versions of AstolfoMix with different algorithms, I suggest modify the `MODEL_NAME_KEYWORD`."
   ]
  },
  {
   "cell_type": "code",
   "execution_count": 12,
   "metadata": {},
   "outputs": [],
   "source": [
    "MODEL_NAME_SUFFIX = \"240421-feefbf4\" #yymmdd-commit\n",
    "MODEL_NAME_KEYWORD = \"AstolfoMix\""
   ]
  },
  {
   "cell_type": "markdown",
   "metadata": {},
   "source": [
    "Change if your PC is in trouble.\n",
    "\n",
    "My WS: [Xeon 8358 ES, X12DPI-N6, 512GB DDR4, 2x RTX2080ti 22G, P4510 4TB *2](https://github.com/6DammK9/nai-anime-pure-negative-prompt/blob/main/ch04/ice_lake_ws.md). Overkill for a merger."
   ]
  },
  {
   "cell_type": "code",
   "execution_count": 13,
   "metadata": {},
   "outputs": [],
   "source": [
    "g_device = \"cuda:1\" if ALGO_ACTIVATED == ALGO_AVERAGE else \"cpu\"  #I have 2 GPUS and this is the CPU slot\n",
    "g_precision_while_merge = torch.float64 if \"cuda\" in g_device else torch.float64 #I have RAM\n",
    "g_precision_final_model = torch.float16 if \"cuda\" in g_device else torch.float16 #fp16\n",
    "\n",
    "#240407: 2**34 will throw NaN issue. Stay with default = 2**28\n",
    "g_total_buffer_size=2**28\n",
    "#240422: (Not effective) TIES requires single thread to prevent OOM\n",
    "g_threads = None #None if ALGO_ACTIVATED == ALGO_AVERAGE else 1"
   ]
  },
  {
   "cell_type": "markdown",
   "metadata": {},
   "source": [
    "## User input shuold ends here. ##"
   ]
  },
  {
   "cell_type": "markdown",
   "metadata": {},
   "source": [
    "Define output model name. I want to keep the format, however I need to manage the name manually."
   ]
  },
  {
   "cell_type": "code",
   "execution_count": 14,
   "metadata": {},
   "outputs": [],
   "source": [
    "FORMAT_BYPASS = \"{}\""
   ]
  },
  {
   "cell_type": "code",
   "execution_count": 15,
   "metadata": {},
   "outputs": [],
   "source": [
    "# Auto zfill under total model count\n",
    "def az(n):\n",
    "    return str(n).zfill(math.ceil(math.log10(len(MODEL_LIST_RAW))))"
   ]
  },
  {
   "cell_type": "code",
   "execution_count": 16,
   "metadata": {},
   "outputs": [],
   "source": [
    "N_CLIP = (\"te0\",\"te1\",\"te2\")\n",
    "N_RAW = \"_x{}\"\n",
    "N_ITR = \"{}a\"\n",
    "N_PICKED = \"x{}\"\n",
    "\n",
    "MODEL_NAME_RAW_PREFIX = (N_ITR.format(N_PICKED)).format(az(len(MODEL_LIST_RAW)-1)) #x49a\n",
    "\n",
    "MODEL_NAME_TE = (\"{}{}{}{}\".format(N_PICKED,N_CLIP[0],N_PICKED,N_CLIP[1])).format(az(len(MODEL_SELECTION_TE0)-1),az(len(MODEL_SELECTION_TE1)-1)) #x22te0x31te1\n",
    "MODEL_NAME_FINAL_PREFIX = N_PICKED.format(az(len(MODEL_SELECTION_UNET)-1)) #x43\n",
    "\n",
    "MODEL_NAME_RAW = \"{}-{}-{}\".format(MODEL_NAME_RAW_PREFIX,MODEL_NAME_KEYWORD,MODEL_NAME_SUFFIX) #x49a-AstolfoMix-e2e-240222-60d0764\n",
    "MODEL_NAME_TE_ITR = \"{}-{}-{}{}-{}\".format(MODEL_NAME_RAW_PREFIX,MODEL_NAME_KEYWORD,FORMAT_BYPASS,FORMAT_BYPASS,MODEL_NAME_SUFFIX) #x49a-AstolfoMix-_x01te0-e2e-240222-60d0764\n",
    "MODEL_NAME_SELECTED_TE = \"{}-{}-{}-{}\".format(MODEL_NAME_RAW_PREFIX,MODEL_NAME_KEYWORD,MODEL_NAME_TE,MODEL_NAME_SUFFIX) #x49a-AstolfoMix-x22te0x31te1-e2e-240222-60d0764\n",
    "MODEL_NAME_UNET_ITR = \"_{}-{}-{}-{}\".format(FORMAT_BYPASS,MODEL_NAME_KEYWORD,MODEL_NAME_TE,MODEL_NAME_SUFFIX) #_x01a-AstolfoMix-x22te0x31te1-e2e-240222-60d0764\n",
    "MODEL_NAME_FINAL = \"{}-{}-{}-{}\".format(MODEL_NAME_FINAL_PREFIX,MODEL_NAME_KEYWORD,MODEL_NAME_TE,MODEL_NAME_SUFFIX) #x43-AstolfoMix-x22te0x31te1-e2e-240222-60d0764\n",
    "MODEL_NAME_E2E = \"{}-{}-{}-e2e-{}\".format(MODEL_NAME_FINAL_PREFIX,MODEL_NAME_KEYWORD,MODEL_NAME_TE,MODEL_NAME_SUFFIX) #x43-AstolfoMix-x22te0x31te1-e2e-240222-60d0764"
   ]
  },
  {
   "cell_type": "code",
   "execution_count": 17,
   "metadata": {},
   "outputs": [
    {
     "name": "stdout",
     "output_type": "stream",
     "text": [
      "Naive average model:                     x72a-AstolfoMix-240421-feefbf4\n",
      "CLIP models to iterlate:                 x72a-AstolfoMix-{}{}-240421-feefbf4\n",
      "Naive average model with selected CLIP:  x72a-AstolfoMix-x63te0x44te1-240421-feefbf4\n",
      "UNET models to iterlate:                 _{}-AstolfoMix-x63te0x44te1-240421-feefbf4\n",
      "Final merged model (staged):             x54-AstolfoMix-x63te0x44te1-240421-feefbf4\n",
      "Final merged model (e2e):                x54-AstolfoMix-x63te0x44te1-e2e-240421-feefbf4\n"
     ]
    }
   ],
   "source": [
    "print(\"Naive average model:                     {}\".format(MODEL_NAME_RAW))\n",
    "print(\"CLIP models to iterlate:                 {}\".format(MODEL_NAME_TE_ITR))\n",
    "print(\"Naive average model with selected CLIP:  {}\".format(MODEL_NAME_SELECTED_TE))\n",
    "print(\"UNET models to iterlate:                 {}\".format(MODEL_NAME_UNET_ITR))\n",
    "print(\"Final merged model (staged):             {}\".format(MODEL_NAME_FINAL))\n",
    "print(\"Final merged model (e2e):                {}\".format(MODEL_NAME_E2E))"
   ]
  },
  {
   "cell_type": "markdown",
   "metadata": {},
   "source": [
    "## Setting up merge receipe and merge scheduler ##\n",
    "\n",
    "- I'm still a bit panic about hardcoding. Getter / Setter will be fine. ~~No, you won't see OOP in python notebook.~~\n",
    "- Will always run. `MODE_ACTIVATED` controls actual merge process only."
   ]
  },
  {
   "cell_type": "code",
   "execution_count": 18,
   "metadata": {},
   "outputs": [],
   "source": [
    "def rmk_raw():\n",
    "    return 'RAW'\n",
    "def rmk_ste():\n",
    "    return 'SELECTED_TE'\n",
    "def rmk_f():\n",
    "    return 'FINAL'\n",
    "def rmk_e2e():\n",
    "    return 'E2E'\n",
    "def rmk_te(i,j):\n",
    "    return 'CLIP{}_TE{}'.format(i,j) #CLIP1TE0\n",
    "def rmk_unet(i):\n",
    "    return 'UNET{}'.format(i)  #UNET1"
   ]
  },
  {
   "cell_type": "code",
   "execution_count": 19,
   "metadata": {},
   "outputs": [],
   "source": [
    "recipe_mapping = {}\n",
    "\n",
    "def set_rmk(k, v):\n",
    "    recipe_mapping[k] = v"
   ]
  },
  {
   "cell_type": "code",
   "execution_count": 20,
   "metadata": {},
   "outputs": [],
   "source": [
    "def reset_rm():\n",
    "    set_rmk(rmk_raw(), None)\n",
    "    set_rmk(rmk_ste(), None)\n",
    "    set_rmk(rmk_f(), None)\n",
    "\n",
    "    for i in range(len(MODEL_LIST_RAW)):\n",
    "        set_rmk(rmk_unet(i+1), None)\n",
    "        for j in range(3):\n",
    "            set_rmk(rmk_te(i+1,j), None)"
   ]
  },
  {
   "cell_type": "code",
   "execution_count": 21,
   "metadata": {},
   "outputs": [],
   "source": [
    "reset_rm()"
   ]
  },
  {
   "cell_type": "markdown",
   "metadata": {},
   "source": [
    "Single merger should be fine."
   ]
  },
  {
   "cell_type": "code",
   "execution_count": 22,
   "metadata": {},
   "outputs": [],
   "source": [
    "scheduler = sd_mecha.RecipeMerger(\n",
    "    models_dir=DIR_BASE,\n",
    "    default_device=g_device,\n",
    "    default_dtype=g_precision_while_merge,\n",
    ")"
   ]
  },
  {
   "cell_type": "markdown",
   "metadata": {},
   "source": [
    "Define recipe extension, and make the model output path (Note that it is still being formatted)"
   ]
  },
  {
   "cell_type": "code",
   "execution_count": 23,
   "metadata": {},
   "outputs": [],
   "source": [
    "OS_MODEL_PATH_RAW = \"{}{}{}\".format(DIR_BASE,MODEL_NAME_RAW,MECHA_MODEL_EXT)\n",
    "RECIPE_PATH_RAW = \"{}{}{}\".format(DIR_BASE,MODEL_NAME_RAW,MECHA_RECIPE_EXT)\n",
    "MECHA_MODEL_PATH_RAW = \"{}{}\".format(DIR_FINAL,MODEL_NAME_RAW)\n",
    "\n",
    "OS_MODEL_PATH_TE_ITR = \"{}{}{}{}\".format(DIR_BASE,DIR_CLIP,MODEL_NAME_TE_ITR,MECHA_MODEL_EXT)\n",
    "RECIPE_PATH_TE_ITR = \"{}{}{}{}\".format(DIR_BASE,DIR_CLIP,MODEL_NAME_TE_ITR,MECHA_RECIPE_EXT)\n",
    "MECHA_MODEL_PATH_TE_ITR =  \"{}{}{}\".format(DIR_FINAL,DIR_CLIP,MODEL_NAME_TE_ITR)\n",
    "\n",
    "OS_MODEL_PATH_SELECTED_TE = \"{}{}{}\".format(DIR_BASE,MODEL_NAME_SELECTED_TE,MECHA_MODEL_EXT)\n",
    "RECIPE_PATH_SELECTED_TE = \"{}{}{}\".format(DIR_BASE,MODEL_NAME_SELECTED_TE,MECHA_RECIPE_EXT)\n",
    "MECHA_MODEL_PATH_SELECTED_TE =  \"{}{}\".format(DIR_FINAL,MODEL_NAME_SELECTED_TE)\n",
    "\n",
    "OS_MODEL_PATH_UNET_ITR = \"{}{}{}{}\".format(DIR_BASE,DIR_UNET,MODEL_NAME_UNET_ITR,MECHA_MODEL_EXT)\n",
    "RECIPE_PATH_UNET_ITR = \"{}{}{}{}\".format(DIR_BASE,DIR_UNET,MODEL_NAME_UNET_ITR,MECHA_RECIPE_EXT)\n",
    "MECHA_MODEL_PATH_UNET_ITR =  \"{}{}{}\".format(DIR_FINAL,DIR_UNET,MODEL_NAME_UNET_ITR)\n",
    "\n",
    "OS_MODEL_PATH_FINAL = \"{}{}{}\".format(DIR_BASE,MODEL_NAME_FINAL,MECHA_MODEL_EXT)\n",
    "RECIPE_PATH_FINAL = \"{}{}{}\".format(DIR_BASE,MODEL_NAME_FINAL,MECHA_RECIPE_EXT)\n",
    "MECHA_MODEL_PATH_FINAL = \"{}{}\".format(DIR_FINAL,MODEL_NAME_FINAL)\n",
    "\n",
    "OS_MODEL_PATH_E2E = \"{}{}{}\".format(DIR_BASE,MODEL_NAME_E2E,MECHA_MODEL_EXT)\n",
    "RECIPE_PATH_E2E = \"{}{}{}\".format(DIR_BASE,MODEL_NAME_E2E,MECHA_RECIPE_EXT)\n",
    "MECHA_MODEL_PATH_E2E = \"{}{}\".format(DIR_FINAL,MODEL_NAME_E2E)"
   ]
  },
  {
   "cell_type": "code",
   "execution_count": 24,
   "metadata": {},
   "outputs": [],
   "source": [
    "# Better test the ugly full file path\n",
    "def get_te_itr_path(s: str,i: int,j: int):\n",
    "    return s.format(N_RAW.format(az(i+1)),N_CLIP[j])\n",
    "\n",
    "def get_unet_itr_path(s: str,i: int):\n",
    "    return s.format((N_ITR.format(N_PICKED)).format(az(i+1)))"
   ]
  },
  {
   "cell_type": "code",
   "execution_count": 25,
   "metadata": {},
   "outputs": [
    {
     "name": "stdout",
     "output_type": "stream",
     "text": [
      "Sample TE_ITR recipe path:   F:/NOVELAI/astolfo_mix/sdxl/clip/x72a-AstolfoMix-_x02te1-240421-feefbf4.mecha\n",
      "Sample TE_ITR model path:    F:/NOVELAI/astolfo_mix/sdxl/clip/x72a-AstolfoMix-_x02te1-240421-feefbf4.safetensors\n",
      "Sample UNET_ITR recipe path: F:/NOVELAI/astolfo_mix/sdxl/unet/_x02a-AstolfoMix-x63te0x44te1-240421-feefbf4.mecha\n",
      "Sample UNET_ITR model path:  F:/NOVELAI/astolfo_mix/sdxl/unet/_x02a-AstolfoMix-x63te0x44te1-240421-feefbf4.safetensors\n",
      "Does RAW model exists:       False\n",
      "Final model path:            ./x54-AstolfoMix-x63te0x44te1-240421-feefbf4\n"
     ]
    }
   ],
   "source": [
    "print(\"Sample TE_ITR recipe path:   {}\".format(get_te_itr_path(RECIPE_PATH_TE_ITR, 1, 1)))\n",
    "print(\"Sample TE_ITR model path:    {}\".format(get_te_itr_path(OS_MODEL_PATH_TE_ITR, 1, 1)))\n",
    "print(\"Sample UNET_ITR recipe path: {}\".format(get_unet_itr_path(RECIPE_PATH_UNET_ITR, 1)))\n",
    "print(\"Sample UNET_ITR model path:  {}\".format(get_unet_itr_path(OS_MODEL_PATH_UNET_ITR, 1)))\n",
    "print(\"Does RAW model exists:       {}\".format(os.path.isfile(OS_MODEL_PATH_RAW)))\n",
    "print(\"Final model path:            {}\".format(MECHA_MODEL_PATH_FINAL))"
   ]
  },
  {
   "cell_type": "markdown",
   "metadata": {},
   "source": [
    "### Right before the merging stuffs, I need to clear some hardcode. ###"
   ]
  },
  {
   "cell_type": "code",
   "execution_count": 26,
   "metadata": {},
   "outputs": [],
   "source": [
    "MECHA_IS_SDXL = \"sdxl\"\n",
    "MECHA_TXT1_IS_VITG = \"txt\"\n",
    "MECHA_TXT2_IS_VITL = \"txt2\"\n",
    "MECHA_UNET_IS_UNET = \"unet\"\n",
    "\n",
    "# 240407: Seems that safe to be float\n",
    "TAKE_MODEL_A = 0.0\n",
    "TAKE_MODEL_B = 1.0\n",
    "\n",
    "# 240407: New syntax proposed by ljleb\n",
    "TE0_ALPHA = (sd_mecha.default(MECHA_IS_SDXL, [MECHA_TXT1_IS_VITG], TAKE_MODEL_A) | sd_mecha.default(MECHA_IS_SDXL, [MECHA_TXT2_IS_VITL, MECHA_UNET_IS_UNET], TAKE_MODEL_B))\n",
    "TE1_ALPHA = (sd_mecha.default(MECHA_IS_SDXL, [MECHA_TXT2_IS_VITL], TAKE_MODEL_A) | sd_mecha.default(MECHA_IS_SDXL, [MECHA_TXT1_IS_VITG, MECHA_UNET_IS_UNET], TAKE_MODEL_B))\n",
    "TE2_ALPHA = (sd_mecha.default(MECHA_IS_SDXL, [MECHA_TXT1_IS_VITG, MECHA_TXT2_IS_VITL], TAKE_MODEL_A) | sd_mecha.default(MECHA_IS_SDXL, [MECHA_UNET_IS_UNET], TAKE_MODEL_B))\n",
    "TE0_ALPHA_INVERTED = (sd_mecha.default(MECHA_IS_SDXL, [MECHA_TXT2_IS_VITL, MECHA_UNET_IS_UNET], TAKE_MODEL_A) | sd_mecha.default(MECHA_IS_SDXL, [MECHA_TXT1_IS_VITG], TAKE_MODEL_B))\n",
    "TE1_ALPHA_INVERTED = (sd_mecha.default(MECHA_IS_SDXL, [MECHA_TXT1_IS_VITG, MECHA_UNET_IS_UNET], TAKE_MODEL_A) | sd_mecha.default(MECHA_IS_SDXL, [MECHA_TXT2_IS_VITL], TAKE_MODEL_B))\n",
    "\n",
    "CASTED_VAE_MODEL = sd_mecha.model(\"{}{}\".format(DIR_RAW,MODEL_LIST_RAW[MODEL_SELECTION_VAE - 1]), MECHA_IS_SDXL)\n",
    "\n",
    "FALLBACK_AS_VAE_MODEL = CASTED_VAE_MODEL"
   ]
  },
  {
   "cell_type": "markdown",
   "metadata": {},
   "source": [
    "### Pick VAE ###\n",
    "- It will pick `cur_model` for every merge key and `vae_model` for every passthroguh key\n",
    "- Note that `cur_model` is already casted as `sd_mecha.model()`."
   ]
  },
  {
   "cell_type": "code",
   "execution_count": 27,
   "metadata": {},
   "outputs": [],
   "source": [
    "def pick_vae(cur_model):\n",
    "    return sd_mecha.weighted_sum(CASTED_VAE_MODEL, cur_model, alpha=TAKE_MODEL_B, dtype=g_precision_while_merge, device=g_device)"
   ]
  },
  {
   "cell_type": "markdown",
   "metadata": {},
   "source": [
    "### Naive Average ###\n",
    "\n",
    "- Pay attention to the `alpha`. It is opposite to A1111: It is \"A merge to B\" instead of \"Merge A with B\".\n",
    "- Also the receipe is set of `RecipeNode` under [tree structure](https://en.wikipedia.org/wiki/Tree_(data_structure)). Therefore you can expect there are quite a lot of recursive stuffs (returning iteself)."
   ]
  },
  {
   "cell_type": "code",
   "execution_count": 28,
   "metadata": {},
   "outputs": [],
   "source": [
    "def make_recipe_naive_merge():\n",
    "    models = list(map(lambda p: \"{}{}\".format(DIR_RAW,p),MODEL_LIST_RAW))\n",
    "\n",
    "    if ALGO_ACTIVATED == ALGO_AVERAGE:\n",
    "        recipe = models[0]\n",
    "        casted_recipe = sd_mecha.model(recipe, MECHA_IS_SDXL)\n",
    "        for i, model in enumerate(models[1:], start=2):\n",
    "            casted_model = sd_mecha.model(model, MECHA_IS_SDXL)\n",
    "            casted_recipe = sd_mecha.weighted_sum(casted_model, casted_recipe, alpha=(i-1)/i, dtype=g_precision_while_merge, device=g_device)\n",
    "\n",
    "        return pick_vae(casted_recipe)\n",
    "    elif ALGO_ACTIVATED == ALGO_TIES:\n",
    "        # Note that a base model is required. We have a nice base model assigned.\n",
    "        casted_models = [sd_mecha.model(model, MECHA_IS_SDXL) for model in models]\n",
    "        casted_recipe = sd_mecha.add_difference_ties(CASTED_VAE_MODEL, *casted_models, alpha=TIES_LAMBDA, k=TIES_TOP_K, dtype=g_precision_while_merge, device=g_device)\n",
    "\n",
    "        return pick_vae(casted_recipe)\n",
    "    else:\n",
    "        raise Exception(\"Algorithm {} is not supported.\".format(ALGO_ACTIVATED))"
   ]
  },
  {
   "cell_type": "code",
   "execution_count": 29,
   "metadata": {},
   "outputs": [
    {
     "name": "stderr",
     "output_type": "stream",
     "text": [
      "INFO: Saving recipe to F:\\NOVELAI\\astolfo_mix\\sdxl\\x72a-AstolfoMix-240421-feefbf4.mecha\n"
     ]
    }
   ],
   "source": [
    "set_rmk(rmk_raw(), make_recipe_naive_merge())\n",
    "sd_mecha.serialize_and_save(recipe_mapping[rmk_raw()], RECIPE_PATH_RAW)"
   ]
  },
  {
   "cell_type": "markdown",
   "metadata": {},
   "source": [
    "### CLIP Models to test ###\n",
    "- Note that `alpha` is using a special operator `|` which is \"Bitwise OR\".\n",
    "- Also recall \"TE0 use ViT-G / `txt1`\" and \"TE1 use ViT-L / `txt2`\" and \"TE2 use both\"\n",
    "- *I don't like the new syntax.*"
   ]
  },
  {
   "cell_type": "code",
   "execution_count": 30,
   "metadata": {},
   "outputs": [],
   "source": [
    "def make_recipe_te_itr(p):\n",
    "    clip_model = \"{}{}\".format(DIR_RAW, p)\n",
    "    unet_model = \"{}{}\".format(MECHA_MODEL_PATH_RAW, MECHA_MODEL_EXT)\n",
    "    casted_clip_model = sd_mecha.model(clip_model, MECHA_IS_SDXL)\n",
    "    casted_unet_model = sd_mecha.model(unet_model, MECHA_IS_SDXL)\n",
    "    recipe_te0 = sd_mecha.weighted_sum(casted_clip_model, casted_unet_model, alpha=TE0_ALPHA, dtype=g_precision_while_merge, device=g_device)\n",
    "    recipe_te1 = sd_mecha.weighted_sum(casted_clip_model, casted_unet_model, alpha=TE1_ALPHA, dtype=g_precision_while_merge, device=g_device)\n",
    "    recipe_te2 = sd_mecha.weighted_sum(casted_clip_model, casted_unet_model, alpha=TE2_ALPHA, dtype=g_precision_while_merge, device=g_device)\n",
    "    return (pick_vae(recipe_te0), pick_vae(recipe_te1), pick_vae(recipe_te2))"
   ]
  },
  {
   "cell_type": "code",
   "execution_count": 31,
   "metadata": {},
   "outputs": [
    {
     "name": "stderr",
     "output_type": "stream",
     "text": [
      "INFO: Saving recipe to F:\\NOVELAI\\astolfo_mix\\sdxl\\clip\\x72a-AstolfoMix-_x01te0-240421-feefbf4.mecha\n",
      "INFO: Saving recipe to F:\\NOVELAI\\astolfo_mix\\sdxl\\clip\\x72a-AstolfoMix-_x01te1-240421-feefbf4.mecha\n",
      "INFO: Saving recipe to F:\\NOVELAI\\astolfo_mix\\sdxl\\clip\\x72a-AstolfoMix-_x01te2-240421-feefbf4.mecha\n",
      "INFO: Saving recipe to F:\\NOVELAI\\astolfo_mix\\sdxl\\clip\\x72a-AstolfoMix-_x02te0-240421-feefbf4.mecha\n",
      "INFO: Saving recipe to F:\\NOVELAI\\astolfo_mix\\sdxl\\clip\\x72a-AstolfoMix-_x02te1-240421-feefbf4.mecha\n",
      "INFO: Saving recipe to F:\\NOVELAI\\astolfo_mix\\sdxl\\clip\\x72a-AstolfoMix-_x02te2-240421-feefbf4.mecha\n",
      "INFO: Saving recipe to F:\\NOVELAI\\astolfo_mix\\sdxl\\clip\\x72a-AstolfoMix-_x03te0-240421-feefbf4.mecha\n",
      "INFO: Saving recipe to F:\\NOVELAI\\astolfo_mix\\sdxl\\clip\\x72a-AstolfoMix-_x03te1-240421-feefbf4.mecha\n",
      "INFO: Saving recipe to F:\\NOVELAI\\astolfo_mix\\sdxl\\clip\\x72a-AstolfoMix-_x03te2-240421-feefbf4.mecha\n",
      "INFO: Saving recipe to F:\\NOVELAI\\astolfo_mix\\sdxl\\clip\\x72a-AstolfoMix-_x04te0-240421-feefbf4.mecha\n",
      "INFO: Saving recipe to F:\\NOVELAI\\astolfo_mix\\sdxl\\clip\\x72a-AstolfoMix-_x04te1-240421-feefbf4.mecha\n",
      "INFO: Saving recipe to F:\\NOVELAI\\astolfo_mix\\sdxl\\clip\\x72a-AstolfoMix-_x04te2-240421-feefbf4.mecha\n",
      "INFO: Saving recipe to F:\\NOVELAI\\astolfo_mix\\sdxl\\clip\\x72a-AstolfoMix-_x05te0-240421-feefbf4.mecha\n",
      "INFO: Saving recipe to F:\\NOVELAI\\astolfo_mix\\sdxl\\clip\\x72a-AstolfoMix-_x05te1-240421-feefbf4.mecha\n",
      "INFO: Saving recipe to F:\\NOVELAI\\astolfo_mix\\sdxl\\clip\\x72a-AstolfoMix-_x05te2-240421-feefbf4.mecha\n",
      "INFO: Saving recipe to F:\\NOVELAI\\astolfo_mix\\sdxl\\clip\\x72a-AstolfoMix-_x06te0-240421-feefbf4.mecha\n",
      "INFO: Saving recipe to F:\\NOVELAI\\astolfo_mix\\sdxl\\clip\\x72a-AstolfoMix-_x06te1-240421-feefbf4.mecha\n",
      "INFO: Saving recipe to F:\\NOVELAI\\astolfo_mix\\sdxl\\clip\\x72a-AstolfoMix-_x06te2-240421-feefbf4.mecha\n",
      "INFO: Saving recipe to F:\\NOVELAI\\astolfo_mix\\sdxl\\clip\\x72a-AstolfoMix-_x07te0-240421-feefbf4.mecha\n",
      "INFO: Saving recipe to F:\\NOVELAI\\astolfo_mix\\sdxl\\clip\\x72a-AstolfoMix-_x07te1-240421-feefbf4.mecha\n",
      "INFO: Saving recipe to F:\\NOVELAI\\astolfo_mix\\sdxl\\clip\\x72a-AstolfoMix-_x07te2-240421-feefbf4.mecha\n",
      "INFO: Saving recipe to F:\\NOVELAI\\astolfo_mix\\sdxl\\clip\\x72a-AstolfoMix-_x08te0-240421-feefbf4.mecha\n",
      "INFO: Saving recipe to F:\\NOVELAI\\astolfo_mix\\sdxl\\clip\\x72a-AstolfoMix-_x08te1-240421-feefbf4.mecha\n",
      "INFO: Saving recipe to F:\\NOVELAI\\astolfo_mix\\sdxl\\clip\\x72a-AstolfoMix-_x08te2-240421-feefbf4.mecha\n",
      "INFO: Saving recipe to F:\\NOVELAI\\astolfo_mix\\sdxl\\clip\\x72a-AstolfoMix-_x09te0-240421-feefbf4.mecha\n",
      "INFO: Saving recipe to F:\\NOVELAI\\astolfo_mix\\sdxl\\clip\\x72a-AstolfoMix-_x09te1-240421-feefbf4.mecha\n",
      "INFO: Saving recipe to F:\\NOVELAI\\astolfo_mix\\sdxl\\clip\\x72a-AstolfoMix-_x09te2-240421-feefbf4.mecha\n",
      "INFO: Saving recipe to F:\\NOVELAI\\astolfo_mix\\sdxl\\clip\\x72a-AstolfoMix-_x10te0-240421-feefbf4.mecha\n",
      "INFO: Saving recipe to F:\\NOVELAI\\astolfo_mix\\sdxl\\clip\\x72a-AstolfoMix-_x10te1-240421-feefbf4.mecha\n",
      "INFO: Saving recipe to F:\\NOVELAI\\astolfo_mix\\sdxl\\clip\\x72a-AstolfoMix-_x10te2-240421-feefbf4.mecha\n",
      "INFO: Saving recipe to F:\\NOVELAI\\astolfo_mix\\sdxl\\clip\\x72a-AstolfoMix-_x11te0-240421-feefbf4.mecha\n",
      "INFO: Saving recipe to F:\\NOVELAI\\astolfo_mix\\sdxl\\clip\\x72a-AstolfoMix-_x11te1-240421-feefbf4.mecha\n",
      "INFO: Saving recipe to F:\\NOVELAI\\astolfo_mix\\sdxl\\clip\\x72a-AstolfoMix-_x11te2-240421-feefbf4.mecha\n",
      "INFO: Saving recipe to F:\\NOVELAI\\astolfo_mix\\sdxl\\clip\\x72a-AstolfoMix-_x12te0-240421-feefbf4.mecha\n",
      "INFO: Saving recipe to F:\\NOVELAI\\astolfo_mix\\sdxl\\clip\\x72a-AstolfoMix-_x12te1-240421-feefbf4.mecha\n",
      "INFO: Saving recipe to F:\\NOVELAI\\astolfo_mix\\sdxl\\clip\\x72a-AstolfoMix-_x12te2-240421-feefbf4.mecha\n",
      "INFO: Saving recipe to F:\\NOVELAI\\astolfo_mix\\sdxl\\clip\\x72a-AstolfoMix-_x13te0-240421-feefbf4.mecha\n",
      "INFO: Saving recipe to F:\\NOVELAI\\astolfo_mix\\sdxl\\clip\\x72a-AstolfoMix-_x13te1-240421-feefbf4.mecha\n",
      "INFO: Saving recipe to F:\\NOVELAI\\astolfo_mix\\sdxl\\clip\\x72a-AstolfoMix-_x13te2-240421-feefbf4.mecha\n",
      "INFO: Saving recipe to F:\\NOVELAI\\astolfo_mix\\sdxl\\clip\\x72a-AstolfoMix-_x14te0-240421-feefbf4.mecha\n",
      "INFO: Saving recipe to F:\\NOVELAI\\astolfo_mix\\sdxl\\clip\\x72a-AstolfoMix-_x14te1-240421-feefbf4.mecha\n",
      "INFO: Saving recipe to F:\\NOVELAI\\astolfo_mix\\sdxl\\clip\\x72a-AstolfoMix-_x14te2-240421-feefbf4.mecha\n",
      "INFO: Saving recipe to F:\\NOVELAI\\astolfo_mix\\sdxl\\clip\\x72a-AstolfoMix-_x15te0-240421-feefbf4.mecha\n",
      "INFO: Saving recipe to F:\\NOVELAI\\astolfo_mix\\sdxl\\clip\\x72a-AstolfoMix-_x15te1-240421-feefbf4.mecha\n",
      "INFO: Saving recipe to F:\\NOVELAI\\astolfo_mix\\sdxl\\clip\\x72a-AstolfoMix-_x15te2-240421-feefbf4.mecha\n",
      "INFO: Saving recipe to F:\\NOVELAI\\astolfo_mix\\sdxl\\clip\\x72a-AstolfoMix-_x16te0-240421-feefbf4.mecha\n",
      "INFO: Saving recipe to F:\\NOVELAI\\astolfo_mix\\sdxl\\clip\\x72a-AstolfoMix-_x16te1-240421-feefbf4.mecha\n",
      "INFO: Saving recipe to F:\\NOVELAI\\astolfo_mix\\sdxl\\clip\\x72a-AstolfoMix-_x16te2-240421-feefbf4.mecha\n",
      "INFO: Saving recipe to F:\\NOVELAI\\astolfo_mix\\sdxl\\clip\\x72a-AstolfoMix-_x17te0-240421-feefbf4.mecha\n",
      "INFO: Saving recipe to F:\\NOVELAI\\astolfo_mix\\sdxl\\clip\\x72a-AstolfoMix-_x17te1-240421-feefbf4.mecha\n",
      "INFO: Saving recipe to F:\\NOVELAI\\astolfo_mix\\sdxl\\clip\\x72a-AstolfoMix-_x17te2-240421-feefbf4.mecha\n",
      "INFO: Saving recipe to F:\\NOVELAI\\astolfo_mix\\sdxl\\clip\\x72a-AstolfoMix-_x18te0-240421-feefbf4.mecha\n",
      "INFO: Saving recipe to F:\\NOVELAI\\astolfo_mix\\sdxl\\clip\\x72a-AstolfoMix-_x18te1-240421-feefbf4.mecha\n",
      "INFO: Saving recipe to F:\\NOVELAI\\astolfo_mix\\sdxl\\clip\\x72a-AstolfoMix-_x18te2-240421-feefbf4.mecha\n",
      "INFO: Saving recipe to F:\\NOVELAI\\astolfo_mix\\sdxl\\clip\\x72a-AstolfoMix-_x19te0-240421-feefbf4.mecha\n",
      "INFO: Saving recipe to F:\\NOVELAI\\astolfo_mix\\sdxl\\clip\\x72a-AstolfoMix-_x19te1-240421-feefbf4.mecha\n",
      "INFO: Saving recipe to F:\\NOVELAI\\astolfo_mix\\sdxl\\clip\\x72a-AstolfoMix-_x19te2-240421-feefbf4.mecha\n",
      "INFO: Saving recipe to F:\\NOVELAI\\astolfo_mix\\sdxl\\clip\\x72a-AstolfoMix-_x20te0-240421-feefbf4.mecha\n",
      "INFO: Saving recipe to F:\\NOVELAI\\astolfo_mix\\sdxl\\clip\\x72a-AstolfoMix-_x20te1-240421-feefbf4.mecha\n",
      "INFO: Saving recipe to F:\\NOVELAI\\astolfo_mix\\sdxl\\clip\\x72a-AstolfoMix-_x20te2-240421-feefbf4.mecha\n",
      "INFO: Saving recipe to F:\\NOVELAI\\astolfo_mix\\sdxl\\clip\\x72a-AstolfoMix-_x21te0-240421-feefbf4.mecha\n",
      "INFO: Saving recipe to F:\\NOVELAI\\astolfo_mix\\sdxl\\clip\\x72a-AstolfoMix-_x21te1-240421-feefbf4.mecha\n",
      "INFO: Saving recipe to F:\\NOVELAI\\astolfo_mix\\sdxl\\clip\\x72a-AstolfoMix-_x21te2-240421-feefbf4.mecha\n",
      "INFO: Saving recipe to F:\\NOVELAI\\astolfo_mix\\sdxl\\clip\\x72a-AstolfoMix-_x22te0-240421-feefbf4.mecha\n",
      "INFO: Saving recipe to F:\\NOVELAI\\astolfo_mix\\sdxl\\clip\\x72a-AstolfoMix-_x22te1-240421-feefbf4.mecha\n",
      "INFO: Saving recipe to F:\\NOVELAI\\astolfo_mix\\sdxl\\clip\\x72a-AstolfoMix-_x22te2-240421-feefbf4.mecha\n",
      "INFO: Saving recipe to F:\\NOVELAI\\astolfo_mix\\sdxl\\clip\\x72a-AstolfoMix-_x23te0-240421-feefbf4.mecha\n",
      "INFO: Saving recipe to F:\\NOVELAI\\astolfo_mix\\sdxl\\clip\\x72a-AstolfoMix-_x23te1-240421-feefbf4.mecha\n",
      "INFO: Saving recipe to F:\\NOVELAI\\astolfo_mix\\sdxl\\clip\\x72a-AstolfoMix-_x23te2-240421-feefbf4.mecha\n",
      "INFO: Saving recipe to F:\\NOVELAI\\astolfo_mix\\sdxl\\clip\\x72a-AstolfoMix-_x24te0-240421-feefbf4.mecha\n",
      "INFO: Saving recipe to F:\\NOVELAI\\astolfo_mix\\sdxl\\clip\\x72a-AstolfoMix-_x24te1-240421-feefbf4.mecha\n",
      "INFO: Saving recipe to F:\\NOVELAI\\astolfo_mix\\sdxl\\clip\\x72a-AstolfoMix-_x24te2-240421-feefbf4.mecha\n",
      "INFO: Saving recipe to F:\\NOVELAI\\astolfo_mix\\sdxl\\clip\\x72a-AstolfoMix-_x25te0-240421-feefbf4.mecha\n",
      "INFO: Saving recipe to F:\\NOVELAI\\astolfo_mix\\sdxl\\clip\\x72a-AstolfoMix-_x25te1-240421-feefbf4.mecha\n",
      "INFO: Saving recipe to F:\\NOVELAI\\astolfo_mix\\sdxl\\clip\\x72a-AstolfoMix-_x25te2-240421-feefbf4.mecha\n",
      "INFO: Saving recipe to F:\\NOVELAI\\astolfo_mix\\sdxl\\clip\\x72a-AstolfoMix-_x26te0-240421-feefbf4.mecha\n",
      "INFO: Saving recipe to F:\\NOVELAI\\astolfo_mix\\sdxl\\clip\\x72a-AstolfoMix-_x26te1-240421-feefbf4.mecha\n",
      "INFO: Saving recipe to F:\\NOVELAI\\astolfo_mix\\sdxl\\clip\\x72a-AstolfoMix-_x26te2-240421-feefbf4.mecha\n",
      "INFO: Saving recipe to F:\\NOVELAI\\astolfo_mix\\sdxl\\clip\\x72a-AstolfoMix-_x27te0-240421-feefbf4.mecha\n",
      "INFO: Saving recipe to F:\\NOVELAI\\astolfo_mix\\sdxl\\clip\\x72a-AstolfoMix-_x27te1-240421-feefbf4.mecha\n",
      "INFO: Saving recipe to F:\\NOVELAI\\astolfo_mix\\sdxl\\clip\\x72a-AstolfoMix-_x27te2-240421-feefbf4.mecha\n",
      "INFO: Saving recipe to F:\\NOVELAI\\astolfo_mix\\sdxl\\clip\\x72a-AstolfoMix-_x28te0-240421-feefbf4.mecha\n",
      "INFO: Saving recipe to F:\\NOVELAI\\astolfo_mix\\sdxl\\clip\\x72a-AstolfoMix-_x28te1-240421-feefbf4.mecha\n",
      "INFO: Saving recipe to F:\\NOVELAI\\astolfo_mix\\sdxl\\clip\\x72a-AstolfoMix-_x28te2-240421-feefbf4.mecha\n",
      "INFO: Saving recipe to F:\\NOVELAI\\astolfo_mix\\sdxl\\clip\\x72a-AstolfoMix-_x29te0-240421-feefbf4.mecha\n",
      "INFO: Saving recipe to F:\\NOVELAI\\astolfo_mix\\sdxl\\clip\\x72a-AstolfoMix-_x29te1-240421-feefbf4.mecha\n",
      "INFO: Saving recipe to F:\\NOVELAI\\astolfo_mix\\sdxl\\clip\\x72a-AstolfoMix-_x29te2-240421-feefbf4.mecha\n",
      "INFO: Saving recipe to F:\\NOVELAI\\astolfo_mix\\sdxl\\clip\\x72a-AstolfoMix-_x30te0-240421-feefbf4.mecha\n",
      "INFO: Saving recipe to F:\\NOVELAI\\astolfo_mix\\sdxl\\clip\\x72a-AstolfoMix-_x30te1-240421-feefbf4.mecha\n",
      "INFO: Saving recipe to F:\\NOVELAI\\astolfo_mix\\sdxl\\clip\\x72a-AstolfoMix-_x30te2-240421-feefbf4.mecha\n",
      "INFO: Saving recipe to F:\\NOVELAI\\astolfo_mix\\sdxl\\clip\\x72a-AstolfoMix-_x31te0-240421-feefbf4.mecha\n",
      "INFO: Saving recipe to F:\\NOVELAI\\astolfo_mix\\sdxl\\clip\\x72a-AstolfoMix-_x31te1-240421-feefbf4.mecha\n",
      "INFO: Saving recipe to F:\\NOVELAI\\astolfo_mix\\sdxl\\clip\\x72a-AstolfoMix-_x31te2-240421-feefbf4.mecha\n",
      "INFO: Saving recipe to F:\\NOVELAI\\astolfo_mix\\sdxl\\clip\\x72a-AstolfoMix-_x32te0-240421-feefbf4.mecha\n",
      "INFO: Saving recipe to F:\\NOVELAI\\astolfo_mix\\sdxl\\clip\\x72a-AstolfoMix-_x32te1-240421-feefbf4.mecha\n",
      "INFO: Saving recipe to F:\\NOVELAI\\astolfo_mix\\sdxl\\clip\\x72a-AstolfoMix-_x32te2-240421-feefbf4.mecha\n",
      "INFO: Saving recipe to F:\\NOVELAI\\astolfo_mix\\sdxl\\clip\\x72a-AstolfoMix-_x33te0-240421-feefbf4.mecha\n",
      "INFO: Saving recipe to F:\\NOVELAI\\astolfo_mix\\sdxl\\clip\\x72a-AstolfoMix-_x33te1-240421-feefbf4.mecha\n",
      "INFO: Saving recipe to F:\\NOVELAI\\astolfo_mix\\sdxl\\clip\\x72a-AstolfoMix-_x33te2-240421-feefbf4.mecha\n",
      "INFO: Saving recipe to F:\\NOVELAI\\astolfo_mix\\sdxl\\clip\\x72a-AstolfoMix-_x34te0-240421-feefbf4.mecha\n",
      "INFO: Saving recipe to F:\\NOVELAI\\astolfo_mix\\sdxl\\clip\\x72a-AstolfoMix-_x34te1-240421-feefbf4.mecha\n",
      "INFO: Saving recipe to F:\\NOVELAI\\astolfo_mix\\sdxl\\clip\\x72a-AstolfoMix-_x34te2-240421-feefbf4.mecha\n",
      "INFO: Saving recipe to F:\\NOVELAI\\astolfo_mix\\sdxl\\clip\\x72a-AstolfoMix-_x35te0-240421-feefbf4.mecha\n",
      "INFO: Saving recipe to F:\\NOVELAI\\astolfo_mix\\sdxl\\clip\\x72a-AstolfoMix-_x35te1-240421-feefbf4.mecha\n",
      "INFO: Saving recipe to F:\\NOVELAI\\astolfo_mix\\sdxl\\clip\\x72a-AstolfoMix-_x35te2-240421-feefbf4.mecha\n",
      "INFO: Saving recipe to F:\\NOVELAI\\astolfo_mix\\sdxl\\clip\\x72a-AstolfoMix-_x36te0-240421-feefbf4.mecha\n",
      "INFO: Saving recipe to F:\\NOVELAI\\astolfo_mix\\sdxl\\clip\\x72a-AstolfoMix-_x36te1-240421-feefbf4.mecha\n",
      "INFO: Saving recipe to F:\\NOVELAI\\astolfo_mix\\sdxl\\clip\\x72a-AstolfoMix-_x36te2-240421-feefbf4.mecha\n",
      "INFO: Saving recipe to F:\\NOVELAI\\astolfo_mix\\sdxl\\clip\\x72a-AstolfoMix-_x37te0-240421-feefbf4.mecha\n",
      "INFO: Saving recipe to F:\\NOVELAI\\astolfo_mix\\sdxl\\clip\\x72a-AstolfoMix-_x37te1-240421-feefbf4.mecha\n",
      "INFO: Saving recipe to F:\\NOVELAI\\astolfo_mix\\sdxl\\clip\\x72a-AstolfoMix-_x37te2-240421-feefbf4.mecha\n",
      "INFO: Saving recipe to F:\\NOVELAI\\astolfo_mix\\sdxl\\clip\\x72a-AstolfoMix-_x38te0-240421-feefbf4.mecha\n",
      "INFO: Saving recipe to F:\\NOVELAI\\astolfo_mix\\sdxl\\clip\\x72a-AstolfoMix-_x38te1-240421-feefbf4.mecha\n",
      "INFO: Saving recipe to F:\\NOVELAI\\astolfo_mix\\sdxl\\clip\\x72a-AstolfoMix-_x38te2-240421-feefbf4.mecha\n",
      "INFO: Saving recipe to F:\\NOVELAI\\astolfo_mix\\sdxl\\clip\\x72a-AstolfoMix-_x39te0-240421-feefbf4.mecha\n",
      "INFO: Saving recipe to F:\\NOVELAI\\astolfo_mix\\sdxl\\clip\\x72a-AstolfoMix-_x39te1-240421-feefbf4.mecha\n",
      "INFO: Saving recipe to F:\\NOVELAI\\astolfo_mix\\sdxl\\clip\\x72a-AstolfoMix-_x39te2-240421-feefbf4.mecha\n",
      "INFO: Saving recipe to F:\\NOVELAI\\astolfo_mix\\sdxl\\clip\\x72a-AstolfoMix-_x40te0-240421-feefbf4.mecha\n",
      "INFO: Saving recipe to F:\\NOVELAI\\astolfo_mix\\sdxl\\clip\\x72a-AstolfoMix-_x40te1-240421-feefbf4.mecha\n",
      "INFO: Saving recipe to F:\\NOVELAI\\astolfo_mix\\sdxl\\clip\\x72a-AstolfoMix-_x40te2-240421-feefbf4.mecha\n",
      "INFO: Saving recipe to F:\\NOVELAI\\astolfo_mix\\sdxl\\clip\\x72a-AstolfoMix-_x41te0-240421-feefbf4.mecha\n",
      "INFO: Saving recipe to F:\\NOVELAI\\astolfo_mix\\sdxl\\clip\\x72a-AstolfoMix-_x41te1-240421-feefbf4.mecha\n",
      "INFO: Saving recipe to F:\\NOVELAI\\astolfo_mix\\sdxl\\clip\\x72a-AstolfoMix-_x41te2-240421-feefbf4.mecha\n",
      "INFO: Saving recipe to F:\\NOVELAI\\astolfo_mix\\sdxl\\clip\\x72a-AstolfoMix-_x42te0-240421-feefbf4.mecha\n",
      "INFO: Saving recipe to F:\\NOVELAI\\astolfo_mix\\sdxl\\clip\\x72a-AstolfoMix-_x42te1-240421-feefbf4.mecha\n",
      "INFO: Saving recipe to F:\\NOVELAI\\astolfo_mix\\sdxl\\clip\\x72a-AstolfoMix-_x42te2-240421-feefbf4.mecha\n",
      "INFO: Saving recipe to F:\\NOVELAI\\astolfo_mix\\sdxl\\clip\\x72a-AstolfoMix-_x43te0-240421-feefbf4.mecha\n",
      "INFO: Saving recipe to F:\\NOVELAI\\astolfo_mix\\sdxl\\clip\\x72a-AstolfoMix-_x43te1-240421-feefbf4.mecha\n",
      "INFO: Saving recipe to F:\\NOVELAI\\astolfo_mix\\sdxl\\clip\\x72a-AstolfoMix-_x43te2-240421-feefbf4.mecha\n",
      "INFO: Saving recipe to F:\\NOVELAI\\astolfo_mix\\sdxl\\clip\\x72a-AstolfoMix-_x44te0-240421-feefbf4.mecha\n",
      "INFO: Saving recipe to F:\\NOVELAI\\astolfo_mix\\sdxl\\clip\\x72a-AstolfoMix-_x44te1-240421-feefbf4.mecha\n",
      "INFO: Saving recipe to F:\\NOVELAI\\astolfo_mix\\sdxl\\clip\\x72a-AstolfoMix-_x44te2-240421-feefbf4.mecha\n",
      "INFO: Saving recipe to F:\\NOVELAI\\astolfo_mix\\sdxl\\clip\\x72a-AstolfoMix-_x45te0-240421-feefbf4.mecha\n",
      "INFO: Saving recipe to F:\\NOVELAI\\astolfo_mix\\sdxl\\clip\\x72a-AstolfoMix-_x45te1-240421-feefbf4.mecha\n",
      "INFO: Saving recipe to F:\\NOVELAI\\astolfo_mix\\sdxl\\clip\\x72a-AstolfoMix-_x45te2-240421-feefbf4.mecha\n",
      "INFO: Saving recipe to F:\\NOVELAI\\astolfo_mix\\sdxl\\clip\\x72a-AstolfoMix-_x46te0-240421-feefbf4.mecha\n",
      "INFO: Saving recipe to F:\\NOVELAI\\astolfo_mix\\sdxl\\clip\\x72a-AstolfoMix-_x46te1-240421-feefbf4.mecha\n",
      "INFO: Saving recipe to F:\\NOVELAI\\astolfo_mix\\sdxl\\clip\\x72a-AstolfoMix-_x46te2-240421-feefbf4.mecha\n",
      "INFO: Saving recipe to F:\\NOVELAI\\astolfo_mix\\sdxl\\clip\\x72a-AstolfoMix-_x47te0-240421-feefbf4.mecha\n",
      "INFO: Saving recipe to F:\\NOVELAI\\astolfo_mix\\sdxl\\clip\\x72a-AstolfoMix-_x47te1-240421-feefbf4.mecha\n",
      "INFO: Saving recipe to F:\\NOVELAI\\astolfo_mix\\sdxl\\clip\\x72a-AstolfoMix-_x47te2-240421-feefbf4.mecha\n",
      "INFO: Saving recipe to F:\\NOVELAI\\astolfo_mix\\sdxl\\clip\\x72a-AstolfoMix-_x48te0-240421-feefbf4.mecha\n",
      "INFO: Saving recipe to F:\\NOVELAI\\astolfo_mix\\sdxl\\clip\\x72a-AstolfoMix-_x48te1-240421-feefbf4.mecha\n",
      "INFO: Saving recipe to F:\\NOVELAI\\astolfo_mix\\sdxl\\clip\\x72a-AstolfoMix-_x48te2-240421-feefbf4.mecha\n",
      "INFO: Saving recipe to F:\\NOVELAI\\astolfo_mix\\sdxl\\clip\\x72a-AstolfoMix-_x49te0-240421-feefbf4.mecha\n",
      "INFO: Saving recipe to F:\\NOVELAI\\astolfo_mix\\sdxl\\clip\\x72a-AstolfoMix-_x49te1-240421-feefbf4.mecha\n",
      "INFO: Saving recipe to F:\\NOVELAI\\astolfo_mix\\sdxl\\clip\\x72a-AstolfoMix-_x49te2-240421-feefbf4.mecha\n",
      "INFO: Saving recipe to F:\\NOVELAI\\astolfo_mix\\sdxl\\clip\\x72a-AstolfoMix-_x50te0-240421-feefbf4.mecha\n",
      "INFO: Saving recipe to F:\\NOVELAI\\astolfo_mix\\sdxl\\clip\\x72a-AstolfoMix-_x50te1-240421-feefbf4.mecha\n",
      "INFO: Saving recipe to F:\\NOVELAI\\astolfo_mix\\sdxl\\clip\\x72a-AstolfoMix-_x50te2-240421-feefbf4.mecha\n",
      "INFO: Saving recipe to F:\\NOVELAI\\astolfo_mix\\sdxl\\clip\\x72a-AstolfoMix-_x51te0-240421-feefbf4.mecha\n",
      "INFO: Saving recipe to F:\\NOVELAI\\astolfo_mix\\sdxl\\clip\\x72a-AstolfoMix-_x51te1-240421-feefbf4.mecha\n",
      "INFO: Saving recipe to F:\\NOVELAI\\astolfo_mix\\sdxl\\clip\\x72a-AstolfoMix-_x51te2-240421-feefbf4.mecha\n",
      "INFO: Saving recipe to F:\\NOVELAI\\astolfo_mix\\sdxl\\clip\\x72a-AstolfoMix-_x52te0-240421-feefbf4.mecha\n",
      "INFO: Saving recipe to F:\\NOVELAI\\astolfo_mix\\sdxl\\clip\\x72a-AstolfoMix-_x52te1-240421-feefbf4.mecha\n",
      "INFO: Saving recipe to F:\\NOVELAI\\astolfo_mix\\sdxl\\clip\\x72a-AstolfoMix-_x52te2-240421-feefbf4.mecha\n",
      "INFO: Saving recipe to F:\\NOVELAI\\astolfo_mix\\sdxl\\clip\\x72a-AstolfoMix-_x53te0-240421-feefbf4.mecha\n",
      "INFO: Saving recipe to F:\\NOVELAI\\astolfo_mix\\sdxl\\clip\\x72a-AstolfoMix-_x53te1-240421-feefbf4.mecha\n",
      "INFO: Saving recipe to F:\\NOVELAI\\astolfo_mix\\sdxl\\clip\\x72a-AstolfoMix-_x53te2-240421-feefbf4.mecha\n",
      "INFO: Saving recipe to F:\\NOVELAI\\astolfo_mix\\sdxl\\clip\\x72a-AstolfoMix-_x54te0-240421-feefbf4.mecha\n",
      "INFO: Saving recipe to F:\\NOVELAI\\astolfo_mix\\sdxl\\clip\\x72a-AstolfoMix-_x54te1-240421-feefbf4.mecha\n",
      "INFO: Saving recipe to F:\\NOVELAI\\astolfo_mix\\sdxl\\clip\\x72a-AstolfoMix-_x54te2-240421-feefbf4.mecha\n",
      "INFO: Saving recipe to F:\\NOVELAI\\astolfo_mix\\sdxl\\clip\\x72a-AstolfoMix-_x55te0-240421-feefbf4.mecha\n",
      "INFO: Saving recipe to F:\\NOVELAI\\astolfo_mix\\sdxl\\clip\\x72a-AstolfoMix-_x55te1-240421-feefbf4.mecha\n",
      "INFO: Saving recipe to F:\\NOVELAI\\astolfo_mix\\sdxl\\clip\\x72a-AstolfoMix-_x55te2-240421-feefbf4.mecha\n",
      "INFO: Saving recipe to F:\\NOVELAI\\astolfo_mix\\sdxl\\clip\\x72a-AstolfoMix-_x56te0-240421-feefbf4.mecha\n",
      "INFO: Saving recipe to F:\\NOVELAI\\astolfo_mix\\sdxl\\clip\\x72a-AstolfoMix-_x56te1-240421-feefbf4.mecha\n",
      "INFO: Saving recipe to F:\\NOVELAI\\astolfo_mix\\sdxl\\clip\\x72a-AstolfoMix-_x56te2-240421-feefbf4.mecha\n",
      "INFO: Saving recipe to F:\\NOVELAI\\astolfo_mix\\sdxl\\clip\\x72a-AstolfoMix-_x57te0-240421-feefbf4.mecha\n",
      "INFO: Saving recipe to F:\\NOVELAI\\astolfo_mix\\sdxl\\clip\\x72a-AstolfoMix-_x57te1-240421-feefbf4.mecha\n",
      "INFO: Saving recipe to F:\\NOVELAI\\astolfo_mix\\sdxl\\clip\\x72a-AstolfoMix-_x57te2-240421-feefbf4.mecha\n",
      "INFO: Saving recipe to F:\\NOVELAI\\astolfo_mix\\sdxl\\clip\\x72a-AstolfoMix-_x58te0-240421-feefbf4.mecha\n",
      "INFO: Saving recipe to F:\\NOVELAI\\astolfo_mix\\sdxl\\clip\\x72a-AstolfoMix-_x58te1-240421-feefbf4.mecha\n",
      "INFO: Saving recipe to F:\\NOVELAI\\astolfo_mix\\sdxl\\clip\\x72a-AstolfoMix-_x58te2-240421-feefbf4.mecha\n",
      "INFO: Saving recipe to F:\\NOVELAI\\astolfo_mix\\sdxl\\clip\\x72a-AstolfoMix-_x59te0-240421-feefbf4.mecha\n",
      "INFO: Saving recipe to F:\\NOVELAI\\astolfo_mix\\sdxl\\clip\\x72a-AstolfoMix-_x59te1-240421-feefbf4.mecha\n",
      "INFO: Saving recipe to F:\\NOVELAI\\astolfo_mix\\sdxl\\clip\\x72a-AstolfoMix-_x59te2-240421-feefbf4.mecha\n",
      "INFO: Saving recipe to F:\\NOVELAI\\astolfo_mix\\sdxl\\clip\\x72a-AstolfoMix-_x60te0-240421-feefbf4.mecha\n",
      "INFO: Saving recipe to F:\\NOVELAI\\astolfo_mix\\sdxl\\clip\\x72a-AstolfoMix-_x60te1-240421-feefbf4.mecha\n",
      "INFO: Saving recipe to F:\\NOVELAI\\astolfo_mix\\sdxl\\clip\\x72a-AstolfoMix-_x60te2-240421-feefbf4.mecha\n",
      "INFO: Saving recipe to F:\\NOVELAI\\astolfo_mix\\sdxl\\clip\\x72a-AstolfoMix-_x61te0-240421-feefbf4.mecha\n",
      "INFO: Saving recipe to F:\\NOVELAI\\astolfo_mix\\sdxl\\clip\\x72a-AstolfoMix-_x61te1-240421-feefbf4.mecha\n",
      "INFO: Saving recipe to F:\\NOVELAI\\astolfo_mix\\sdxl\\clip\\x72a-AstolfoMix-_x61te2-240421-feefbf4.mecha\n",
      "INFO: Saving recipe to F:\\NOVELAI\\astolfo_mix\\sdxl\\clip\\x72a-AstolfoMix-_x62te0-240421-feefbf4.mecha\n",
      "INFO: Saving recipe to F:\\NOVELAI\\astolfo_mix\\sdxl\\clip\\x72a-AstolfoMix-_x62te1-240421-feefbf4.mecha\n",
      "INFO: Saving recipe to F:\\NOVELAI\\astolfo_mix\\sdxl\\clip\\x72a-AstolfoMix-_x62te2-240421-feefbf4.mecha\n",
      "INFO: Saving recipe to F:\\NOVELAI\\astolfo_mix\\sdxl\\clip\\x72a-AstolfoMix-_x63te0-240421-feefbf4.mecha\n",
      "INFO: Saving recipe to F:\\NOVELAI\\astolfo_mix\\sdxl\\clip\\x72a-AstolfoMix-_x63te1-240421-feefbf4.mecha\n",
      "INFO: Saving recipe to F:\\NOVELAI\\astolfo_mix\\sdxl\\clip\\x72a-AstolfoMix-_x63te2-240421-feefbf4.mecha\n",
      "INFO: Saving recipe to F:\\NOVELAI\\astolfo_mix\\sdxl\\clip\\x72a-AstolfoMix-_x64te0-240421-feefbf4.mecha\n",
      "INFO: Saving recipe to F:\\NOVELAI\\astolfo_mix\\sdxl\\clip\\x72a-AstolfoMix-_x64te1-240421-feefbf4.mecha\n",
      "INFO: Saving recipe to F:\\NOVELAI\\astolfo_mix\\sdxl\\clip\\x72a-AstolfoMix-_x64te2-240421-feefbf4.mecha\n",
      "INFO: Saving recipe to F:\\NOVELAI\\astolfo_mix\\sdxl\\clip\\x72a-AstolfoMix-_x65te0-240421-feefbf4.mecha\n",
      "INFO: Saving recipe to F:\\NOVELAI\\astolfo_mix\\sdxl\\clip\\x72a-AstolfoMix-_x65te1-240421-feefbf4.mecha\n",
      "INFO: Saving recipe to F:\\NOVELAI\\astolfo_mix\\sdxl\\clip\\x72a-AstolfoMix-_x65te2-240421-feefbf4.mecha\n",
      "INFO: Saving recipe to F:\\NOVELAI\\astolfo_mix\\sdxl\\clip\\x72a-AstolfoMix-_x66te0-240421-feefbf4.mecha\n",
      "INFO: Saving recipe to F:\\NOVELAI\\astolfo_mix\\sdxl\\clip\\x72a-AstolfoMix-_x66te1-240421-feefbf4.mecha\n",
      "INFO: Saving recipe to F:\\NOVELAI\\astolfo_mix\\sdxl\\clip\\x72a-AstolfoMix-_x66te2-240421-feefbf4.mecha\n",
      "INFO: Saving recipe to F:\\NOVELAI\\astolfo_mix\\sdxl\\clip\\x72a-AstolfoMix-_x67te0-240421-feefbf4.mecha\n",
      "INFO: Saving recipe to F:\\NOVELAI\\astolfo_mix\\sdxl\\clip\\x72a-AstolfoMix-_x67te1-240421-feefbf4.mecha\n",
      "INFO: Saving recipe to F:\\NOVELAI\\astolfo_mix\\sdxl\\clip\\x72a-AstolfoMix-_x67te2-240421-feefbf4.mecha\n",
      "INFO: Saving recipe to F:\\NOVELAI\\astolfo_mix\\sdxl\\clip\\x72a-AstolfoMix-_x68te0-240421-feefbf4.mecha\n",
      "INFO: Saving recipe to F:\\NOVELAI\\astolfo_mix\\sdxl\\clip\\x72a-AstolfoMix-_x68te1-240421-feefbf4.mecha\n",
      "INFO: Saving recipe to F:\\NOVELAI\\astolfo_mix\\sdxl\\clip\\x72a-AstolfoMix-_x68te2-240421-feefbf4.mecha\n",
      "INFO: Saving recipe to F:\\NOVELAI\\astolfo_mix\\sdxl\\clip\\x72a-AstolfoMix-_x69te0-240421-feefbf4.mecha\n",
      "INFO: Saving recipe to F:\\NOVELAI\\astolfo_mix\\sdxl\\clip\\x72a-AstolfoMix-_x69te1-240421-feefbf4.mecha\n",
      "INFO: Saving recipe to F:\\NOVELAI\\astolfo_mix\\sdxl\\clip\\x72a-AstolfoMix-_x69te2-240421-feefbf4.mecha\n",
      "INFO: Saving recipe to F:\\NOVELAI\\astolfo_mix\\sdxl\\clip\\x72a-AstolfoMix-_x70te0-240421-feefbf4.mecha\n",
      "INFO: Saving recipe to F:\\NOVELAI\\astolfo_mix\\sdxl\\clip\\x72a-AstolfoMix-_x70te1-240421-feefbf4.mecha\n",
      "INFO: Saving recipe to F:\\NOVELAI\\astolfo_mix\\sdxl\\clip\\x72a-AstolfoMix-_x70te2-240421-feefbf4.mecha\n",
      "INFO: Saving recipe to F:\\NOVELAI\\astolfo_mix\\sdxl\\clip\\x72a-AstolfoMix-_x71te0-240421-feefbf4.mecha\n",
      "INFO: Saving recipe to F:\\NOVELAI\\astolfo_mix\\sdxl\\clip\\x72a-AstolfoMix-_x71te1-240421-feefbf4.mecha\n",
      "INFO: Saving recipe to F:\\NOVELAI\\astolfo_mix\\sdxl\\clip\\x72a-AstolfoMix-_x71te2-240421-feefbf4.mecha\n",
      "INFO: Saving recipe to F:\\NOVELAI\\astolfo_mix\\sdxl\\clip\\x72a-AstolfoMix-_x72te0-240421-feefbf4.mecha\n",
      "INFO: Saving recipe to F:\\NOVELAI\\astolfo_mix\\sdxl\\clip\\x72a-AstolfoMix-_x72te1-240421-feefbf4.mecha\n",
      "INFO: Saving recipe to F:\\NOVELAI\\astolfo_mix\\sdxl\\clip\\x72a-AstolfoMix-_x72te2-240421-feefbf4.mecha\n",
      "INFO: Saving recipe to F:\\NOVELAI\\astolfo_mix\\sdxl\\clip\\x72a-AstolfoMix-_x73te0-240421-feefbf4.mecha\n",
      "INFO: Saving recipe to F:\\NOVELAI\\astolfo_mix\\sdxl\\clip\\x72a-AstolfoMix-_x73te1-240421-feefbf4.mecha\n",
      "INFO: Saving recipe to F:\\NOVELAI\\astolfo_mix\\sdxl\\clip\\x72a-AstolfoMix-_x73te2-240421-feefbf4.mecha\n"
     ]
    }
   ],
   "source": [
    "# 3N models\n",
    "for i in range(len(MODEL_LIST_RAW)):\n",
    "    rte = make_recipe_te_itr(MODEL_LIST_RAW[i])\n",
    "    for j in range(len(N_CLIP)):    \n",
    "        set_rmk(rmk_te(i+1,j), rte[j])\n",
    "        sd_mecha.serialize_and_save(recipe_mapping[rmk_te(i+1,j)], get_te_itr_path(RECIPE_PATH_TE_ITR,i,j))"
   ]
  },
  {
   "cell_type": "markdown",
   "metadata": {},
   "source": [
    "### Picked CLIP Model ###"
   ]
  },
  {
   "cell_type": "code",
   "execution_count": 32,
   "metadata": {},
   "outputs": [],
   "source": [
    "def make_recipe_ste():\n",
    "    raw_models = list(map(lambda p: \"{}{}\".format(DIR_RAW,p),MODEL_LIST_RAW))\n",
    "    models_te0 = [raw_models[i-1] for i in MODEL_SELECTION_TE0]\n",
    "    models_te1 = [raw_models[i-1] for i in MODEL_SELECTION_TE1]\n",
    "\n",
    "    unet_model = \"{}{}\".format(MECHA_MODEL_PATH_RAW, MECHA_MODEL_EXT)\n",
    "    casted_unet_model = sd_mecha.model(unet_model, MECHA_IS_SDXL)\n",
    "\n",
    "    if ALGO_ACTIVATED == ALGO_AVERAGE:\n",
    "        recipe_te0 = models_te0[0]\n",
    "        casted_recipe_te0 = sd_mecha.model(recipe_te0, MECHA_IS_SDXL)\n",
    "        for i, model in enumerate(models_te0[1:], start=2):\n",
    "            casted_model = sd_mecha.model(model, MECHA_IS_SDXL)\n",
    "            casted_recipe_te0 = sd_mecha.weighted_sum(casted_model, casted_recipe_te0, alpha=(i-1)/i, dtype=g_precision_while_merge, device=g_device)\n",
    "        \n",
    "        recipe_te1 = models_te1[0]\n",
    "        casted_recipe_te1 = sd_mecha.model(recipe_te1, MECHA_IS_SDXL)\n",
    "        for i, model in enumerate(models_te1[1:], start=2):\n",
    "            casted_model = sd_mecha.model(model, MECHA_IS_SDXL)\n",
    "            casted_recipe_te1 = sd_mecha.weighted_sum(casted_model, casted_recipe_te1, alpha=(i-1)/i, dtype=g_precision_while_merge, device=g_device)\n",
    "    elif ALGO_ACTIVATED == ALGO_TIES:\n",
    "        # Unordered list\n",
    "        casted_models_te0 = [sd_mecha.model(model, MECHA_IS_SDXL) for model in models_te0]\n",
    "        casted_recipe_te0 = sd_mecha.add_difference_ties(CASTED_VAE_MODEL, *casted_models_te0, alpha=TIES_LAMBDA, k=TIES_TOP_K, dtype=g_precision_while_merge, device=g_device)\n",
    "        casted_models_te1 = [sd_mecha.model(model, MECHA_IS_SDXL) for model in models_te1]\n",
    "        casted_recipe_te1 = sd_mecha.add_difference_ties(CASTED_VAE_MODEL, *casted_models_te1, alpha=TIES_LAMBDA, k=TIES_TOP_K, dtype=g_precision_while_merge, device=g_device)\n",
    "    else:\n",
    "        raise Exception(\"Algorithm {} is not supported.\".format(ALGO_ACTIVATED))  \n",
    "\n",
    "    casted_unet_model = sd_mecha.weighted_sum(casted_recipe_te0, casted_unet_model, alpha=TE0_ALPHA, dtype=g_precision_while_merge, device=g_device)\n",
    "    casted_unet_model = sd_mecha.weighted_sum(casted_recipe_te1, casted_unet_model, alpha=TE1_ALPHA, dtype=g_precision_while_merge, device=g_device)\n",
    "\n",
    "    return pick_vae(casted_unet_model)"
   ]
  },
  {
   "cell_type": "code",
   "execution_count": 33,
   "metadata": {},
   "outputs": [
    {
     "name": "stderr",
     "output_type": "stream",
     "text": [
      "INFO: Saving recipe to F:\\NOVELAI\\astolfo_mix\\sdxl\\x72a-AstolfoMix-x63te0x44te1-240421-feefbf4.mecha\n"
     ]
    }
   ],
   "source": [
    "set_rmk(rmk_ste(), make_recipe_ste())\n",
    "sd_mecha.serialize_and_save(recipe_mapping[rmk_ste()], RECIPE_PATH_SELECTED_TE)"
   ]
  },
  {
   "cell_type": "markdown",
   "metadata": {},
   "source": [
    "### UNET Models to test ###"
   ]
  },
  {
   "cell_type": "code",
   "execution_count": 34,
   "metadata": {},
   "outputs": [],
   "source": [
    "def make_recipe_unet_itr(p):\n",
    "    unet_model = \"{}{}\".format(DIR_RAW, p)\n",
    "    clip_model = \"{}{}\".format(MECHA_MODEL_PATH_SELECTED_TE, MECHA_MODEL_EXT)\n",
    "    casted_unet_model = sd_mecha.model(unet_model, MECHA_IS_SDXL)\n",
    "    casted_clip_model = sd_mecha.model(clip_model, MECHA_IS_SDXL)\n",
    "    recipe_te2 = sd_mecha.weighted_sum(casted_clip_model, casted_unet_model, alpha=TE2_ALPHA, dtype=g_precision_while_merge, device=g_device)\n",
    "    return pick_vae(recipe_te2)"
   ]
  },
  {
   "cell_type": "code",
   "execution_count": 35,
   "metadata": {},
   "outputs": [
    {
     "name": "stderr",
     "output_type": "stream",
     "text": [
      "INFO: Saving recipe to F:\\NOVELAI\\astolfo_mix\\sdxl\\unet\\_x01a-AstolfoMix-x63te0x44te1-240421-feefbf4.mecha\n",
      "INFO: Saving recipe to F:\\NOVELAI\\astolfo_mix\\sdxl\\unet\\_x02a-AstolfoMix-x63te0x44te1-240421-feefbf4.mecha\n",
      "INFO: Saving recipe to F:\\NOVELAI\\astolfo_mix\\sdxl\\unet\\_x03a-AstolfoMix-x63te0x44te1-240421-feefbf4.mecha\n",
      "INFO: Saving recipe to F:\\NOVELAI\\astolfo_mix\\sdxl\\unet\\_x04a-AstolfoMix-x63te0x44te1-240421-feefbf4.mecha\n",
      "INFO: Saving recipe to F:\\NOVELAI\\astolfo_mix\\sdxl\\unet\\_x05a-AstolfoMix-x63te0x44te1-240421-feefbf4.mecha\n",
      "INFO: Saving recipe to F:\\NOVELAI\\astolfo_mix\\sdxl\\unet\\_x06a-AstolfoMix-x63te0x44te1-240421-feefbf4.mecha\n",
      "INFO: Saving recipe to F:\\NOVELAI\\astolfo_mix\\sdxl\\unet\\_x07a-AstolfoMix-x63te0x44te1-240421-feefbf4.mecha\n",
      "INFO: Saving recipe to F:\\NOVELAI\\astolfo_mix\\sdxl\\unet\\_x08a-AstolfoMix-x63te0x44te1-240421-feefbf4.mecha\n",
      "INFO: Saving recipe to F:\\NOVELAI\\astolfo_mix\\sdxl\\unet\\_x09a-AstolfoMix-x63te0x44te1-240421-feefbf4.mecha\n",
      "INFO: Saving recipe to F:\\NOVELAI\\astolfo_mix\\sdxl\\unet\\_x10a-AstolfoMix-x63te0x44te1-240421-feefbf4.mecha\n",
      "INFO: Saving recipe to F:\\NOVELAI\\astolfo_mix\\sdxl\\unet\\_x11a-AstolfoMix-x63te0x44te1-240421-feefbf4.mecha\n",
      "INFO: Saving recipe to F:\\NOVELAI\\astolfo_mix\\sdxl\\unet\\_x12a-AstolfoMix-x63te0x44te1-240421-feefbf4.mecha\n",
      "INFO: Saving recipe to F:\\NOVELAI\\astolfo_mix\\sdxl\\unet\\_x13a-AstolfoMix-x63te0x44te1-240421-feefbf4.mecha\n",
      "INFO: Saving recipe to F:\\NOVELAI\\astolfo_mix\\sdxl\\unet\\_x14a-AstolfoMix-x63te0x44te1-240421-feefbf4.mecha\n",
      "INFO: Saving recipe to F:\\NOVELAI\\astolfo_mix\\sdxl\\unet\\_x15a-AstolfoMix-x63te0x44te1-240421-feefbf4.mecha\n",
      "INFO: Saving recipe to F:\\NOVELAI\\astolfo_mix\\sdxl\\unet\\_x16a-AstolfoMix-x63te0x44te1-240421-feefbf4.mecha\n",
      "INFO: Saving recipe to F:\\NOVELAI\\astolfo_mix\\sdxl\\unet\\_x17a-AstolfoMix-x63te0x44te1-240421-feefbf4.mecha\n",
      "INFO: Saving recipe to F:\\NOVELAI\\astolfo_mix\\sdxl\\unet\\_x18a-AstolfoMix-x63te0x44te1-240421-feefbf4.mecha\n",
      "INFO: Saving recipe to F:\\NOVELAI\\astolfo_mix\\sdxl\\unet\\_x19a-AstolfoMix-x63te0x44te1-240421-feefbf4.mecha\n",
      "INFO: Saving recipe to F:\\NOVELAI\\astolfo_mix\\sdxl\\unet\\_x20a-AstolfoMix-x63te0x44te1-240421-feefbf4.mecha\n",
      "INFO: Saving recipe to F:\\NOVELAI\\astolfo_mix\\sdxl\\unet\\_x21a-AstolfoMix-x63te0x44te1-240421-feefbf4.mecha\n",
      "INFO: Saving recipe to F:\\NOVELAI\\astolfo_mix\\sdxl\\unet\\_x22a-AstolfoMix-x63te0x44te1-240421-feefbf4.mecha\n",
      "INFO: Saving recipe to F:\\NOVELAI\\astolfo_mix\\sdxl\\unet\\_x23a-AstolfoMix-x63te0x44te1-240421-feefbf4.mecha\n",
      "INFO: Saving recipe to F:\\NOVELAI\\astolfo_mix\\sdxl\\unet\\_x24a-AstolfoMix-x63te0x44te1-240421-feefbf4.mecha\n",
      "INFO: Saving recipe to F:\\NOVELAI\\astolfo_mix\\sdxl\\unet\\_x25a-AstolfoMix-x63te0x44te1-240421-feefbf4.mecha\n",
      "INFO: Saving recipe to F:\\NOVELAI\\astolfo_mix\\sdxl\\unet\\_x26a-AstolfoMix-x63te0x44te1-240421-feefbf4.mecha\n",
      "INFO: Saving recipe to F:\\NOVELAI\\astolfo_mix\\sdxl\\unet\\_x27a-AstolfoMix-x63te0x44te1-240421-feefbf4.mecha\n",
      "INFO: Saving recipe to F:\\NOVELAI\\astolfo_mix\\sdxl\\unet\\_x28a-AstolfoMix-x63te0x44te1-240421-feefbf4.mecha\n",
      "INFO: Saving recipe to F:\\NOVELAI\\astolfo_mix\\sdxl\\unet\\_x29a-AstolfoMix-x63te0x44te1-240421-feefbf4.mecha\n",
      "INFO: Saving recipe to F:\\NOVELAI\\astolfo_mix\\sdxl\\unet\\_x30a-AstolfoMix-x63te0x44te1-240421-feefbf4.mecha\n",
      "INFO: Saving recipe to F:\\NOVELAI\\astolfo_mix\\sdxl\\unet\\_x31a-AstolfoMix-x63te0x44te1-240421-feefbf4.mecha\n",
      "INFO: Saving recipe to F:\\NOVELAI\\astolfo_mix\\sdxl\\unet\\_x32a-AstolfoMix-x63te0x44te1-240421-feefbf4.mecha\n",
      "INFO: Saving recipe to F:\\NOVELAI\\astolfo_mix\\sdxl\\unet\\_x33a-AstolfoMix-x63te0x44te1-240421-feefbf4.mecha\n",
      "INFO: Saving recipe to F:\\NOVELAI\\astolfo_mix\\sdxl\\unet\\_x34a-AstolfoMix-x63te0x44te1-240421-feefbf4.mecha\n",
      "INFO: Saving recipe to F:\\NOVELAI\\astolfo_mix\\sdxl\\unet\\_x35a-AstolfoMix-x63te0x44te1-240421-feefbf4.mecha\n",
      "INFO: Saving recipe to F:\\NOVELAI\\astolfo_mix\\sdxl\\unet\\_x36a-AstolfoMix-x63te0x44te1-240421-feefbf4.mecha\n",
      "INFO: Saving recipe to F:\\NOVELAI\\astolfo_mix\\sdxl\\unet\\_x37a-AstolfoMix-x63te0x44te1-240421-feefbf4.mecha\n",
      "INFO: Saving recipe to F:\\NOVELAI\\astolfo_mix\\sdxl\\unet\\_x38a-AstolfoMix-x63te0x44te1-240421-feefbf4.mecha\n",
      "INFO: Saving recipe to F:\\NOVELAI\\astolfo_mix\\sdxl\\unet\\_x39a-AstolfoMix-x63te0x44te1-240421-feefbf4.mecha\n",
      "INFO: Saving recipe to F:\\NOVELAI\\astolfo_mix\\sdxl\\unet\\_x40a-AstolfoMix-x63te0x44te1-240421-feefbf4.mecha\n",
      "INFO: Saving recipe to F:\\NOVELAI\\astolfo_mix\\sdxl\\unet\\_x41a-AstolfoMix-x63te0x44te1-240421-feefbf4.mecha\n",
      "INFO: Saving recipe to F:\\NOVELAI\\astolfo_mix\\sdxl\\unet\\_x42a-AstolfoMix-x63te0x44te1-240421-feefbf4.mecha\n",
      "INFO: Saving recipe to F:\\NOVELAI\\astolfo_mix\\sdxl\\unet\\_x43a-AstolfoMix-x63te0x44te1-240421-feefbf4.mecha\n",
      "INFO: Saving recipe to F:\\NOVELAI\\astolfo_mix\\sdxl\\unet\\_x44a-AstolfoMix-x63te0x44te1-240421-feefbf4.mecha\n",
      "INFO: Saving recipe to F:\\NOVELAI\\astolfo_mix\\sdxl\\unet\\_x45a-AstolfoMix-x63te0x44te1-240421-feefbf4.mecha\n",
      "INFO: Saving recipe to F:\\NOVELAI\\astolfo_mix\\sdxl\\unet\\_x46a-AstolfoMix-x63te0x44te1-240421-feefbf4.mecha\n",
      "INFO: Saving recipe to F:\\NOVELAI\\astolfo_mix\\sdxl\\unet\\_x47a-AstolfoMix-x63te0x44te1-240421-feefbf4.mecha\n",
      "INFO: Saving recipe to F:\\NOVELAI\\astolfo_mix\\sdxl\\unet\\_x48a-AstolfoMix-x63te0x44te1-240421-feefbf4.mecha\n",
      "INFO: Saving recipe to F:\\NOVELAI\\astolfo_mix\\sdxl\\unet\\_x49a-AstolfoMix-x63te0x44te1-240421-feefbf4.mecha\n",
      "INFO: Saving recipe to F:\\NOVELAI\\astolfo_mix\\sdxl\\unet\\_x50a-AstolfoMix-x63te0x44te1-240421-feefbf4.mecha\n",
      "INFO: Saving recipe to F:\\NOVELAI\\astolfo_mix\\sdxl\\unet\\_x51a-AstolfoMix-x63te0x44te1-240421-feefbf4.mecha\n",
      "INFO: Saving recipe to F:\\NOVELAI\\astolfo_mix\\sdxl\\unet\\_x52a-AstolfoMix-x63te0x44te1-240421-feefbf4.mecha\n",
      "INFO: Saving recipe to F:\\NOVELAI\\astolfo_mix\\sdxl\\unet\\_x53a-AstolfoMix-x63te0x44te1-240421-feefbf4.mecha\n",
      "INFO: Saving recipe to F:\\NOVELAI\\astolfo_mix\\sdxl\\unet\\_x54a-AstolfoMix-x63te0x44te1-240421-feefbf4.mecha\n",
      "INFO: Saving recipe to F:\\NOVELAI\\astolfo_mix\\sdxl\\unet\\_x55a-AstolfoMix-x63te0x44te1-240421-feefbf4.mecha\n",
      "INFO: Saving recipe to F:\\NOVELAI\\astolfo_mix\\sdxl\\unet\\_x56a-AstolfoMix-x63te0x44te1-240421-feefbf4.mecha\n",
      "INFO: Saving recipe to F:\\NOVELAI\\astolfo_mix\\sdxl\\unet\\_x57a-AstolfoMix-x63te0x44te1-240421-feefbf4.mecha\n",
      "INFO: Saving recipe to F:\\NOVELAI\\astolfo_mix\\sdxl\\unet\\_x58a-AstolfoMix-x63te0x44te1-240421-feefbf4.mecha\n",
      "INFO: Saving recipe to F:\\NOVELAI\\astolfo_mix\\sdxl\\unet\\_x59a-AstolfoMix-x63te0x44te1-240421-feefbf4.mecha\n",
      "INFO: Saving recipe to F:\\NOVELAI\\astolfo_mix\\sdxl\\unet\\_x60a-AstolfoMix-x63te0x44te1-240421-feefbf4.mecha\n",
      "INFO: Saving recipe to F:\\NOVELAI\\astolfo_mix\\sdxl\\unet\\_x61a-AstolfoMix-x63te0x44te1-240421-feefbf4.mecha\n",
      "INFO: Saving recipe to F:\\NOVELAI\\astolfo_mix\\sdxl\\unet\\_x62a-AstolfoMix-x63te0x44te1-240421-feefbf4.mecha\n",
      "INFO: Saving recipe to F:\\NOVELAI\\astolfo_mix\\sdxl\\unet\\_x63a-AstolfoMix-x63te0x44te1-240421-feefbf4.mecha\n",
      "INFO: Saving recipe to F:\\NOVELAI\\astolfo_mix\\sdxl\\unet\\_x64a-AstolfoMix-x63te0x44te1-240421-feefbf4.mecha\n",
      "INFO: Saving recipe to F:\\NOVELAI\\astolfo_mix\\sdxl\\unet\\_x65a-AstolfoMix-x63te0x44te1-240421-feefbf4.mecha\n",
      "INFO: Saving recipe to F:\\NOVELAI\\astolfo_mix\\sdxl\\unet\\_x66a-AstolfoMix-x63te0x44te1-240421-feefbf4.mecha\n",
      "INFO: Saving recipe to F:\\NOVELAI\\astolfo_mix\\sdxl\\unet\\_x67a-AstolfoMix-x63te0x44te1-240421-feefbf4.mecha\n",
      "INFO: Saving recipe to F:\\NOVELAI\\astolfo_mix\\sdxl\\unet\\_x68a-AstolfoMix-x63te0x44te1-240421-feefbf4.mecha\n",
      "INFO: Saving recipe to F:\\NOVELAI\\astolfo_mix\\sdxl\\unet\\_x69a-AstolfoMix-x63te0x44te1-240421-feefbf4.mecha\n",
      "INFO: Saving recipe to F:\\NOVELAI\\astolfo_mix\\sdxl\\unet\\_x70a-AstolfoMix-x63te0x44te1-240421-feefbf4.mecha\n",
      "INFO: Saving recipe to F:\\NOVELAI\\astolfo_mix\\sdxl\\unet\\_x71a-AstolfoMix-x63te0x44te1-240421-feefbf4.mecha\n",
      "INFO: Saving recipe to F:\\NOVELAI\\astolfo_mix\\sdxl\\unet\\_x72a-AstolfoMix-x63te0x44te1-240421-feefbf4.mecha\n",
      "INFO: Saving recipe to F:\\NOVELAI\\astolfo_mix\\sdxl\\unet\\_x73a-AstolfoMix-x63te0x44te1-240421-feefbf4.mecha\n"
     ]
    }
   ],
   "source": [
    "# N models\n",
    "for i in range(len(MODEL_LIST_RAW)):\n",
    "    set_rmk(rmk_unet(i+1), make_recipe_unet_itr(MODEL_LIST_RAW[i]))\n",
    "    sd_mecha.serialize_and_save(recipe_mapping[rmk_unet(i+1)], get_unet_itr_path(RECIPE_PATH_UNET_ITR,i))"
   ]
  },
  {
   "cell_type": "markdown",
   "metadata": {},
   "source": [
    "### Final model ###\n",
    "\n",
    "- 2 models will be produced for validation. The real e2e and staged merging should yield same model within floating errors."
   ]
  },
  {
   "cell_type": "code",
   "execution_count": 36,
   "metadata": {},
   "outputs": [],
   "source": [
    "def make_recipe_final():\n",
    "    raw_models = list(map(lambda p: \"{}{}\".format(DIR_RAW,p),MODEL_LIST_RAW))\n",
    "    models_unet = [raw_models[i-1] for i in MODEL_SELECTION_UNET]\n",
    "\n",
    "    clip_model = \"{}{}\".format(MECHA_MODEL_PATH_SELECTED_TE, MECHA_MODEL_EXT)\n",
    "    casted_clip_model = sd_mecha.model(clip_model, MECHA_IS_SDXL)\n",
    "\n",
    "    if ALGO_ACTIVATED == ALGO_AVERAGE:\n",
    "        recipe_unet = models_unet[0]\n",
    "        casted_recipe_unet = sd_mecha.model(recipe_unet, MECHA_IS_SDXL)\n",
    "        for i, model in enumerate(models_unet[1:], start=2):\n",
    "            casted_model = sd_mecha.model(model, MECHA_IS_SDXL)\n",
    "            casted_recipe_unet = sd_mecha.weighted_sum(casted_model, casted_recipe_unet, alpha=(i-1)/i, dtype=g_precision_while_merge, device=g_device)\n",
    "    elif ALGO_ACTIVATED == ALGO_TIES:\n",
    "        # Unordered list\n",
    "        casted_models_unet = [sd_mecha.model(model, MECHA_IS_SDXL) for model in models_unet]\n",
    "        casted_recipe_unet = sd_mecha.add_difference_ties(CASTED_VAE_MODEL, *casted_models_unet, alpha=TIES_LAMBDA, k=TIES_TOP_K, dtype=g_precision_while_merge, device=g_device)\n",
    "    else:\n",
    "        raise Exception(\"Algorithm {} is not supported.\".format(ALGO_ACTIVATED))  \n",
    "\n",
    "    final_model = sd_mecha.weighted_sum(casted_clip_model, casted_recipe_unet, alpha=TE2_ALPHA, dtype=g_precision_while_merge, device=g_device)\n",
    "\n",
    "    return pick_vae(final_model)\n",
    "\n",
    "def make_recipe_e2e():\n",
    "    raw_models = list(map(lambda p: \"{}{}\".format(DIR_RAW,p),MODEL_LIST_RAW))\n",
    "\n",
    "    models_te0 = [raw_models[i-1] for i in MODEL_SELECTION_TE0]\n",
    "    models_te1 = [raw_models[i-1] for i in MODEL_SELECTION_TE1]\n",
    "    models_unet = [raw_models[i-1] for i in MODEL_SELECTION_UNET]\n",
    "   \n",
    "    if ALGO_ACTIVATED == ALGO_AVERAGE:\n",
    "        recipe_te0 = models_te0[0]\n",
    "        casted_recipe_te0 = sd_mecha.model(recipe_te0, MECHA_IS_SDXL)\n",
    "        for i, model in enumerate(models_te0[1:], start=2):\n",
    "            casted_model = sd_mecha.model(model, MECHA_IS_SDXL)\n",
    "            casted_recipe_te0 = sd_mecha.weighted_sum(casted_model, casted_recipe_te0, alpha=(i-1)/i, dtype=g_precision_while_merge, device=g_device)\n",
    "        recipe_te1 = models_te1[0]\n",
    "        casted_recipe_te1 = sd_mecha.model(recipe_te1, MECHA_IS_SDXL)\n",
    "        for i, model in enumerate(models_te1[1:], start=2):\n",
    "            casted_model = sd_mecha.model(model, MECHA_IS_SDXL)\n",
    "            casted_recipe_te1 = sd_mecha.weighted_sum(casted_model, casted_recipe_te1, alpha=(i-1)/i, dtype=g_precision_while_merge, device=g_device)\n",
    "        recipe_unet = models_unet[0]\n",
    "        casted_recipe_unet = sd_mecha.model(recipe_unet, MECHA_IS_SDXL)\n",
    "        for i, model in enumerate(models_unet[1:], start=2):\n",
    "            casted_model = sd_mecha.model(model, MECHA_IS_SDXL)\n",
    "            casted_recipe_unet = sd_mecha.weighted_sum(casted_model, casted_recipe_unet, alpha=(i-1)/i, dtype=g_precision_while_merge, device=g_device)\n",
    "    elif ALGO_ACTIVATED == ALGO_TIES:\n",
    "        # Unordered list\n",
    "        casted_models_te0 = [sd_mecha.model(model, MECHA_IS_SDXL) for model in models_te0]\n",
    "        casted_recipe_te0 = sd_mecha.add_difference_ties(CASTED_VAE_MODEL, *casted_models_te0, alpha=TIES_LAMBDA, k=TIES_TOP_K, dtype=g_precision_while_merge, device=g_device)\n",
    "        casted_models_te1 = [sd_mecha.model(model, MECHA_IS_SDXL) for model in models_te1]\n",
    "        casted_recipe_te1 = sd_mecha.add_difference_ties(CASTED_VAE_MODEL, *casted_models_te1, alpha=TIES_LAMBDA, k=TIES_TOP_K, dtype=g_precision_while_merge, device=g_device)\n",
    "        casted_models_unet = [sd_mecha.model(model, MECHA_IS_SDXL) for model in models_unet]\n",
    "        casted_recipe_unet = sd_mecha.add_difference_ties(CASTED_VAE_MODEL, *casted_models_unet, alpha=TIES_LAMBDA, k=TIES_TOP_K, dtype=g_precision_while_merge, device=g_device)\n",
    "    else:\n",
    "        raise Exception(\"Algorithm {} is not supported.\".format(ALGO_ACTIVATED))  \n",
    "\n",
    "    e2e_model = \"{}{}\".format(DIR_RAW,MODEL_LIST_RAW[MODEL_SELECTION_VAE - 1]) \n",
    "    casted_e2e_model = sd_mecha.model(e2e_model, MECHA_IS_SDXL)\n",
    "\n",
    "    casted_e2e_model = sd_mecha.weighted_sum(casted_e2e_model, casted_recipe_unet, alpha=TE2_ALPHA, dtype=g_precision_while_merge, device=g_device)\n",
    "    casted_e2e_model = sd_mecha.weighted_sum(casted_e2e_model, casted_recipe_te0, alpha=TE0_ALPHA_INVERTED, dtype=g_precision_while_merge, device=g_device)\n",
    "    casted_e2e_model = sd_mecha.weighted_sum(casted_e2e_model, casted_recipe_te1, alpha=TE1_ALPHA_INVERTED, dtype=g_precision_while_merge, device=g_device)\n",
    "\n",
    "    #Note that there is no pick_vae\n",
    "    return casted_e2e_model"
   ]
  },
  {
   "cell_type": "code",
   "execution_count": 37,
   "metadata": {},
   "outputs": [
    {
     "name": "stderr",
     "output_type": "stream",
     "text": [
      "INFO: Saving recipe to F:\\NOVELAI\\astolfo_mix\\sdxl\\x54-AstolfoMix-x63te0x44te1-240421-feefbf4.mecha\n",
      "INFO: Saving recipe to F:\\NOVELAI\\astolfo_mix\\sdxl\\x54-AstolfoMix-x63te0x44te1-e2e-240421-feefbf4.mecha\n"
     ]
    }
   ],
   "source": [
    "set_rmk(rmk_f(), make_recipe_final())\n",
    "sd_mecha.serialize_and_save(recipe_mapping[rmk_f()], RECIPE_PATH_FINAL)\n",
    "set_rmk(rmk_e2e(), make_recipe_e2e())\n",
    "sd_mecha.serialize_and_save(recipe_mapping[rmk_e2e()], RECIPE_PATH_E2E)"
   ]
  },
  {
   "cell_type": "markdown",
   "metadata": {},
   "source": [
    "## Time for action ##"
   ]
  },
  {
   "cell_type": "code",
   "execution_count": 38,
   "metadata": {},
   "outputs": [],
   "source": [
    "ts = time.time()"
   ]
  },
  {
   "cell_type": "markdown",
   "metadata": {},
   "source": [
    "### Naive Average ###"
   ]
  },
  {
   "cell_type": "code",
   "execution_count": 39,
   "metadata": {},
   "outputs": [
    {
     "name": "stderr",
     "output_type": "stream",
     "text": [
      "INFO: Saving to F:\\NOVELAI\\astolfo_mix\\sdxl\\x72a-AstolfoMix-240421-feefbf4.safetensors\n",
      "Merging recipe: 100%|██████████| 2515/2515 [56:40<00:00,  1.35s/it, key=model.diffusion_model.time_embed.2.weight, shape=[1280, 1280]]                                              "
     ]
    },
    {
     "name": "stdout",
     "output_type": "stream",
     "text": [
      "Merge time: 3401 sec\n"
     ]
    },
    {
     "name": "stderr",
     "output_type": "stream",
     "text": [
      "\n"
     ]
    }
   ],
   "source": [
    "tss = time.time()\n",
    "\n",
    "if MODE_RAW in MODE_ACTIVATED:\n",
    "    if os.path.isfile(OS_MODEL_PATH_RAW):\n",
    "        print(\"Merged model is present. Skipping.\")\n",
    "    else:\n",
    "        scheduler.merge_and_save(recipe_mapping[rmk_raw()], output=MECHA_MODEL_PATH_RAW, fallback_model=FALLBACK_AS_VAE_MODEL, save_dtype=g_precision_final_model, total_buffer_size=g_total_buffer_size, threads=g_threads)\n",
    "else:\n",
    "    print(\"This session is not activated. Skipping.\")\n",
    "\n",
    "tse = time.time()\n",
    "print(\"Merge time: {} sec\".format(int(tse - tss)))    "
   ]
  },
  {
   "cell_type": "markdown",
   "metadata": {},
   "source": [
    "### CLIP Models to test ###"
   ]
  },
  {
   "cell_type": "code",
   "execution_count": 40,
   "metadata": {},
   "outputs": [
    {
     "name": "stderr",
     "output_type": "stream",
     "text": [
      "INFO: Saving to F:\\NOVELAI\\astolfo_mix\\sdxl\\clip\\x72a-AstolfoMix-_x01te0-240421-feefbf4.safetensors\n",
      "Merging recipe:   0%|          | 0/2515 [00:00<?, ?it/s, key=conditioner.embedders.0.transformer.text_model.embeddings.position_embedding.weight, shape=[77, 768]]"
     ]
    },
    {
     "name": "stderr",
     "output_type": "stream",
     "text": [
      "Merging recipe: 100%|██████████| 2515/2515 [01:20<00:00, 31.26it/s, key=model.diffusion_model.time_embed.2.weight, shape=[1280, 1280]]                                             \n",
      "INFO: Saving to F:\\NOVELAI\\astolfo_mix\\sdxl\\clip\\x72a-AstolfoMix-_x01te1-240421-feefbf4.safetensors\n",
      "Merging recipe: 100%|██████████| 2515/2515 [01:13<00:00, 34.30it/s, key=model.diffusion_model.time_embed.2.weight, shape=[1280, 1280]]                                             \n",
      "INFO: Saving to F:\\NOVELAI\\astolfo_mix\\sdxl\\clip\\x72a-AstolfoMix-_x01te2-240421-feefbf4.safetensors\n",
      "Merging recipe: 100%|██████████| 2515/2515 [01:14<00:00, 33.67it/s, key=model.diffusion_model.time_embed.2.weight, shape=[1280, 1280]]                                             \n",
      "INFO: Saving to F:\\NOVELAI\\astolfo_mix\\sdxl\\clip\\x72a-AstolfoMix-_x02te0-240421-feefbf4.safetensors\n",
      "Merging recipe: 100%|██████████| 2515/2515 [01:13<00:00, 34.38it/s, key=model.diffusion_model.time_embed.2.weight, shape=[1280, 1280]]                                             \n",
      "INFO: Saving to F:\\NOVELAI\\astolfo_mix\\sdxl\\clip\\x72a-AstolfoMix-_x02te1-240421-feefbf4.safetensors\n",
      "Merging recipe: 100%|██████████| 2515/2515 [01:13<00:00, 34.23it/s, key=model.diffusion_model.time_embed.2.weight, shape=[1280, 1280]]                                             \n",
      "INFO: Saving to F:\\NOVELAI\\astolfo_mix\\sdxl\\clip\\x72a-AstolfoMix-_x02te2-240421-feefbf4.safetensors\n",
      "Merging recipe: 100%|██████████| 2515/2515 [01:13<00:00, 34.44it/s, key=model.diffusion_model.time_embed.2.weight, shape=[1280, 1280]]                                             \n",
      "INFO: Saving to F:\\NOVELAI\\astolfo_mix\\sdxl\\clip\\x72a-AstolfoMix-_x03te0-240421-feefbf4.safetensors\n",
      "Merging recipe: 100%|██████████| 2515/2515 [01:13<00:00, 34.35it/s, key=model.diffusion_model.time_embed.2.weight, shape=[1280, 1280]]                                             \n",
      "INFO: Saving to F:\\NOVELAI\\astolfo_mix\\sdxl\\clip\\x72a-AstolfoMix-_x03te1-240421-feefbf4.safetensors\n",
      "Merging recipe: 100%|██████████| 2515/2515 [01:12<00:00, 34.51it/s, key=model.diffusion_model.time_embed.2.weight, shape=[1280, 1280]]                                             \n",
      "INFO: Saving to F:\\NOVELAI\\astolfo_mix\\sdxl\\clip\\x72a-AstolfoMix-_x03te2-240421-feefbf4.safetensors\n",
      "Merging recipe: 100%|██████████| 2515/2515 [01:14<00:00, 33.61it/s, key=model.diffusion_model.time_embed.2.weight, shape=[1280, 1280]]                                             \n",
      "INFO: Saving to F:\\NOVELAI\\astolfo_mix\\sdxl\\clip\\x72a-AstolfoMix-_x04te0-240421-feefbf4.safetensors\n",
      "Merging recipe: 100%|██████████| 2515/2515 [01:13<00:00, 34.12it/s, key=model.diffusion_model.time_embed.2.weight, shape=[1280, 1280]]                                             \n",
      "INFO: Saving to F:\\NOVELAI\\astolfo_mix\\sdxl\\clip\\x72a-AstolfoMix-_x04te1-240421-feefbf4.safetensors\n",
      "Merging recipe: 100%|██████████| 2515/2515 [01:12<00:00, 34.61it/s, key=model.diffusion_model.time_embed.2.weight, shape=[1280, 1280]]                                             \n",
      "INFO: Saving to F:\\NOVELAI\\astolfo_mix\\sdxl\\clip\\x72a-AstolfoMix-_x04te2-240421-feefbf4.safetensors\n",
      "Merging recipe: 100%|██████████| 2515/2515 [01:14<00:00, 33.77it/s, key=model.diffusion_model.time_embed.2.weight, shape=[1280, 1280]]                                             \n",
      "INFO: Saving to F:\\NOVELAI\\astolfo_mix\\sdxl\\clip\\x72a-AstolfoMix-_x05te0-240421-feefbf4.safetensors\n",
      "Merging recipe: 100%|██████████| 2515/2515 [01:15<00:00, 33.44it/s, key=model.diffusion_model.time_embed.2.weight, shape=[1280, 1280]]                                             \n",
      "INFO: Saving to F:\\NOVELAI\\astolfo_mix\\sdxl\\clip\\x72a-AstolfoMix-_x05te1-240421-feefbf4.safetensors\n",
      "Merging recipe: 100%|██████████| 2515/2515 [01:15<00:00, 33.44it/s, key=model.diffusion_model.time_embed.2.weight, shape=[1280, 1280]]                                             \n",
      "INFO: Saving to F:\\NOVELAI\\astolfo_mix\\sdxl\\clip\\x72a-AstolfoMix-_x05te2-240421-feefbf4.safetensors\n",
      "Merging recipe: 100%|██████████| 2515/2515 [01:15<00:00, 33.36it/s, key=model.diffusion_model.time_embed.2.weight, shape=[1280, 1280]]                                             \n",
      "INFO: Saving to F:\\NOVELAI\\astolfo_mix\\sdxl\\clip\\x72a-AstolfoMix-_x06te0-240421-feefbf4.safetensors\n",
      "Merging recipe: 100%|██████████| 2515/2515 [01:17<00:00, 32.31it/s, key=model.diffusion_model.time_embed.2.weight, shape=[1280, 1280]]                                             \n",
      "INFO: Saving to F:\\NOVELAI\\astolfo_mix\\sdxl\\clip\\x72a-AstolfoMix-_x06te1-240421-feefbf4.safetensors\n",
      "Merging recipe: 100%|██████████| 2515/2515 [01:15<00:00, 33.18it/s, key=model.diffusion_model.time_embed.2.weight, shape=[1280, 1280]]                                             \n",
      "INFO: Saving to F:\\NOVELAI\\astolfo_mix\\sdxl\\clip\\x72a-AstolfoMix-_x06te2-240421-feefbf4.safetensors\n",
      "Merging recipe: 100%|██████████| 2515/2515 [01:16<00:00, 33.05it/s, key=model.diffusion_model.time_embed.2.weight, shape=[1280, 1280]]                                             \n",
      "INFO: Saving to F:\\NOVELAI\\astolfo_mix\\sdxl\\clip\\x72a-AstolfoMix-_x07te0-240421-feefbf4.safetensors\n",
      "Merging recipe: 100%|██████████| 2515/2515 [01:16<00:00, 32.74it/s, key=model.diffusion_model.time_embed.2.weight, shape=[1280, 1280]]                                             \n",
      "INFO: Saving to F:\\NOVELAI\\astolfo_mix\\sdxl\\clip\\x72a-AstolfoMix-_x07te1-240421-feefbf4.safetensors\n",
      "Merging recipe: 100%|██████████| 2515/2515 [01:16<00:00, 33.06it/s, key=model.diffusion_model.time_embed.2.weight, shape=[1280, 1280]]                                             \n",
      "INFO: Saving to F:\\NOVELAI\\astolfo_mix\\sdxl\\clip\\x72a-AstolfoMix-_x07te2-240421-feefbf4.safetensors\n",
      "Merging recipe: 100%|██████████| 2515/2515 [01:15<00:00, 33.13it/s, key=model.diffusion_model.time_embed.2.weight, shape=[1280, 1280]]                                             \n",
      "INFO: Saving to F:\\NOVELAI\\astolfo_mix\\sdxl\\clip\\x72a-AstolfoMix-_x08te0-240421-feefbf4.safetensors\n",
      "Merging recipe: 100%|██████████| 2515/2515 [01:17<00:00, 32.44it/s, key=model.diffusion_model.time_embed.2.weight, shape=[1280, 1280]]                                             \n",
      "INFO: Saving to F:\\NOVELAI\\astolfo_mix\\sdxl\\clip\\x72a-AstolfoMix-_x08te1-240421-feefbf4.safetensors\n",
      "Merging recipe: 100%|██████████| 2515/2515 [01:16<00:00, 32.94it/s, key=model.diffusion_model.time_embed.2.weight, shape=[1280, 1280]]                                             \n",
      "INFO: Saving to F:\\NOVELAI\\astolfo_mix\\sdxl\\clip\\x72a-AstolfoMix-_x08te2-240421-feefbf4.safetensors\n",
      "Merging recipe: 100%|██████████| 2515/2515 [01:16<00:00, 32.84it/s, key=model.diffusion_model.time_embed.2.weight, shape=[1280, 1280]]                                             \n",
      "INFO: Saving to F:\\NOVELAI\\astolfo_mix\\sdxl\\clip\\x72a-AstolfoMix-_x09te0-240421-feefbf4.safetensors\n",
      "Merging recipe: 100%|██████████| 2515/2515 [01:17<00:00, 32.46it/s, key=model.diffusion_model.time_embed.2.weight, shape=[1280, 1280]]                                             \n",
      "INFO: Saving to F:\\NOVELAI\\astolfo_mix\\sdxl\\clip\\x72a-AstolfoMix-_x09te1-240421-feefbf4.safetensors\n",
      "Merging recipe: 100%|██████████| 2515/2515 [01:15<00:00, 33.14it/s, key=model.diffusion_model.time_embed.2.weight, shape=[1280, 1280]]                                             \n",
      "INFO: Saving to F:\\NOVELAI\\astolfo_mix\\sdxl\\clip\\x72a-AstolfoMix-_x09te2-240421-feefbf4.safetensors\n",
      "Merging recipe: 100%|██████████| 2515/2515 [01:15<00:00, 33.21it/s, key=model.diffusion_model.time_embed.2.weight, shape=[1280, 1280]]                                             \n",
      "INFO: Saving to F:\\NOVELAI\\astolfo_mix\\sdxl\\clip\\x72a-AstolfoMix-_x10te0-240421-feefbf4.safetensors\n",
      "Merging recipe: 100%|██████████| 2515/2515 [01:17<00:00, 32.33it/s, key=model.diffusion_model.time_embed.2.weight, shape=[1280, 1280]]                                             \n",
      "INFO: Saving to F:\\NOVELAI\\astolfo_mix\\sdxl\\clip\\x72a-AstolfoMix-_x10te1-240421-feefbf4.safetensors\n",
      "Merging recipe: 100%|██████████| 2515/2515 [01:16<00:00, 32.87it/s, key=model.diffusion_model.time_embed.2.weight, shape=[1280, 1280]]                                             \n",
      "INFO: Saving to F:\\NOVELAI\\astolfo_mix\\sdxl\\clip\\x72a-AstolfoMix-_x10te2-240421-feefbf4.safetensors\n",
      "Merging recipe: 100%|██████████| 2515/2515 [01:15<00:00, 33.29it/s, key=model.diffusion_model.time_embed.2.weight, shape=[1280, 1280]]                                             \n",
      "INFO: Saving to F:\\NOVELAI\\astolfo_mix\\sdxl\\clip\\x72a-AstolfoMix-_x11te0-240421-feefbf4.safetensors\n",
      "Merging recipe: 100%|██████████| 2515/2515 [01:17<00:00, 32.43it/s, key=model.diffusion_model.time_embed.2.weight, shape=[1280, 1280]]                                             \n",
      "INFO: Saving to F:\\NOVELAI\\astolfo_mix\\sdxl\\clip\\x72a-AstolfoMix-_x11te1-240421-feefbf4.safetensors\n",
      "Merging recipe: 100%|██████████| 2515/2515 [01:16<00:00, 32.87it/s, key=model.diffusion_model.time_embed.2.weight, shape=[1280, 1280]]                                             \n",
      "INFO: Saving to F:\\NOVELAI\\astolfo_mix\\sdxl\\clip\\x72a-AstolfoMix-_x11te2-240421-feefbf4.safetensors\n",
      "Merging recipe: 100%|██████████| 2515/2515 [01:15<00:00, 33.20it/s, key=model.diffusion_model.time_embed.2.weight, shape=[1280, 1280]]                                             \n",
      "INFO: Saving to F:\\NOVELAI\\astolfo_mix\\sdxl\\clip\\x72a-AstolfoMix-_x12te0-240421-feefbf4.safetensors\n",
      "Merging recipe: 100%|██████████| 2515/2515 [01:17<00:00, 32.62it/s, key=model.diffusion_model.time_embed.2.weight, shape=[1280, 1280]]                                             \n",
      "INFO: Saving to F:\\NOVELAI\\astolfo_mix\\sdxl\\clip\\x72a-AstolfoMix-_x12te1-240421-feefbf4.safetensors\n",
      "Merging recipe: 100%|██████████| 2515/2515 [01:17<00:00, 32.42it/s, key=model.diffusion_model.time_embed.2.weight, shape=[1280, 1280]]                                             \n",
      "INFO: Saving to F:\\NOVELAI\\astolfo_mix\\sdxl\\clip\\x72a-AstolfoMix-_x12te2-240421-feefbf4.safetensors\n",
      "Merging recipe: 100%|██████████| 2515/2515 [01:15<00:00, 33.10it/s, key=model.diffusion_model.time_embed.2.weight, shape=[1280, 1280]]                                             \n",
      "INFO: Saving to F:\\NOVELAI\\astolfo_mix\\sdxl\\clip\\x72a-AstolfoMix-_x13te0-240421-feefbf4.safetensors\n",
      "Merging recipe: 100%|██████████| 2515/2515 [01:17<00:00, 32.35it/s, key=model.diffusion_model.time_embed.2.weight, shape=[1280, 1280]]                                             \n",
      "INFO: Saving to F:\\NOVELAI\\astolfo_mix\\sdxl\\clip\\x72a-AstolfoMix-_x13te1-240421-feefbf4.safetensors\n",
      "Merging recipe: 100%|██████████| 2515/2515 [01:15<00:00, 33.16it/s, key=model.diffusion_model.time_embed.2.weight, shape=[1280, 1280]]                                             \n",
      "INFO: Saving to F:\\NOVELAI\\astolfo_mix\\sdxl\\clip\\x72a-AstolfoMix-_x13te2-240421-feefbf4.safetensors\n",
      "Merging recipe: 100%|██████████| 2515/2515 [01:16<00:00, 33.03it/s, key=model.diffusion_model.time_embed.2.weight, shape=[1280, 1280]]                                             \n",
      "INFO: Saving to F:\\NOVELAI\\astolfo_mix\\sdxl\\clip\\x72a-AstolfoMix-_x14te0-240421-feefbf4.safetensors\n",
      "Merging recipe: 100%|██████████| 2515/2515 [01:17<00:00, 32.41it/s, key=model.diffusion_model.time_embed.2.weight, shape=[1280, 1280]]                                             \n",
      "INFO: Saving to F:\\NOVELAI\\astolfo_mix\\sdxl\\clip\\x72a-AstolfoMix-_x14te1-240421-feefbf4.safetensors\n",
      "Merging recipe: 100%|██████████| 2515/2515 [01:17<00:00, 32.62it/s, key=model.diffusion_model.time_embed.2.weight, shape=[1280, 1280]]                                             \n",
      "INFO: Saving to F:\\NOVELAI\\astolfo_mix\\sdxl\\clip\\x72a-AstolfoMix-_x14te2-240421-feefbf4.safetensors\n",
      "Merging recipe: 100%|██████████| 2515/2515 [01:16<00:00, 32.99it/s, key=model.diffusion_model.time_embed.2.weight, shape=[1280, 1280]]                                             \n",
      "INFO: Saving to F:\\NOVELAI\\astolfo_mix\\sdxl\\clip\\x72a-AstolfoMix-_x15te0-240421-feefbf4.safetensors\n",
      "Merging recipe: 100%|██████████| 2515/2515 [01:16<00:00, 32.93it/s, key=model.diffusion_model.time_embed.2.weight, shape=[1280, 1280]]                                             \n",
      "INFO: Saving to F:\\NOVELAI\\astolfo_mix\\sdxl\\clip\\x72a-AstolfoMix-_x15te1-240421-feefbf4.safetensors\n",
      "Merging recipe: 100%|██████████| 2515/2515 [01:16<00:00, 32.75it/s, key=model.diffusion_model.time_embed.2.weight, shape=[1280, 1280]]                                             \n",
      "INFO: Saving to F:\\NOVELAI\\astolfo_mix\\sdxl\\clip\\x72a-AstolfoMix-_x15te2-240421-feefbf4.safetensors\n",
      "Merging recipe: 100%|██████████| 2515/2515 [01:15<00:00, 33.34it/s, key=model.diffusion_model.time_embed.2.weight, shape=[1280, 1280]]                                             \n",
      "INFO: Saving to F:\\NOVELAI\\astolfo_mix\\sdxl\\clip\\x72a-AstolfoMix-_x16te0-240421-feefbf4.safetensors\n",
      "Merging recipe: 100%|██████████| 2515/2515 [01:22<00:00, 30.51it/s, key=model.diffusion_model.time_embed.2.weight, shape=[1280, 1280]]                                             \n",
      "INFO: Saving to F:\\NOVELAI\\astolfo_mix\\sdxl\\clip\\x72a-AstolfoMix-_x16te1-240421-feefbf4.safetensors\n",
      "Merging recipe: 100%|██████████| 2515/2515 [01:20<00:00, 31.43it/s, key=model.diffusion_model.time_embed.2.weight, shape=[1280, 1280]]                                             \n",
      "INFO: Saving to F:\\NOVELAI\\astolfo_mix\\sdxl\\clip\\x72a-AstolfoMix-_x16te2-240421-feefbf4.safetensors\n",
      "Merging recipe: 100%|██████████| 2515/2515 [01:20<00:00, 31.35it/s, key=model.diffusion_model.time_embed.2.weight, shape=[1280, 1280]]                                             \n",
      "INFO: Saving to F:\\NOVELAI\\astolfo_mix\\sdxl\\clip\\x72a-AstolfoMix-_x17te0-240421-feefbf4.safetensors\n",
      "Merging recipe: 100%|██████████| 2515/2515 [01:17<00:00, 32.60it/s, key=model.diffusion_model.time_embed.2.weight, shape=[1280, 1280]]                                             \n",
      "INFO: Saving to F:\\NOVELAI\\astolfo_mix\\sdxl\\clip\\x72a-AstolfoMix-_x17te1-240421-feefbf4.safetensors\n",
      "Merging recipe: 100%|██████████| 2515/2515 [01:16<00:00, 33.05it/s, key=model.diffusion_model.time_embed.2.weight, shape=[1280, 1280]]                                             \n",
      "INFO: Saving to F:\\NOVELAI\\astolfo_mix\\sdxl\\clip\\x72a-AstolfoMix-_x17te2-240421-feefbf4.safetensors\n",
      "Merging recipe: 100%|██████████| 2515/2515 [01:17<00:00, 32.28it/s, key=model.diffusion_model.time_embed.2.weight, shape=[1280, 1280]]                                             \n",
      "INFO: Saving to F:\\NOVELAI\\astolfo_mix\\sdxl\\clip\\x72a-AstolfoMix-_x18te0-240421-feefbf4.safetensors\n",
      "Merging recipe: 100%|██████████| 2515/2515 [01:17<00:00, 32.32it/s, key=model.diffusion_model.time_embed.2.weight, shape=[1280, 1280]]                                             \n",
      "INFO: Saving to F:\\NOVELAI\\astolfo_mix\\sdxl\\clip\\x72a-AstolfoMix-_x18te1-240421-feefbf4.safetensors\n",
      "Merging recipe: 100%|██████████| 2515/2515 [01:16<00:00, 32.90it/s, key=model.diffusion_model.time_embed.2.weight, shape=[1280, 1280]]                                             \n",
      "INFO: Saving to F:\\NOVELAI\\astolfo_mix\\sdxl\\clip\\x72a-AstolfoMix-_x18te2-240421-feefbf4.safetensors\n",
      "Merging recipe: 100%|██████████| 2515/2515 [01:17<00:00, 32.47it/s, key=model.diffusion_model.time_embed.2.weight, shape=[1280, 1280]]                                             \n",
      "INFO: Saving to F:\\NOVELAI\\astolfo_mix\\sdxl\\clip\\x72a-AstolfoMix-_x19te0-240421-feefbf4.safetensors\n",
      "Merging recipe: 100%|██████████| 2515/2515 [01:17<00:00, 32.40it/s, key=model.diffusion_model.time_embed.2.weight, shape=[1280, 1280]]                                             \n",
      "INFO: Saving to F:\\NOVELAI\\astolfo_mix\\sdxl\\clip\\x72a-AstolfoMix-_x19te1-240421-feefbf4.safetensors\n",
      "Merging recipe: 100%|██████████| 2515/2515 [01:16<00:00, 33.08it/s, key=model.diffusion_model.time_embed.2.weight, shape=[1280, 1280]]                                             \n",
      "INFO: Saving to F:\\NOVELAI\\astolfo_mix\\sdxl\\clip\\x72a-AstolfoMix-_x19te2-240421-feefbf4.safetensors\n",
      "Merging recipe: 100%|██████████| 2515/2515 [01:16<00:00, 32.68it/s, key=model.diffusion_model.time_embed.2.weight, shape=[1280, 1280]]                                             \n",
      "INFO: Saving to F:\\NOVELAI\\astolfo_mix\\sdxl\\clip\\x72a-AstolfoMix-_x20te0-240421-feefbf4.safetensors\n",
      "Merging recipe: 100%|██████████| 2515/2515 [01:17<00:00, 32.33it/s, key=model.diffusion_model.time_embed.2.weight, shape=[1280, 1280]]                                             \n",
      "INFO: Saving to F:\\NOVELAI\\astolfo_mix\\sdxl\\clip\\x72a-AstolfoMix-_x20te1-240421-feefbf4.safetensors\n",
      "Merging recipe: 100%|██████████| 2515/2515 [01:15<00:00, 33.30it/s, key=model.diffusion_model.time_embed.2.weight, shape=[1280, 1280]]                                             \n",
      "INFO: Saving to F:\\NOVELAI\\astolfo_mix\\sdxl\\clip\\x72a-AstolfoMix-_x20te2-240421-feefbf4.safetensors\n",
      "Merging recipe: 100%|██████████| 2515/2515 [01:16<00:00, 32.71it/s, key=model.diffusion_model.time_embed.2.weight, shape=[1280, 1280]]                                             \n",
      "INFO: Saving to F:\\NOVELAI\\astolfo_mix\\sdxl\\clip\\x72a-AstolfoMix-_x21te0-240421-feefbf4.safetensors\n",
      "Merging recipe: 100%|██████████| 2515/2515 [01:18<00:00, 31.92it/s, key=model.diffusion_model.time_embed.2.weight, shape=[1280, 1280]]                                             \n",
      "INFO: Saving to F:\\NOVELAI\\astolfo_mix\\sdxl\\clip\\x72a-AstolfoMix-_x21te1-240421-feefbf4.safetensors\n",
      "Merging recipe: 100%|██████████| 2515/2515 [01:16<00:00, 32.84it/s, key=model.diffusion_model.time_embed.2.weight, shape=[1280, 1280]]                                             \n",
      "INFO: Saving to F:\\NOVELAI\\astolfo_mix\\sdxl\\clip\\x72a-AstolfoMix-_x21te2-240421-feefbf4.safetensors\n",
      "Merging recipe: 100%|██████████| 2515/2515 [01:16<00:00, 33.08it/s, key=model.diffusion_model.time_embed.2.weight, shape=[1280, 1280]]                                             \n",
      "INFO: Saving to F:\\NOVELAI\\astolfo_mix\\sdxl\\clip\\x72a-AstolfoMix-_x22te0-240421-feefbf4.safetensors\n",
      "Merging recipe: 100%|██████████| 2515/2515 [01:18<00:00, 32.09it/s, key=model.diffusion_model.time_embed.2.weight, shape=[1280, 1280]]                                             \n",
      "INFO: Saving to F:\\NOVELAI\\astolfo_mix\\sdxl\\clip\\x72a-AstolfoMix-_x22te1-240421-feefbf4.safetensors\n",
      "Merging recipe: 100%|██████████| 2515/2515 [01:16<00:00, 32.95it/s, key=model.diffusion_model.time_embed.2.weight, shape=[1280, 1280]]                                             \n",
      "INFO: Saving to F:\\NOVELAI\\astolfo_mix\\sdxl\\clip\\x72a-AstolfoMix-_x22te2-240421-feefbf4.safetensors\n",
      "Merging recipe: 100%|██████████| 2515/2515 [01:15<00:00, 33.21it/s, key=model.diffusion_model.time_embed.2.weight, shape=[1280, 1280]]                                             \n",
      "INFO: Saving to F:\\NOVELAI\\astolfo_mix\\sdxl\\clip\\x72a-AstolfoMix-_x23te0-240421-feefbf4.safetensors\n",
      "Merging recipe: 100%|██████████| 2515/2515 [01:18<00:00, 32.07it/s, key=model.diffusion_model.time_embed.2.weight, shape=[1280, 1280]]                                             \n",
      "INFO: Saving to F:\\NOVELAI\\astolfo_mix\\sdxl\\clip\\x72a-AstolfoMix-_x23te1-240421-feefbf4.safetensors\n",
      "Merging recipe: 100%|██████████| 2515/2515 [01:17<00:00, 32.51it/s, key=model.diffusion_model.time_embed.2.weight, shape=[1280, 1280]]                                             \n",
      "INFO: Saving to F:\\NOVELAI\\astolfo_mix\\sdxl\\clip\\x72a-AstolfoMix-_x23te2-240421-feefbf4.safetensors\n",
      "Merging recipe: 100%|██████████| 2515/2515 [01:20<00:00, 31.26it/s, key=model.diffusion_model.time_embed.2.weight, shape=[1280, 1280]]                                             \n",
      "INFO: Saving to F:\\NOVELAI\\astolfo_mix\\sdxl\\clip\\x72a-AstolfoMix-_x24te0-240421-feefbf4.safetensors\n",
      "Merging recipe: 100%|██████████| 2515/2515 [01:20<00:00, 31.26it/s, key=model.diffusion_model.time_embed.2.weight, shape=[1280, 1280]]                                             \n",
      "INFO: Saving to F:\\NOVELAI\\astolfo_mix\\sdxl\\clip\\x72a-AstolfoMix-_x24te1-240421-feefbf4.safetensors\n",
      "Merging recipe: 100%|██████████| 2515/2515 [01:16<00:00, 33.00it/s, key=model.diffusion_model.time_embed.2.weight, shape=[1280, 1280]]                                             \n",
      "INFO: Saving to F:\\NOVELAI\\astolfo_mix\\sdxl\\clip\\x72a-AstolfoMix-_x24te2-240421-feefbf4.safetensors\n",
      "Merging recipe: 100%|██████████| 2515/2515 [01:16<00:00, 32.99it/s, key=model.diffusion_model.time_embed.2.weight, shape=[1280, 1280]]                                             \n",
      "INFO: Saving to F:\\NOVELAI\\astolfo_mix\\sdxl\\clip\\x72a-AstolfoMix-_x25te0-240421-feefbf4.safetensors\n",
      "Merging recipe: 100%|██████████| 2515/2515 [01:17<00:00, 32.66it/s, key=model.diffusion_model.time_embed.2.weight, shape=[1280, 1280]]                                             \n",
      "INFO: Saving to F:\\NOVELAI\\astolfo_mix\\sdxl\\clip\\x72a-AstolfoMix-_x25te1-240421-feefbf4.safetensors\n",
      "Merging recipe: 100%|██████████| 2515/2515 [01:16<00:00, 32.73it/s, key=model.diffusion_model.time_embed.2.weight, shape=[1280, 1280]]                                             \n",
      "INFO: Saving to F:\\NOVELAI\\astolfo_mix\\sdxl\\clip\\x72a-AstolfoMix-_x25te2-240421-feefbf4.safetensors\n",
      "Merging recipe: 100%|██████████| 2515/2515 [01:15<00:00, 33.24it/s, key=model.diffusion_model.time_embed.2.weight, shape=[1280, 1280]]                                             \n",
      "INFO: Saving to F:\\NOVELAI\\astolfo_mix\\sdxl\\clip\\x72a-AstolfoMix-_x26te0-240421-feefbf4.safetensors\n",
      "Merging recipe: 100%|██████████| 2515/2515 [01:17<00:00, 32.32it/s, key=model.diffusion_model.time_embed.2.weight, shape=[1280, 1280]]                                             \n",
      "INFO: Saving to F:\\NOVELAI\\astolfo_mix\\sdxl\\clip\\x72a-AstolfoMix-_x26te1-240421-feefbf4.safetensors\n",
      "Merging recipe: 100%|██████████| 2515/2515 [01:17<00:00, 32.63it/s, key=model.diffusion_model.time_embed.2.weight, shape=[1280, 1280]]                                             \n",
      "INFO: Saving to F:\\NOVELAI\\astolfo_mix\\sdxl\\clip\\x72a-AstolfoMix-_x26te2-240421-feefbf4.safetensors\n",
      "Merging recipe: 100%|██████████| 2515/2515 [01:16<00:00, 33.07it/s, key=model.diffusion_model.time_embed.2.weight, shape=[1280, 1280]]                                             \n",
      "INFO: Saving to F:\\NOVELAI\\astolfo_mix\\sdxl\\clip\\x72a-AstolfoMix-_x27te0-240421-feefbf4.safetensors\n",
      "Merging recipe: 100%|██████████| 2515/2515 [01:18<00:00, 31.91it/s, key=model.diffusion_model.time_embed.2.weight, shape=[1280, 1280]]                                             \n",
      "INFO: Saving to F:\\NOVELAI\\astolfo_mix\\sdxl\\clip\\x72a-AstolfoMix-_x27te1-240421-feefbf4.safetensors\n",
      "Merging recipe: 100%|██████████| 2515/2515 [01:16<00:00, 32.86it/s, key=model.diffusion_model.time_embed.2.weight, shape=[1280, 1280]]                                             \n",
      "INFO: Saving to F:\\NOVELAI\\astolfo_mix\\sdxl\\clip\\x72a-AstolfoMix-_x27te2-240421-feefbf4.safetensors\n",
      "Merging recipe: 100%|██████████| 2515/2515 [01:15<00:00, 33.29it/s, key=model.diffusion_model.time_embed.2.weight, shape=[1280, 1280]]                                             \n",
      "INFO: Saving to F:\\NOVELAI\\astolfo_mix\\sdxl\\clip\\x72a-AstolfoMix-_x28te0-240421-feefbf4.safetensors\n",
      "Merging recipe: 100%|██████████| 2515/2515 [01:18<00:00, 32.16it/s, key=model.diffusion_model.time_embed.2.weight, shape=[1280, 1280]]                                             \n",
      "INFO: Saving to F:\\NOVELAI\\astolfo_mix\\sdxl\\clip\\x72a-AstolfoMix-_x28te1-240421-feefbf4.safetensors\n",
      "Merging recipe: 100%|██████████| 2515/2515 [01:16<00:00, 33.03it/s, key=model.diffusion_model.time_embed.2.weight, shape=[1280, 1280]]                                             \n",
      "INFO: Saving to F:\\NOVELAI\\astolfo_mix\\sdxl\\clip\\x72a-AstolfoMix-_x28te2-240421-feefbf4.safetensors\n",
      "Merging recipe: 100%|██████████| 2515/2515 [01:15<00:00, 33.10it/s, key=model.diffusion_model.time_embed.2.weight, shape=[1280, 1280]]                                             \n",
      "INFO: Saving to F:\\NOVELAI\\astolfo_mix\\sdxl\\clip\\x72a-AstolfoMix-_x29te0-240421-feefbf4.safetensors\n",
      "Merging recipe: 100%|██████████| 2515/2515 [01:17<00:00, 32.41it/s, key=model.diffusion_model.time_embed.2.weight, shape=[1280, 1280]]                                             \n",
      "INFO: Saving to F:\\NOVELAI\\astolfo_mix\\sdxl\\clip\\x72a-AstolfoMix-_x29te1-240421-feefbf4.safetensors\n",
      "Merging recipe: 100%|██████████| 2515/2515 [01:16<00:00, 32.92it/s, key=model.diffusion_model.time_embed.2.weight, shape=[1280, 1280]]                                             \n",
      "INFO: Saving to F:\\NOVELAI\\astolfo_mix\\sdxl\\clip\\x72a-AstolfoMix-_x29te2-240421-feefbf4.safetensors\n",
      "Merging recipe: 100%|██████████| 2515/2515 [01:15<00:00, 33.21it/s, key=model.diffusion_model.time_embed.2.weight, shape=[1280, 1280]]                                             \n",
      "INFO: Saving to F:\\NOVELAI\\astolfo_mix\\sdxl\\clip\\x72a-AstolfoMix-_x30te0-240421-feefbf4.safetensors\n",
      "Merging recipe: 100%|██████████| 2515/2515 [01:18<00:00, 32.13it/s, key=model.diffusion_model.time_embed.2.weight, shape=[1280, 1280]]                                             \n",
      "INFO: Saving to F:\\NOVELAI\\astolfo_mix\\sdxl\\clip\\x72a-AstolfoMix-_x30te1-240421-feefbf4.safetensors\n",
      "Merging recipe: 100%|██████████| 2515/2515 [01:16<00:00, 32.81it/s, key=model.diffusion_model.time_embed.2.weight, shape=[1280, 1280]]                                             \n",
      "INFO: Saving to F:\\NOVELAI\\astolfo_mix\\sdxl\\clip\\x72a-AstolfoMix-_x30te2-240421-feefbf4.safetensors\n",
      "Merging recipe: 100%|██████████| 2515/2515 [01:17<00:00, 32.57it/s, key=model.diffusion_model.time_embed.2.weight, shape=[1280, 1280]]                                             \n",
      "INFO: Saving to F:\\NOVELAI\\astolfo_mix\\sdxl\\clip\\x72a-AstolfoMix-_x31te0-240421-feefbf4.safetensors\n",
      "Merging recipe: 100%|██████████| 2515/2515 [01:18<00:00, 32.07it/s, key=model.diffusion_model.time_embed.2.weight, shape=[1280, 1280]]                                             \n",
      "INFO: Saving to F:\\NOVELAI\\astolfo_mix\\sdxl\\clip\\x72a-AstolfoMix-_x31te1-240421-feefbf4.safetensors\n",
      "Merging recipe: 100%|██████████| 2515/2515 [01:17<00:00, 32.58it/s, key=model.diffusion_model.time_embed.2.weight, shape=[1280, 1280]]                                             \n",
      "INFO: Saving to F:\\NOVELAI\\astolfo_mix\\sdxl\\clip\\x72a-AstolfoMix-_x31te2-240421-feefbf4.safetensors\n",
      "Merging recipe: 100%|██████████| 2515/2515 [01:15<00:00, 33.21it/s, key=model.diffusion_model.time_embed.2.weight, shape=[1280, 1280]]                                             \n",
      "INFO: Saving to F:\\NOVELAI\\astolfo_mix\\sdxl\\clip\\x72a-AstolfoMix-_x32te0-240421-feefbf4.safetensors\n",
      "Merging recipe: 100%|██████████| 2515/2515 [01:17<00:00, 32.28it/s, key=model.diffusion_model.time_embed.2.weight, shape=[1280, 1280]]                                             \n",
      "INFO: Saving to F:\\NOVELAI\\astolfo_mix\\sdxl\\clip\\x72a-AstolfoMix-_x32te1-240421-feefbf4.safetensors\n",
      "Merging recipe: 100%|██████████| 2515/2515 [01:16<00:00, 33.04it/s, key=model.diffusion_model.time_embed.2.weight, shape=[1280, 1280]]                                             \n",
      "INFO: Saving to F:\\NOVELAI\\astolfo_mix\\sdxl\\clip\\x72a-AstolfoMix-_x32te2-240421-feefbf4.safetensors\n",
      "Merging recipe: 100%|██████████| 2515/2515 [01:16<00:00, 32.95it/s, key=model.diffusion_model.time_embed.2.weight, shape=[1280, 1280]]                                             \n",
      "INFO: Saving to F:\\NOVELAI\\astolfo_mix\\sdxl\\clip\\x72a-AstolfoMix-_x33te0-240421-feefbf4.safetensors\n",
      "Merging recipe: 100%|██████████| 2515/2515 [01:18<00:00, 31.95it/s, key=model.diffusion_model.time_embed.2.weight, shape=[1280, 1280]]                                             \n",
      "INFO: Saving to F:\\NOVELAI\\astolfo_mix\\sdxl\\clip\\x72a-AstolfoMix-_x33te1-240421-feefbf4.safetensors\n",
      "Merging recipe: 100%|██████████| 2515/2515 [01:15<00:00, 33.35it/s, key=model.diffusion_model.time_embed.2.weight, shape=[1280, 1280]]                                             \n",
      "INFO: Saving to F:\\NOVELAI\\astolfo_mix\\sdxl\\clip\\x72a-AstolfoMix-_x33te2-240421-feefbf4.safetensors\n",
      "Merging recipe: 100%|██████████| 2515/2515 [01:16<00:00, 32.69it/s, key=model.diffusion_model.time_embed.2.weight, shape=[1280, 1280]]                                             \n",
      "INFO: Saving to F:\\NOVELAI\\astolfo_mix\\sdxl\\clip\\x72a-AstolfoMix-_x34te0-240421-feefbf4.safetensors\n",
      "Merging recipe: 100%|██████████| 2515/2515 [01:18<00:00, 32.18it/s, key=model.diffusion_model.time_embed.2.weight, shape=[1280, 1280]]                                             \n",
      "INFO: Saving to F:\\NOVELAI\\astolfo_mix\\sdxl\\clip\\x72a-AstolfoMix-_x34te1-240421-feefbf4.safetensors\n",
      "Merging recipe: 100%|██████████| 2515/2515 [01:16<00:00, 33.04it/s, key=model.diffusion_model.time_embed.2.weight, shape=[1280, 1280]]                                             \n",
      "INFO: Saving to F:\\NOVELAI\\astolfo_mix\\sdxl\\clip\\x72a-AstolfoMix-_x34te2-240421-feefbf4.safetensors\n",
      "Merging recipe: 100%|██████████| 2515/2515 [01:17<00:00, 32.64it/s, key=model.diffusion_model.time_embed.2.weight, shape=[1280, 1280]]                                             \n",
      "INFO: Saving to F:\\NOVELAI\\astolfo_mix\\sdxl\\clip\\x72a-AstolfoMix-_x35te0-240421-feefbf4.safetensors\n",
      "Merging recipe: 100%|██████████| 2515/2515 [01:18<00:00, 32.21it/s, key=model.diffusion_model.time_embed.2.weight, shape=[1280, 1280]]                                             \n",
      "INFO: Saving to F:\\NOVELAI\\astolfo_mix\\sdxl\\clip\\x72a-AstolfoMix-_x35te1-240421-feefbf4.safetensors\n",
      "Merging recipe: 100%|██████████| 2515/2515 [01:16<00:00, 32.88it/s, key=model.diffusion_model.time_embed.2.weight, shape=[1280, 1280]]                                             \n",
      "INFO: Saving to F:\\NOVELAI\\astolfo_mix\\sdxl\\clip\\x72a-AstolfoMix-_x35te2-240421-feefbf4.safetensors\n",
      "Merging recipe: 100%|██████████| 2515/2515 [01:16<00:00, 32.86it/s, key=model.diffusion_model.time_embed.2.weight, shape=[1280, 1280]]                                             \n",
      "INFO: Saving to F:\\NOVELAI\\astolfo_mix\\sdxl\\clip\\x72a-AstolfoMix-_x36te0-240421-feefbf4.safetensors\n",
      "Merging recipe: 100%|██████████| 2515/2515 [01:17<00:00, 32.27it/s, key=model.diffusion_model.time_embed.2.weight, shape=[1280, 1280]]                                             \n",
      "INFO: Saving to F:\\NOVELAI\\astolfo_mix\\sdxl\\clip\\x72a-AstolfoMix-_x36te1-240421-feefbf4.safetensors\n",
      "Merging recipe: 100%|██████████| 2515/2515 [01:16<00:00, 32.85it/s, key=model.diffusion_model.time_embed.2.weight, shape=[1280, 1280]]                                             \n",
      "INFO: Saving to F:\\NOVELAI\\astolfo_mix\\sdxl\\clip\\x72a-AstolfoMix-_x36te2-240421-feefbf4.safetensors\n",
      "Merging recipe: 100%|██████████| 2515/2515 [01:16<00:00, 32.74it/s, key=model.diffusion_model.time_embed.2.weight, shape=[1280, 1280]]                                             \n",
      "INFO: Saving to F:\\NOVELAI\\astolfo_mix\\sdxl\\clip\\x72a-AstolfoMix-_x37te0-240421-feefbf4.safetensors\n",
      "Merging recipe: 100%|██████████| 2515/2515 [01:17<00:00, 32.39it/s, key=model.diffusion_model.time_embed.2.weight, shape=[1280, 1280]]                                             \n",
      "INFO: Saving to F:\\NOVELAI\\astolfo_mix\\sdxl\\clip\\x72a-AstolfoMix-_x37te1-240421-feefbf4.safetensors\n",
      "Merging recipe: 100%|██████████| 2515/2515 [01:15<00:00, 33.13it/s, key=model.diffusion_model.time_embed.2.weight, shape=[1280, 1280]]                                             \n",
      "INFO: Saving to F:\\NOVELAI\\astolfo_mix\\sdxl\\clip\\x72a-AstolfoMix-_x37te2-240421-feefbf4.safetensors\n",
      "Merging recipe: 100%|██████████| 2515/2515 [01:16<00:00, 32.85it/s, key=model.diffusion_model.time_embed.2.weight, shape=[1280, 1280]]                                             \n",
      "INFO: Saving to F:\\NOVELAI\\astolfo_mix\\sdxl\\clip\\x72a-AstolfoMix-_x38te0-240421-feefbf4.safetensors\n",
      "Merging recipe: 100%|██████████| 2515/2515 [01:18<00:00, 32.08it/s, key=model.diffusion_model.time_embed.2.weight, shape=[1280, 1280]]                                             \n",
      "INFO: Saving to F:\\NOVELAI\\astolfo_mix\\sdxl\\clip\\x72a-AstolfoMix-_x38te1-240421-feefbf4.safetensors\n",
      "Merging recipe: 100%|██████████| 2515/2515 [01:15<00:00, 33.24it/s, key=model.diffusion_model.time_embed.2.weight, shape=[1280, 1280]]                                             \n",
      "INFO: Saving to F:\\NOVELAI\\astolfo_mix\\sdxl\\clip\\x72a-AstolfoMix-_x38te2-240421-feefbf4.safetensors\n",
      "Merging recipe: 100%|██████████| 2515/2515 [01:16<00:00, 32.86it/s, key=model.diffusion_model.time_embed.2.weight, shape=[1280, 1280]]                                             \n",
      "INFO: Saving to F:\\NOVELAI\\astolfo_mix\\sdxl\\clip\\x72a-AstolfoMix-_x39te0-240421-feefbf4.safetensors\n",
      "Merging recipe: 100%|██████████| 2515/2515 [01:18<00:00, 32.10it/s, key=model.diffusion_model.time_embed.2.weight, shape=[1280, 1280]]                                             \n",
      "INFO: Saving to F:\\NOVELAI\\astolfo_mix\\sdxl\\clip\\x72a-AstolfoMix-_x39te1-240421-feefbf4.safetensors\n",
      "Merging recipe: 100%|██████████| 2515/2515 [01:16<00:00, 32.78it/s, key=model.diffusion_model.time_embed.2.weight, shape=[1280, 1280]]                                             \n",
      "INFO: Saving to F:\\NOVELAI\\astolfo_mix\\sdxl\\clip\\x72a-AstolfoMix-_x39te2-240421-feefbf4.safetensors\n",
      "Merging recipe: 100%|██████████| 2515/2515 [01:16<00:00, 32.91it/s, key=model.diffusion_model.time_embed.2.weight, shape=[1280, 1280]]                                             \n",
      "INFO: Saving to F:\\NOVELAI\\astolfo_mix\\sdxl\\clip\\x72a-AstolfoMix-_x40te0-240421-feefbf4.safetensors\n",
      "Merging recipe: 100%|██████████| 2515/2515 [01:19<00:00, 31.59it/s, key=model.diffusion_model.time_embed.2.weight, shape=[1280, 1280]]                                             \n",
      "INFO: Saving to F:\\NOVELAI\\astolfo_mix\\sdxl\\clip\\x72a-AstolfoMix-_x40te1-240421-feefbf4.safetensors\n",
      "Merging recipe: 100%|██████████| 2515/2515 [01:15<00:00, 33.15it/s, key=model.diffusion_model.time_embed.2.weight, shape=[1280, 1280]]                                             \n",
      "INFO: Saving to F:\\NOVELAI\\astolfo_mix\\sdxl\\clip\\x72a-AstolfoMix-_x40te2-240421-feefbf4.safetensors\n",
      "Merging recipe: 100%|██████████| 2515/2515 [01:16<00:00, 32.86it/s, key=model.diffusion_model.time_embed.2.weight, shape=[1280, 1280]]                                             \n",
      "INFO: Saving to F:\\NOVELAI\\astolfo_mix\\sdxl\\clip\\x72a-AstolfoMix-_x41te0-240421-feefbf4.safetensors\n",
      "Merging recipe: 100%|██████████| 2515/2515 [01:18<00:00, 32.04it/s, key=model.diffusion_model.time_embed.2.weight, shape=[1280, 1280]]                                             \n",
      "INFO: Saving to F:\\NOVELAI\\astolfo_mix\\sdxl\\clip\\x72a-AstolfoMix-_x41te1-240421-feefbf4.safetensors\n",
      "Merging recipe: 100%|██████████| 2515/2515 [01:16<00:00, 33.08it/s, key=model.diffusion_model.time_embed.2.weight, shape=[1280, 1280]]                                             \n",
      "INFO: Saving to F:\\NOVELAI\\astolfo_mix\\sdxl\\clip\\x72a-AstolfoMix-_x41te2-240421-feefbf4.safetensors\n",
      "Merging recipe: 100%|██████████| 2515/2515 [01:16<00:00, 32.88it/s, key=model.diffusion_model.time_embed.2.weight, shape=[1280, 1280]]                                             \n",
      "INFO: Saving to F:\\NOVELAI\\astolfo_mix\\sdxl\\clip\\x72a-AstolfoMix-_x42te0-240421-feefbf4.safetensors\n",
      "Merging recipe: 100%|██████████| 2515/2515 [01:18<00:00, 32.01it/s, key=model.diffusion_model.time_embed.2.weight, shape=[1280, 1280]]                                             \n",
      "INFO: Saving to F:\\NOVELAI\\astolfo_mix\\sdxl\\clip\\x72a-AstolfoMix-_x42te1-240421-feefbf4.safetensors\n",
      "Merging recipe: 100%|██████████| 2515/2515 [01:17<00:00, 32.57it/s, key=model.diffusion_model.time_embed.2.weight, shape=[1280, 1280]]                                             \n",
      "INFO: Saving to F:\\NOVELAI\\astolfo_mix\\sdxl\\clip\\x72a-AstolfoMix-_x42te2-240421-feefbf4.safetensors\n",
      "Merging recipe: 100%|██████████| 2515/2515 [01:15<00:00, 33.13it/s, key=model.diffusion_model.time_embed.2.weight, shape=[1280, 1280]]                                             \n",
      "INFO: Saving to F:\\NOVELAI\\astolfo_mix\\sdxl\\clip\\x72a-AstolfoMix-_x43te0-240421-feefbf4.safetensors\n",
      "Merging recipe: 100%|██████████| 2515/2515 [01:18<00:00, 32.02it/s, key=model.diffusion_model.time_embed.2.weight, shape=[1280, 1280]]                                             \n",
      "INFO: Saving to F:\\NOVELAI\\astolfo_mix\\sdxl\\clip\\x72a-AstolfoMix-_x43te1-240421-feefbf4.safetensors\n",
      "Merging recipe: 100%|██████████| 2515/2515 [01:16<00:00, 32.77it/s, key=model.diffusion_model.time_embed.2.weight, shape=[1280, 1280]]                                             \n",
      "INFO: Saving to F:\\NOVELAI\\astolfo_mix\\sdxl\\clip\\x72a-AstolfoMix-_x43te2-240421-feefbf4.safetensors\n",
      "Merging recipe: 100%|██████████| 2515/2515 [01:16<00:00, 32.83it/s, key=model.diffusion_model.time_embed.2.weight, shape=[1280, 1280]]                                             \n",
      "INFO: Saving to F:\\NOVELAI\\astolfo_mix\\sdxl\\clip\\x72a-AstolfoMix-_x44te0-240421-feefbf4.safetensors\n",
      "Merging recipe: 100%|██████████| 2515/2515 [01:18<00:00, 31.90it/s, key=model.diffusion_model.time_embed.2.weight, shape=[1280, 1280]]                                             \n",
      "INFO: Saving to F:\\NOVELAI\\astolfo_mix\\sdxl\\clip\\x72a-AstolfoMix-_x44te1-240421-feefbf4.safetensors\n",
      "Merging recipe: 100%|██████████| 2515/2515 [01:17<00:00, 32.44it/s, key=model.diffusion_model.time_embed.2.weight, shape=[1280, 1280]]                                             \n",
      "INFO: Saving to F:\\NOVELAI\\astolfo_mix\\sdxl\\clip\\x72a-AstolfoMix-_x44te2-240421-feefbf4.safetensors\n",
      "Merging recipe: 100%|██████████| 2515/2515 [01:15<00:00, 33.12it/s, key=model.diffusion_model.time_embed.2.weight, shape=[1280, 1280]]                                             \n",
      "INFO: Saving to F:\\NOVELAI\\astolfo_mix\\sdxl\\clip\\x72a-AstolfoMix-_x45te0-240421-feefbf4.safetensors\n",
      "Merging recipe: 100%|██████████| 2515/2515 [01:18<00:00, 32.12it/s, key=model.diffusion_model.time_embed.2.weight, shape=[1280, 1280]]                                             \n",
      "INFO: Saving to F:\\NOVELAI\\astolfo_mix\\sdxl\\clip\\x72a-AstolfoMix-_x45te1-240421-feefbf4.safetensors\n",
      "Merging recipe: 100%|██████████| 2515/2515 [01:17<00:00, 32.63it/s, key=model.diffusion_model.time_embed.2.weight, shape=[1280, 1280]]                                             \n",
      "INFO: Saving to F:\\NOVELAI\\astolfo_mix\\sdxl\\clip\\x72a-AstolfoMix-_x45te2-240421-feefbf4.safetensors\n",
      "Merging recipe: 100%|██████████| 2515/2515 [01:16<00:00, 32.89it/s, key=model.diffusion_model.time_embed.2.weight, shape=[1280, 1280]]                                             \n",
      "INFO: Saving to F:\\NOVELAI\\astolfo_mix\\sdxl\\clip\\x72a-AstolfoMix-_x46te0-240421-feefbf4.safetensors\n",
      "Merging recipe: 100%|██████████| 2515/2515 [01:18<00:00, 31.90it/s, key=model.diffusion_model.time_embed.2.weight, shape=[1280, 1280]]                                             \n",
      "INFO: Saving to F:\\NOVELAI\\astolfo_mix\\sdxl\\clip\\x72a-AstolfoMix-_x46te1-240421-feefbf4.safetensors\n",
      "Merging recipe: 100%|██████████| 2515/2515 [01:16<00:00, 32.81it/s, key=model.diffusion_model.time_embed.2.weight, shape=[1280, 1280]]                                             \n",
      "INFO: Saving to F:\\NOVELAI\\astolfo_mix\\sdxl\\clip\\x72a-AstolfoMix-_x46te2-240421-feefbf4.safetensors\n",
      "Merging recipe: 100%|██████████| 2515/2515 [01:16<00:00, 33.07it/s, key=model.diffusion_model.time_embed.2.weight, shape=[1280, 1280]]                                             \n",
      "INFO: Saving to F:\\NOVELAI\\astolfo_mix\\sdxl\\clip\\x72a-AstolfoMix-_x47te0-240421-feefbf4.safetensors\n",
      "Merging recipe: 100%|██████████| 2515/2515 [01:18<00:00, 32.13it/s, key=model.diffusion_model.time_embed.2.weight, shape=[1280, 1280]]                                             \n",
      "INFO: Saving to F:\\NOVELAI\\astolfo_mix\\sdxl\\clip\\x72a-AstolfoMix-_x47te1-240421-feefbf4.safetensors\n",
      "Merging recipe: 100%|██████████| 2515/2515 [01:17<00:00, 32.61it/s, key=model.diffusion_model.time_embed.2.weight, shape=[1280, 1280]]                                             \n",
      "INFO: Saving to F:\\NOVELAI\\astolfo_mix\\sdxl\\clip\\x72a-AstolfoMix-_x47te2-240421-feefbf4.safetensors\n",
      "Merging recipe: 100%|██████████| 2515/2515 [01:17<00:00, 32.62it/s, key=model.diffusion_model.time_embed.2.weight, shape=[1280, 1280]]                                             \n",
      "INFO: Saving to F:\\NOVELAI\\astolfo_mix\\sdxl\\clip\\x72a-AstolfoMix-_x48te0-240421-feefbf4.safetensors\n",
      "Merging recipe: 100%|██████████| 2515/2515 [01:18<00:00, 32.17it/s, key=model.diffusion_model.time_embed.2.weight, shape=[1280, 1280]]                                             \n",
      "INFO: Saving to F:\\NOVELAI\\astolfo_mix\\sdxl\\clip\\x72a-AstolfoMix-_x48te1-240421-feefbf4.safetensors\n",
      "Merging recipe: 100%|██████████| 2515/2515 [01:17<00:00, 32.63it/s, key=model.diffusion_model.time_embed.2.weight, shape=[1280, 1280]]                                             \n",
      "INFO: Saving to F:\\NOVELAI\\astolfo_mix\\sdxl\\clip\\x72a-AstolfoMix-_x48te2-240421-feefbf4.safetensors\n",
      "Merging recipe: 100%|██████████| 2515/2515 [01:16<00:00, 32.71it/s, key=model.diffusion_model.time_embed.2.weight, shape=[1280, 1280]]                                             \n",
      "INFO: Saving to F:\\NOVELAI\\astolfo_mix\\sdxl\\clip\\x72a-AstolfoMix-_x49te0-240421-feefbf4.safetensors\n",
      "Merging recipe: 100%|██████████| 2515/2515 [01:18<00:00, 31.96it/s, key=model.diffusion_model.time_embed.2.weight, shape=[1280, 1280]]                                             \n",
      "INFO: Saving to F:\\NOVELAI\\astolfo_mix\\sdxl\\clip\\x72a-AstolfoMix-_x49te1-240421-feefbf4.safetensors\n",
      "Merging recipe: 100%|██████████| 2515/2515 [01:16<00:00, 32.89it/s, key=model.diffusion_model.time_embed.2.weight, shape=[1280, 1280]]                                             \n",
      "INFO: Saving to F:\\NOVELAI\\astolfo_mix\\sdxl\\clip\\x72a-AstolfoMix-_x49te2-240421-feefbf4.safetensors\n",
      "Merging recipe: 100%|██████████| 2515/2515 [01:16<00:00, 32.87it/s, key=model.diffusion_model.time_embed.2.weight, shape=[1280, 1280]]                                             \n",
      "INFO: Saving to F:\\NOVELAI\\astolfo_mix\\sdxl\\clip\\x72a-AstolfoMix-_x50te0-240421-feefbf4.safetensors\n",
      "Merging recipe: 100%|██████████| 2515/2515 [01:18<00:00, 32.05it/s, key=model.diffusion_model.time_embed.2.weight, shape=[1280, 1280]]                                             \n",
      "INFO: Saving to F:\\NOVELAI\\astolfo_mix\\sdxl\\clip\\x72a-AstolfoMix-_x50te1-240421-feefbf4.safetensors\n",
      "Merging recipe: 100%|██████████| 2515/2515 [01:16<00:00, 33.03it/s, key=model.diffusion_model.time_embed.2.weight, shape=[1280, 1280]]                                             \n",
      "INFO: Saving to F:\\NOVELAI\\astolfo_mix\\sdxl\\clip\\x72a-AstolfoMix-_x50te2-240421-feefbf4.safetensors\n",
      "Merging recipe: 100%|██████████| 2515/2515 [01:17<00:00, 32.59it/s, key=model.diffusion_model.time_embed.2.weight, shape=[1280, 1280]]                                             \n",
      "INFO: Saving to F:\\NOVELAI\\astolfo_mix\\sdxl\\clip\\x72a-AstolfoMix-_x51te0-240421-feefbf4.safetensors\n",
      "Merging recipe: 100%|██████████| 2515/2515 [01:18<00:00, 32.03it/s, key=model.diffusion_model.time_embed.2.weight, shape=[1280, 1280]]                                             \n",
      "INFO: Saving to F:\\NOVELAI\\astolfo_mix\\sdxl\\clip\\x72a-AstolfoMix-_x51te1-240421-feefbf4.safetensors\n",
      "Merging recipe: 100%|██████████| 2515/2515 [01:16<00:00, 32.71it/s, key=model.diffusion_model.time_embed.2.weight, shape=[1280, 1280]]                                             \n",
      "INFO: Saving to F:\\NOVELAI\\astolfo_mix\\sdxl\\clip\\x72a-AstolfoMix-_x51te2-240421-feefbf4.safetensors\n",
      "Merging recipe: 100%|██████████| 2515/2515 [01:16<00:00, 32.74it/s, key=model.diffusion_model.time_embed.2.weight, shape=[1280, 1280]]                                             \n",
      "INFO: Saving to F:\\NOVELAI\\astolfo_mix\\sdxl\\clip\\x72a-AstolfoMix-_x52te0-240421-feefbf4.safetensors\n",
      "Merging recipe: 100%|██████████| 2515/2515 [01:18<00:00, 32.01it/s, key=model.diffusion_model.time_embed.2.weight, shape=[1280, 1280]]                                             \n",
      "INFO: Saving to F:\\NOVELAI\\astolfo_mix\\sdxl\\clip\\x72a-AstolfoMix-_x52te1-240421-feefbf4.safetensors\n",
      "Merging recipe: 100%|██████████| 2515/2515 [01:16<00:00, 32.90it/s, key=model.diffusion_model.time_embed.2.weight, shape=[1280, 1280]]                                             \n",
      "INFO: Saving to F:\\NOVELAI\\astolfo_mix\\sdxl\\clip\\x72a-AstolfoMix-_x52te2-240421-feefbf4.safetensors\n",
      "Merging recipe: 100%|██████████| 2515/2515 [01:16<00:00, 32.69it/s, key=model.diffusion_model.time_embed.2.weight, shape=[1280, 1280]]                                             \n",
      "INFO: Saving to F:\\NOVELAI\\astolfo_mix\\sdxl\\clip\\x72a-AstolfoMix-_x53te0-240421-feefbf4.safetensors\n",
      "Merging recipe: 100%|██████████| 2515/2515 [01:18<00:00, 32.07it/s, key=model.diffusion_model.time_embed.2.weight, shape=[1280, 1280]]                                             \n",
      "INFO: Saving to F:\\NOVELAI\\astolfo_mix\\sdxl\\clip\\x72a-AstolfoMix-_x53te1-240421-feefbf4.safetensors\n",
      "Merging recipe: 100%|██████████| 2515/2515 [01:16<00:00, 32.99it/s, key=model.diffusion_model.time_embed.2.weight, shape=[1280, 1280]]                                             \n",
      "INFO: Saving to F:\\NOVELAI\\astolfo_mix\\sdxl\\clip\\x72a-AstolfoMix-_x53te2-240421-feefbf4.safetensors\n",
      "Merging recipe: 100%|██████████| 2515/2515 [01:16<00:00, 32.79it/s, key=model.diffusion_model.time_embed.2.weight, shape=[1280, 1280]]                                             \n",
      "INFO: Saving to F:\\NOVELAI\\astolfo_mix\\sdxl\\clip\\x72a-AstolfoMix-_x54te0-240421-feefbf4.safetensors\n",
      "Merging recipe: 100%|██████████| 2515/2515 [01:19<00:00, 31.72it/s, key=model.diffusion_model.time_embed.2.weight, shape=[1280, 1280]]                                             \n",
      "INFO: Saving to F:\\NOVELAI\\astolfo_mix\\sdxl\\clip\\x72a-AstolfoMix-_x54te1-240421-feefbf4.safetensors\n",
      "Merging recipe: 100%|██████████| 2515/2515 [01:16<00:00, 32.73it/s, key=model.diffusion_model.time_embed.2.weight, shape=[1280, 1280]]                                             \n",
      "INFO: Saving to F:\\NOVELAI\\astolfo_mix\\sdxl\\clip\\x72a-AstolfoMix-_x54te2-240421-feefbf4.safetensors\n",
      "Merging recipe: 100%|██████████| 2515/2515 [01:16<00:00, 32.86it/s, key=model.diffusion_model.time_embed.2.weight, shape=[1280, 1280]]                                             \n",
      "INFO: Saving to F:\\NOVELAI\\astolfo_mix\\sdxl\\clip\\x72a-AstolfoMix-_x55te0-240421-feefbf4.safetensors\n",
      "Merging recipe: 100%|██████████| 2515/2515 [01:18<00:00, 32.08it/s, key=model.diffusion_model.time_embed.2.weight, shape=[1280, 1280]]                                             \n",
      "INFO: Saving to F:\\NOVELAI\\astolfo_mix\\sdxl\\clip\\x72a-AstolfoMix-_x55te1-240421-feefbf4.safetensors\n",
      "Merging recipe: 100%|██████████| 2515/2515 [01:16<00:00, 32.84it/s, key=model.diffusion_model.time_embed.2.weight, shape=[1280, 1280]]                                             \n",
      "INFO: Saving to F:\\NOVELAI\\astolfo_mix\\sdxl\\clip\\x72a-AstolfoMix-_x55te2-240421-feefbf4.safetensors\n",
      "Merging recipe: 100%|██████████| 2515/2515 [01:16<00:00, 32.78it/s, key=model.diffusion_model.time_embed.2.weight, shape=[1280, 1280]]                                             \n",
      "INFO: Saving to F:\\NOVELAI\\astolfo_mix\\sdxl\\clip\\x72a-AstolfoMix-_x56te0-240421-feefbf4.safetensors\n",
      "Merging recipe: 100%|██████████| 2515/2515 [01:18<00:00, 32.00it/s, key=model.diffusion_model.time_embed.2.weight, shape=[1280, 1280]]                                             \n",
      "INFO: Saving to F:\\NOVELAI\\astolfo_mix\\sdxl\\clip\\x72a-AstolfoMix-_x56te1-240421-feefbf4.safetensors\n",
      "Merging recipe: 100%|██████████| 2515/2515 [01:17<00:00, 32.52it/s, key=model.diffusion_model.time_embed.2.weight, shape=[1280, 1280]]                                             \n",
      "INFO: Saving to F:\\NOVELAI\\astolfo_mix\\sdxl\\clip\\x72a-AstolfoMix-_x56te2-240421-feefbf4.safetensors\n",
      "Merging recipe: 100%|██████████| 2515/2515 [01:16<00:00, 32.84it/s, key=model.diffusion_model.time_embed.2.weight, shape=[1280, 1280]]                                             \n",
      "INFO: Saving to F:\\NOVELAI\\astolfo_mix\\sdxl\\clip\\x72a-AstolfoMix-_x57te0-240421-feefbf4.safetensors\n",
      "Merging recipe: 100%|██████████| 2515/2515 [01:19<00:00, 31.54it/s, key=model.diffusion_model.time_embed.2.weight, shape=[1280, 1280]]                                             \n",
      "INFO: Saving to F:\\NOVELAI\\astolfo_mix\\sdxl\\clip\\x72a-AstolfoMix-_x57te1-240421-feefbf4.safetensors\n",
      "Merging recipe: 100%|██████████| 2515/2515 [01:17<00:00, 32.58it/s, key=model.diffusion_model.time_embed.2.weight, shape=[1280, 1280]]                                             \n",
      "INFO: Saving to F:\\NOVELAI\\astolfo_mix\\sdxl\\clip\\x72a-AstolfoMix-_x57te2-240421-feefbf4.safetensors\n",
      "Merging recipe: 100%|██████████| 2515/2515 [01:17<00:00, 32.61it/s, key=model.diffusion_model.time_embed.2.weight, shape=[1280, 1280]]                                             \n",
      "INFO: Saving to F:\\NOVELAI\\astolfo_mix\\sdxl\\clip\\x72a-AstolfoMix-_x58te0-240421-feefbf4.safetensors\n",
      "Merging recipe: 100%|██████████| 2515/2515 [01:18<00:00, 32.01it/s, key=model.diffusion_model.time_embed.2.weight, shape=[1280, 1280]]                                             \n",
      "INFO: Saving to F:\\NOVELAI\\astolfo_mix\\sdxl\\clip\\x72a-AstolfoMix-_x58te1-240421-feefbf4.safetensors\n",
      "Merging recipe: 100%|██████████| 2515/2515 [01:16<00:00, 32.85it/s, key=model.diffusion_model.time_embed.2.weight, shape=[1280, 1280]]                                             \n",
      "INFO: Saving to F:\\NOVELAI\\astolfo_mix\\sdxl\\clip\\x72a-AstolfoMix-_x58te2-240421-feefbf4.safetensors\n",
      "Merging recipe: 100%|██████████| 2515/2515 [01:15<00:00, 33.19it/s, key=model.diffusion_model.time_embed.2.weight, shape=[1280, 1280]]                                             \n",
      "INFO: Saving to F:\\NOVELAI\\astolfo_mix\\sdxl\\clip\\x72a-AstolfoMix-_x59te0-240421-feefbf4.safetensors\n",
      "Merging recipe: 100%|██████████| 2515/2515 [01:18<00:00, 32.10it/s, key=model.diffusion_model.time_embed.2.weight, shape=[1280, 1280]]                                             \n",
      "INFO: Saving to F:\\NOVELAI\\astolfo_mix\\sdxl\\clip\\x72a-AstolfoMix-_x59te1-240421-feefbf4.safetensors\n",
      "Merging recipe: 100%|██████████| 2515/2515 [01:17<00:00, 32.37it/s, key=model.diffusion_model.time_embed.2.weight, shape=[1280, 1280]]                                             \n",
      "INFO: Saving to F:\\NOVELAI\\astolfo_mix\\sdxl\\clip\\x72a-AstolfoMix-_x59te2-240421-feefbf4.safetensors\n",
      "Merging recipe: 100%|██████████| 2515/2515 [01:15<00:00, 33.26it/s, key=model.diffusion_model.time_embed.2.weight, shape=[1280, 1280]]                                             \n",
      "INFO: Saving to F:\\NOVELAI\\astolfo_mix\\sdxl\\clip\\x72a-AstolfoMix-_x60te0-240421-feefbf4.safetensors\n",
      "Merging recipe: 100%|██████████| 2515/2515 [01:18<00:00, 32.04it/s, key=model.diffusion_model.time_embed.2.weight, shape=[1280, 1280]]                                             \n",
      "INFO: Saving to F:\\NOVELAI\\astolfo_mix\\sdxl\\clip\\x72a-AstolfoMix-_x60te1-240421-feefbf4.safetensors\n",
      "Merging recipe: 100%|██████████| 2515/2515 [01:16<00:00, 32.88it/s, key=model.diffusion_model.time_embed.2.weight, shape=[1280, 1280]]                                             \n",
      "INFO: Saving to F:\\NOVELAI\\astolfo_mix\\sdxl\\clip\\x72a-AstolfoMix-_x60te2-240421-feefbf4.safetensors\n",
      "Merging recipe: 100%|██████████| 2515/2515 [01:16<00:00, 33.06it/s, key=model.diffusion_model.time_embed.2.weight, shape=[1280, 1280]]                                             \n",
      "INFO: Saving to F:\\NOVELAI\\astolfo_mix\\sdxl\\clip\\x72a-AstolfoMix-_x61te0-240421-feefbf4.safetensors\n",
      "Merging recipe: 100%|██████████| 2515/2515 [01:18<00:00, 32.04it/s, key=model.diffusion_model.time_embed.2.weight, shape=[1280, 1280]]                                             \n",
      "INFO: Saving to F:\\NOVELAI\\astolfo_mix\\sdxl\\clip\\x72a-AstolfoMix-_x61te1-240421-feefbf4.safetensors\n",
      "Merging recipe: 100%|██████████| 2515/2515 [01:17<00:00, 32.42it/s, key=model.diffusion_model.time_embed.2.weight, shape=[1280, 1280]]                                             \n",
      "INFO: Saving to F:\\NOVELAI\\astolfo_mix\\sdxl\\clip\\x72a-AstolfoMix-_x61te2-240421-feefbf4.safetensors\n",
      "Merging recipe: 100%|██████████| 2515/2515 [01:16<00:00, 32.99it/s, key=model.diffusion_model.time_embed.2.weight, shape=[1280, 1280]]                                             \n",
      "INFO: Saving to F:\\NOVELAI\\astolfo_mix\\sdxl\\clip\\x72a-AstolfoMix-_x62te0-240421-feefbf4.safetensors\n",
      "Merging recipe: 100%|██████████| 2515/2515 [01:17<00:00, 32.34it/s, key=model.diffusion_model.time_embed.2.weight, shape=[1280, 1280]]                                             \n",
      "INFO: Saving to F:\\NOVELAI\\astolfo_mix\\sdxl\\clip\\x72a-AstolfoMix-_x62te1-240421-feefbf4.safetensors\n",
      "Merging recipe: 100%|██████████| 2515/2515 [01:15<00:00, 33.11it/s, key=model.diffusion_model.time_embed.2.weight, shape=[1280, 1280]]                                             \n",
      "INFO: Saving to F:\\NOVELAI\\astolfo_mix\\sdxl\\clip\\x72a-AstolfoMix-_x62te2-240421-feefbf4.safetensors\n",
      "Merging recipe: 100%|██████████| 2515/2515 [01:16<00:00, 32.76it/s, key=model.diffusion_model.time_embed.2.weight, shape=[1280, 1280]]                                             \n",
      "INFO: Saving to F:\\NOVELAI\\astolfo_mix\\sdxl\\clip\\x72a-AstolfoMix-_x63te0-240421-feefbf4.safetensors\n",
      "Merging recipe: 100%|██████████| 2515/2515 [01:18<00:00, 32.04it/s, key=model.diffusion_model.time_embed.2.weight, shape=[1280, 1280]]                                             \n",
      "INFO: Saving to F:\\NOVELAI\\astolfo_mix\\sdxl\\clip\\x72a-AstolfoMix-_x63te1-240421-feefbf4.safetensors\n",
      "Merging recipe: 100%|██████████| 2515/2515 [01:16<00:00, 32.72it/s, key=model.diffusion_model.time_embed.2.weight, shape=[1280, 1280]]                                             \n",
      "INFO: Saving to F:\\NOVELAI\\astolfo_mix\\sdxl\\clip\\x72a-AstolfoMix-_x63te2-240421-feefbf4.safetensors\n",
      "Merging recipe: 100%|██████████| 2515/2515 [01:16<00:00, 32.71it/s, key=model.diffusion_model.time_embed.2.weight, shape=[1280, 1280]]                                             \n",
      "INFO: Saving to F:\\NOVELAI\\astolfo_mix\\sdxl\\clip\\x72a-AstolfoMix-_x64te0-240421-feefbf4.safetensors\n",
      "Merging recipe: 100%|██████████| 2515/2515 [01:18<00:00, 32.15it/s, key=model.diffusion_model.time_embed.2.weight, shape=[1280, 1280]]                                             \n",
      "INFO: Saving to F:\\NOVELAI\\astolfo_mix\\sdxl\\clip\\x72a-AstolfoMix-_x64te1-240421-feefbf4.safetensors\n",
      "Merging recipe: 100%|██████████| 2515/2515 [01:16<00:00, 32.79it/s, key=model.diffusion_model.time_embed.2.weight, shape=[1280, 1280]]                                             \n",
      "INFO: Saving to F:\\NOVELAI\\astolfo_mix\\sdxl\\clip\\x72a-AstolfoMix-_x64te2-240421-feefbf4.safetensors\n",
      "Merging recipe: 100%|██████████| 2515/2515 [01:17<00:00, 32.64it/s, key=model.diffusion_model.time_embed.2.weight, shape=[1280, 1280]]                                             \n",
      "INFO: Saving to F:\\NOVELAI\\astolfo_mix\\sdxl\\clip\\x72a-AstolfoMix-_x65te0-240421-feefbf4.safetensors\n",
      "Merging recipe: 100%|██████████| 2515/2515 [01:18<00:00, 31.93it/s, key=model.diffusion_model.time_embed.2.weight, shape=[1280, 1280]]                                             \n",
      "INFO: Saving to F:\\NOVELAI\\astolfo_mix\\sdxl\\clip\\x72a-AstolfoMix-_x65te1-240421-feefbf4.safetensors\n",
      "Merging recipe: 100%|██████████| 2515/2515 [01:16<00:00, 32.91it/s, key=model.diffusion_model.time_embed.2.weight, shape=[1280, 1280]]                                             \n",
      "INFO: Saving to F:\\NOVELAI\\astolfo_mix\\sdxl\\clip\\x72a-AstolfoMix-_x65te2-240421-feefbf4.safetensors\n",
      "Merging recipe: 100%|██████████| 2515/2515 [01:16<00:00, 32.82it/s, key=model.diffusion_model.time_embed.2.weight, shape=[1280, 1280]]                                             \n",
      "INFO: Saving to F:\\NOVELAI\\astolfo_mix\\sdxl\\clip\\x72a-AstolfoMix-_x66te0-240421-feefbf4.safetensors\n",
      "Merging recipe: 100%|██████████| 2515/2515 [01:18<00:00, 32.19it/s, key=model.diffusion_model.time_embed.2.weight, shape=[1280, 1280]]                                             \n",
      "INFO: Saving to F:\\NOVELAI\\astolfo_mix\\sdxl\\clip\\x72a-AstolfoMix-_x66te1-240421-feefbf4.safetensors\n",
      "Merging recipe: 100%|██████████| 2515/2515 [01:16<00:00, 32.86it/s, key=model.diffusion_model.time_embed.2.weight, shape=[1280, 1280]]                                             \n",
      "INFO: Saving to F:\\NOVELAI\\astolfo_mix\\sdxl\\clip\\x72a-AstolfoMix-_x66te2-240421-feefbf4.safetensors\n",
      "Merging recipe: 100%|██████████| 2515/2515 [01:16<00:00, 32.85it/s, key=model.diffusion_model.time_embed.2.weight, shape=[1280, 1280]]                                             \n",
      "INFO: Saving to F:\\NOVELAI\\astolfo_mix\\sdxl\\clip\\x72a-AstolfoMix-_x67te0-240421-feefbf4.safetensors\n",
      "Merging recipe: 100%|██████████| 2515/2515 [01:18<00:00, 31.98it/s, key=model.diffusion_model.time_embed.2.weight, shape=[1280, 1280]]                                             \n",
      "INFO: Saving to F:\\NOVELAI\\astolfo_mix\\sdxl\\clip\\x72a-AstolfoMix-_x67te1-240421-feefbf4.safetensors\n",
      "Merging recipe: 100%|██████████| 2515/2515 [01:17<00:00, 32.64it/s, key=model.diffusion_model.time_embed.2.weight, shape=[1280, 1280]]                                             \n",
      "INFO: Saving to F:\\NOVELAI\\astolfo_mix\\sdxl\\clip\\x72a-AstolfoMix-_x67te2-240421-feefbf4.safetensors\n",
      "Merging recipe: 100%|██████████| 2515/2515 [01:16<00:00, 32.89it/s, key=model.diffusion_model.time_embed.2.weight, shape=[1280, 1280]]                                             \n",
      "INFO: Saving to F:\\NOVELAI\\astolfo_mix\\sdxl\\clip\\x72a-AstolfoMix-_x68te0-240421-feefbf4.safetensors\n",
      "Merging recipe: 100%|██████████| 2515/2515 [01:18<00:00, 31.84it/s, key=model.diffusion_model.time_embed.2.weight, shape=[1280, 1280]]                                             \n",
      "INFO: Saving to F:\\NOVELAI\\astolfo_mix\\sdxl\\clip\\x72a-AstolfoMix-_x68te1-240421-feefbf4.safetensors\n",
      "Merging recipe: 100%|██████████| 2515/2515 [01:16<00:00, 32.96it/s, key=model.diffusion_model.time_embed.2.weight, shape=[1280, 1280]]                                             \n",
      "INFO: Saving to F:\\NOVELAI\\astolfo_mix\\sdxl\\clip\\x72a-AstolfoMix-_x68te2-240421-feefbf4.safetensors\n",
      "Merging recipe: 100%|██████████| 2515/2515 [01:16<00:00, 32.86it/s, key=model.diffusion_model.time_embed.2.weight, shape=[1280, 1280]]                                             \n",
      "INFO: Saving to F:\\NOVELAI\\astolfo_mix\\sdxl\\clip\\x72a-AstolfoMix-_x69te0-240421-feefbf4.safetensors\n",
      "Merging recipe: 100%|██████████| 2515/2515 [01:18<00:00, 31.87it/s, key=model.diffusion_model.time_embed.2.weight, shape=[1280, 1280]]                                             \n",
      "INFO: Saving to F:\\NOVELAI\\astolfo_mix\\sdxl\\clip\\x72a-AstolfoMix-_x69te1-240421-feefbf4.safetensors\n",
      "Merging recipe: 100%|██████████| 2515/2515 [01:18<00:00, 31.89it/s, key=model.diffusion_model.time_embed.2.weight, shape=[1280, 1280]]                                             \n",
      "INFO: Saving to F:\\NOVELAI\\astolfo_mix\\sdxl\\clip\\x72a-AstolfoMix-_x69te2-240421-feefbf4.safetensors\n",
      "Merging recipe: 100%|██████████| 2515/2515 [01:17<00:00, 32.57it/s, key=model.diffusion_model.time_embed.2.weight, shape=[1280, 1280]]                                             \n",
      "INFO: Saving to F:\\NOVELAI\\astolfo_mix\\sdxl\\clip\\x72a-AstolfoMix-_x70te0-240421-feefbf4.safetensors\n",
      "Merging recipe: 100%|██████████| 2515/2515 [01:18<00:00, 31.86it/s, key=model.diffusion_model.time_embed.2.weight, shape=[1280, 1280]]                                             \n",
      "INFO: Saving to F:\\NOVELAI\\astolfo_mix\\sdxl\\clip\\x72a-AstolfoMix-_x70te1-240421-feefbf4.safetensors\n",
      "Merging recipe: 100%|██████████| 2515/2515 [01:16<00:00, 32.93it/s, key=model.diffusion_model.time_embed.2.weight, shape=[1280, 1280]]                                             \n",
      "INFO: Saving to F:\\NOVELAI\\astolfo_mix\\sdxl\\clip\\x72a-AstolfoMix-_x70te2-240421-feefbf4.safetensors\n",
      "Merging recipe: 100%|██████████| 2515/2515 [01:16<00:00, 32.82it/s, key=model.diffusion_model.time_embed.2.weight, shape=[1280, 1280]]                                             \n",
      "INFO: Saving to F:\\NOVELAI\\astolfo_mix\\sdxl\\clip\\x72a-AstolfoMix-_x71te0-240421-feefbf4.safetensors\n",
      "Merging recipe: 100%|██████████| 2515/2515 [01:19<00:00, 31.74it/s, key=model.diffusion_model.time_embed.2.weight, shape=[1280, 1280]]                                             \n",
      "INFO: Saving to F:\\NOVELAI\\astolfo_mix\\sdxl\\clip\\x72a-AstolfoMix-_x71te1-240421-feefbf4.safetensors\n",
      "Merging recipe: 100%|██████████| 2515/2515 [01:16<00:00, 32.71it/s, key=model.diffusion_model.time_embed.2.weight, shape=[1280, 1280]]                                             \n",
      "INFO: Saving to F:\\NOVELAI\\astolfo_mix\\sdxl\\clip\\x72a-AstolfoMix-_x71te2-240421-feefbf4.safetensors\n",
      "Merging recipe: 100%|██████████| 2515/2515 [01:16<00:00, 32.80it/s, key=model.diffusion_model.time_embed.2.weight, shape=[1280, 1280]]                                             \n",
      "INFO: Saving to F:\\NOVELAI\\astolfo_mix\\sdxl\\clip\\x72a-AstolfoMix-_x72te0-240421-feefbf4.safetensors\n",
      "Merging recipe: 100%|██████████| 2515/2515 [01:19<00:00, 31.78it/s, key=model.diffusion_model.time_embed.2.weight, shape=[1280, 1280]]                                             \n",
      "INFO: Saving to F:\\NOVELAI\\astolfo_mix\\sdxl\\clip\\x72a-AstolfoMix-_x72te1-240421-feefbf4.safetensors\n",
      "Merging recipe: 100%|██████████| 2515/2515 [01:16<00:00, 32.75it/s, key=model.diffusion_model.time_embed.2.weight, shape=[1280, 1280]]                                             \n",
      "INFO: Saving to F:\\NOVELAI\\astolfo_mix\\sdxl\\clip\\x72a-AstolfoMix-_x72te2-240421-feefbf4.safetensors\n",
      "Merging recipe: 100%|██████████| 2515/2515 [01:16<00:00, 33.03it/s, key=model.diffusion_model.time_embed.2.weight, shape=[1280, 1280]]                                             \n",
      "INFO: Saving to F:\\NOVELAI\\astolfo_mix\\sdxl\\clip\\x72a-AstolfoMix-_x73te0-240421-feefbf4.safetensors\n",
      "Merging recipe: 100%|██████████| 2515/2515 [01:18<00:00, 31.98it/s, key=model.diffusion_model.time_embed.2.weight, shape=[1280, 1280]]                                             \n",
      "INFO: Saving to F:\\NOVELAI\\astolfo_mix\\sdxl\\clip\\x72a-AstolfoMix-_x73te1-240421-feefbf4.safetensors\n",
      "Merging recipe: 100%|██████████| 2515/2515 [01:17<00:00, 32.37it/s, key=model.diffusion_model.time_embed.2.weight, shape=[1280, 1280]]                                             \n",
      "INFO: Saving to F:\\NOVELAI\\astolfo_mix\\sdxl\\clip\\x72a-AstolfoMix-_x73te2-240421-feefbf4.safetensors\n",
      "Merging recipe: 100%|██████████| 2515/2515 [01:16<00:00, 32.81it/s, key=model.diffusion_model.time_embed.2.weight, shape=[1280, 1280]]                                             "
     ]
    },
    {
     "name": "stdout",
     "output_type": "stream",
     "text": [
      "Merge time: 16880 sec\n"
     ]
    },
    {
     "name": "stderr",
     "output_type": "stream",
     "text": [
      "\n"
     ]
    }
   ],
   "source": [
    "tss = time.time()\n",
    "\n",
    "if MODE_CLIP in MODE_ACTIVATED:\n",
    "    # 3N models\n",
    "    #for i in tqdm(range(len(MODEL_LIST_RAW)), desc=\"Iterlating raw model list to swap TEs\"):\n",
    "    #    for j in tqdm(range(len(N_CLIP)), desc=\"Making models with swapped raw TEs\"):\n",
    "    for i in range(len(MODEL_LIST_RAW)):\n",
    "        for j in range(len(N_CLIP)):    \n",
    "            if os.path.isfile(get_te_itr_path(OS_MODEL_PATH_TE_ITR,i,j)):\n",
    "                print(\"Merged model is present. Skipping.\")\n",
    "            else:        \n",
    "                scheduler.merge_and_save(recipe_mapping[rmk_te(i+1,j)], output=get_te_itr_path(MECHA_MODEL_PATH_TE_ITR,i,j), fallback_model=FALLBACK_AS_VAE_MODEL, save_dtype=g_precision_final_model, total_buffer_size=g_total_buffer_size, threads=g_threads)\n",
    "else:\n",
    "    print(\"This session is not activated. Skipping.\")\n",
    "\n",
    "tse = time.time()\n",
    "print(\"Merge time: {} sec\".format(int(tse - tss)))    "
   ]
  },
  {
   "cell_type": "markdown",
   "metadata": {},
   "source": [
    "### Picked CLIP Model ###"
   ]
  },
  {
   "cell_type": "code",
   "execution_count": 41,
   "metadata": {},
   "outputs": [
    {
     "name": "stderr",
     "output_type": "stream",
     "text": [
      "INFO: Saving to F:\\NOVELAI\\astolfo_mix\\sdxl\\x72a-AstolfoMix-x63te0x44te1-240421-feefbf4.safetensors\n",
      "Merging recipe: 100%|██████████| 2515/2515 [1:26:28<00:00,  2.06s/it, key=model.diffusion_model.time_embed.2.weight, shape=[1280, 1280]]                                            "
     ]
    },
    {
     "name": "stdout",
     "output_type": "stream",
     "text": [
      "Merge time: 5189 sec\n"
     ]
    },
    {
     "name": "stderr",
     "output_type": "stream",
     "text": [
      "\n"
     ]
    }
   ],
   "source": [
    "tss = time.time()\n",
    "\n",
    "if MODE_CLIP in MODE_ACTIVATED:\n",
    "    if os.path.isfile(OS_MODEL_PATH_SELECTED_TE):\n",
    "        print(\"Merged model is present. Skipping.\")\n",
    "    else:\n",
    "        scheduler.merge_and_save(recipe_mapping[rmk_ste()], output=MECHA_MODEL_PATH_SELECTED_TE, fallback_model=FALLBACK_AS_VAE_MODEL, save_dtype=g_precision_final_model, total_buffer_size=g_total_buffer_size, threads=g_threads)\n",
    "else:\n",
    "    print(\"This session is not activated. Skipping.\")\n",
    "\n",
    "tse = time.time()\n",
    "print(\"Merge time: {} sec\".format(int(tse - tss)))    "
   ]
  },
  {
   "cell_type": "markdown",
   "metadata": {},
   "source": [
    "### UNET Models to test ###"
   ]
  },
  {
   "cell_type": "code",
   "execution_count": 42,
   "metadata": {},
   "outputs": [
    {
     "name": "stdout",
     "output_type": "stream",
     "text": [
      "This session is not activated. Skipping.\n",
      "Merge time: 0 sec\n"
     ]
    }
   ],
   "source": [
    "tss = time.time()\n",
    "\n",
    "if MODE_UNET in MODE_ACTIVATED:\n",
    "    # N models\n",
    "    #for i in tqdm(range(len(MODEL_LIST_RAW)), desc=\"Iterlating raw model list to swap UNETs\"):\n",
    "    for i in range(len(MODEL_LIST_RAW)):\n",
    "        if os.path.isfile(get_unet_itr_path(OS_MODEL_PATH_UNET_ITR,i)):\n",
    "            print(\"Merged model is present. Skipping.\")\n",
    "        else:\n",
    "            scheduler.merge_and_save(recipe_mapping[rmk_unet(i+1)], output=get_unet_itr_path(MECHA_MODEL_PATH_UNET_ITR,i), fallback_model=FALLBACK_AS_VAE_MODEL, save_dtype=g_precision_final_model, total_buffer_size=g_total_buffer_size, threads=g_threads)\n",
    "else:\n",
    "    print(\"This session is not activated. Skipping.\")\n",
    "\n",
    "tse = time.time()\n",
    "print(\"Merge time: {} sec\".format(int(tse - tss)))    "
   ]
  },
  {
   "cell_type": "markdown",
   "metadata": {},
   "source": [
    "### Final model ###"
   ]
  },
  {
   "cell_type": "code",
   "execution_count": 43,
   "metadata": {},
   "outputs": [
    {
     "name": "stdout",
     "output_type": "stream",
     "text": [
      "./x72a-AstolfoMix-x63te0x44te1-240421-feefbf4 ./x54-AstolfoMix-x63te0x44te1-240421-feefbf4\n"
     ]
    }
   ],
   "source": [
    "print (MECHA_MODEL_PATH_SELECTED_TE, MECHA_MODEL_PATH_FINAL)"
   ]
  },
  {
   "cell_type": "code",
   "execution_count": 44,
   "metadata": {},
   "outputs": [
    {
     "name": "stdout",
     "output_type": "stream",
     "text": [
      "This session is not activated. Skipping.\n",
      "Merge time: 0 sec\n"
     ]
    }
   ],
   "source": [
    "tss = time.time()\n",
    "\n",
    "if MODE_FINAL in MODE_ACTIVATED:\n",
    "    if os.path.isfile(OS_MODEL_PATH_FINAL):\n",
    "        print(\"Merged model is present. Skipping.\")\n",
    "    else:\n",
    "        scheduler.merge_and_save(recipe_mapping[rmk_f()], output=MECHA_MODEL_PATH_FINAL, fallback_model=FALLBACK_AS_VAE_MODEL, save_dtype=g_precision_final_model, total_buffer_size=g_total_buffer_size, threads=g_threads)\n",
    "else:\n",
    "    print(\"This session is not activated. Skipping.\")\n",
    "\n",
    "tse = time.time()\n",
    "print(\"Merge time: {} sec\".format(int(tse - tss)))    "
   ]
  },
  {
   "cell_type": "code",
   "execution_count": 45,
   "metadata": {},
   "outputs": [
    {
     "name": "stdout",
     "output_type": "stream",
     "text": [
      "This session is not activated. Skipping.\n",
      "Merge time: 0 sec\n"
     ]
    }
   ],
   "source": [
    "tss = time.time()\n",
    "\n",
    "if MODE_FINAL in MODE_ACTIVATED:\n",
    "    if os.path.isfile(OS_MODEL_PATH_E2E):\n",
    "        print(\"Merged model is present. Skipping.\")\n",
    "    else:\n",
    "        scheduler.merge_and_save(recipe_mapping[rmk_e2e()], output=MECHA_MODEL_PATH_E2E, fallback_model=FALLBACK_AS_VAE_MODEL, save_dtype=g_precision_final_model, total_buffer_size=g_total_buffer_size, threads=g_threads)\n",
    "else:\n",
    "    print(\"This session is not activated. Skipping.\")\n",
    "\n",
    "tse = time.time()\n",
    "print(\"Merge time: {} sec\".format(int(tse - tss)))    "
   ]
  },
  {
   "cell_type": "markdown",
   "metadata": {},
   "source": [
    "Full operation time."
   ]
  },
  {
   "cell_type": "code",
   "execution_count": 46,
   "metadata": {},
   "outputs": [
    {
     "name": "stdout",
     "output_type": "stream",
     "text": [
      "Total time: 25472 sec\n"
     ]
    }
   ],
   "source": [
    "te = time.time()\n",
    "print(\"Total time: {} sec\".format(int(te - ts)))"
   ]
  },
  {
   "cell_type": "code",
   "execution_count": null,
   "metadata": {},
   "outputs": [],
   "source": []
  }
 ],
 "metadata": {
  "anaconda-cloud": {},
  "kernelspec": {
   "display_name": "Python 3",
   "language": "python",
   "name": "python3"
  },
  "language_info": {
   "codemirror_mode": {
    "name": "ipython",
    "version": 3
   },
   "file_extension": ".py",
   "mimetype": "text/x-python",
   "name": "python",
   "nbconvert_exporter": "python",
   "pygments_lexer": "ipython3",
   "version": "3.12.1"
  },
  "toc": {
   "base_numbering": 1,
   "nav_menu": {},
   "number_sections": true,
   "sideBar": true,
   "skip_h1_title": false,
   "title_cell": "Table of Contents",
   "title_sidebar": "Contents",
   "toc_cell": false,
   "toc_position": {},
   "toc_section_display": true,
   "toc_window_display": false
  }
 },
 "nbformat": 4,
 "nbformat_minor": 4
}
