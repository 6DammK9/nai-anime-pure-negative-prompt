{
 "cells": [
  {
   "cell_type": "markdown",
   "metadata": {},
   "source": [
    "# AstolfoMix E2E merger #\n",
    "\n",
    "Extensive use of \"N-Average\" and \"Split UNET / TE\".\n",
    "\n",
    "## Abstract ##\n",
    "\n",
    "- Base code: [n_average.py](https://github.com/ljleb/sd-mecha/blob/main/examples/n_average.py), [split_unet_text_encoder.py](https://github.com/ljleb/sd-mecha/blob/main/examples/split_unet_text_encoder.py) and [serialize_recipe.py](https://github.com/ljleb/sd-mecha/blob/main/examples/serialize_recipe.py)\n",
    "- Using [sd-mecha](https://github.com/ljleb/sd-mecha) as main library. **Thank you [@ljleb](https://github.com/ljleb/) for the codebase, and [@illyaeater](https://github.com/Enferlain) for the alpha tester.**\n",
    "- Each generated model will have its own model metadata and `*.mecha` ~~assembly like~~ [recipe](https://github.com/ljleb/sd-mecha/blob/main/examples/recipes/test_split_unet_text_encoder.mecha). Open it with text editor.\n",
    "- **No need to waste 1TB+ of disk space for pariwise merging and iterlate with WebUI.** However you should know the \"model pool\", otherwise it is likely result in a worse model. \n",
    "- Required time: *More then an hour.*\n",
    "- CPU usage: **100% with AVX2.**\n",
    "- RAM usage: *Around 32GB*.\n",
    "- VRAM usage: *Around 4GB*. \n",
    "- Storage usage: $5N+3$ SDXL models, including $N$ raw models. For $N=52$, it will use **1.66TB** for the most efficient approach.\n",
    "- I intentionally make it into Python notebook because I need to switch mode this time.\n",
    "\n",
    "## Required libraries ##\n",
    "\n",
    "- `torch>=2.0.1`\n",
    "- `tensordict`\n",
    "- `sd-mecha` (I prefer [clone](https://github.com/ljleb/sd-mecha/tree/main) the source code inplace,current version as on 240222)\n",
    "- [safetensors](https://huggingface.co/docs/safetensors/index)\n",
    "- [diffusers](https://huggingface.co/docs/diffusers/installation)\n",
    "- [pytorch](https://pytorch.org/get-started/locally/#windows-python)\n",
    "\n",
    "## Model naming schema ##\n",
    "\n",
    "- `RAW` as `_x01`: Place all raw models. Will generate `x49a` as averaged model regardless components.\n",
    "- `CLIP` as `_x01te`: Will generate all models as `x49a` replaced with `_x01`'s TE. Will be a set of `te0`, `te1`, `te2`. Use these models for model selection. \n",
    "- `UNET` as `x49a-x22te0x31te1`: *Require selected TEs.* Will generate all models as `_01`'s UNET and average of selected `te0` and `te1`. VAE will be `x49a`.\n",
    "- `FINAL` as `e2e`: Final model as `x43`.\n",
    "\n",
    "## Recommened directories to make ##\n",
    "\n",
    "- `raw`: Store the raw $N$ models\n",
    "- `clip`: Store $3N$ models for CLIP selection\n",
    "- `unet`: Store $N$ models for UNET selection\n",
    "\n",
    "## Operation Mode ##\n",
    "\n",
    "- [`RAW`, `CLIP`, `UNET`, `FINAL`]. Procedure will be *mutually exclusive*. I will keep restarting the whole notebook.\n",
    "\n",
    "## Limitation ##\n",
    "\n",
    "- VAE remains unmanaged. It may cause gitched image without specifying VAE in WebUI.\n",
    "- SDXL models only. I don't need this for SD1 and SD2.\n",
    "- Safetensors only. \n",
    "\n",
    "## WTF why and will it work? ##\n",
    "\n",
    "- Yes. [It is part of my research](./README_XL.md).\n",
    "- Image comparasion will be listed there."
   ]
  },
  {
   "cell_type": "markdown",
   "metadata": {},
   "source": [
    "## Importing libraries ##"
   ]
  },
  {
   "cell_type": "code",
   "execution_count": 1,
   "metadata": {},
   "outputs": [],
   "source": [
    "# Built-in\n",
    "import time\n",
    "import os\n",
    "\n",
    "# Is dependency fufilled?\n",
    "import torch"
   ]
  },
  {
   "cell_type": "code",
   "execution_count": 2,
   "metadata": {},
   "outputs": [
    {
     "data": {
      "text/plain": [
       "'2.2.0+cu121'"
      ]
     },
     "execution_count": 2,
     "metadata": {},
     "output_type": "execute_result"
    }
   ],
   "source": [
    "torch.__version__"
   ]
  },
  {
   "cell_type": "code",
   "execution_count": 3,
   "metadata": {},
   "outputs": [],
   "source": [
    "# Import the main module.\n",
    "import sd_mecha"
   ]
  },
  {
   "cell_type": "code",
   "execution_count": 4,
   "metadata": {},
   "outputs": [],
   "source": [
    "# Fix for OMP: Error #15\n",
    "os.environ[\"KMP_DUPLICATE_LIB_OK\"] = \"TRUE\""
   ]
  },
  {
   "cell_type": "markdown",
   "metadata": {},
   "source": [
    "## User input session starts here. ##"
   ]
  },
  {
   "cell_type": "markdown",
   "metadata": {},
   "source": [
    "Specify all the paths."
   ]
  },
  {
   "cell_type": "code",
   "execution_count": 5,
   "metadata": {},
   "outputs": [],
   "source": [
    "DIR_BASE = \"../../stable-diffusion-webui/tmp/astolfo_mix/sdxl/\" #To set up merger\n",
    "\n",
    "DIR_RAW = \"raw/\" #To load N models\n",
    "DIR_CLIP = \"clip/\"  #To write 3N models\n",
    "DIR_UNET = \"unet/\" #To write N models\n",
    "DIR_FINAL = \"./\" #To write 1 model"
   ]
  },
  {
   "cell_type": "markdown",
   "metadata": {},
   "source": [
    "Quick check on directory and make the model name prefix."
   ]
  },
  {
   "cell_type": "code",
   "execution_count": 6,
   "metadata": {},
   "outputs": [],
   "source": [
    "MODEL_LIST_RAW = os.listdir(\"{}raw/\".format(DIR_BASE))\n",
    "# Exclude yaml.\n",
    "MODEL_LIST_RAW = list(filter(lambda p: p.endswith(\".safetensors\"), MODEL_LIST_RAW)) #p.endswith(\".ckpt\") or p.endswith(\".safetensors\") or p.endswith(\".bin\")\n",
    "if len(MODEL_LIST_RAW) < 2:\n",
    "    raise Exception(\"Need at least 2 models for merge.\")\n",
    "\n",
    "#model_list = list(map(lambda p: os.path.splitext(os.path.basename(p))[0], model_list))"
   ]
  },
  {
   "cell_type": "code",
   "execution_count": 7,
   "metadata": {},
   "outputs": [
    {
     "name": "stdout",
     "output_type": "stream",
     "text": [
      "52 raw models found.\n"
     ]
    }
   ],
   "source": [
    "print(\"{} raw models found.\".format(len(MODEL_LIST_RAW)))"
   ]
  },
  {
   "cell_type": "markdown",
   "metadata": {},
   "source": [
    "Define model selection. Index start with 1. Check model list for ordering!\n",
    "```\n",
    "te0: --,--,03,04,05,--,08,10,11,--,14,16,17,18,19,20,21,22,23,24,25,26,27,--,32,--,35,36,--,--,--,41,--,43,--,45,46,48,--,--=27\n",
    "te1: 01,02,03,04,05,06,--,10,--,12,14,16,17,18,19,20,21,22,23,24,25,26,27,30,32,33,35,36,37,38,40,41,42,--,44,45,46,48,49,50=37\n",
    "te2: 01,--,03,04,05,06,--,10,--,--,--,16,17,18,19,20,21,22,23,24,25,--,27,--,32,33,35,36,37,38,40,41,--,--,--,--,--,--,--,--=25\n",
    "=sd: --,--,03,--,--,--,--,10,--,12,--,16,--,18,19,--,--,--,--,--,25,--,--,--,--,--,--,--,--,--,--,--,--,--,--,--,--,--,--,--=7\n",
    "\n",
    "te0: 04,05,08,11,14,17,20,21,22,23,24,25,26,27,32,35,36,41,43,45,46,48=22\n",
    "te1: 01,02,04,05,06,14,17,20,21,22,23,24,25,26,27,30,32,33,35,36,37,38,40,41,42,44,45,46,48,49,50=31\n",
    "\n",
    "unet: 01,02,--,04,05,06,07,08,09,10,11,12,13,--,15,--,17,18,19,20,21,22,23,--,25,26,27,28,29,30,31,32,33,34,35,36,37,38,39,40,41,42,43,44,45,46,47,--,49,--=44\n",
    "\n",
    "```"
   ]
  },
  {
   "cell_type": "code",
   "execution_count": 8,
   "metadata": {},
   "outputs": [],
   "source": [
    "MODEL_SELECTION_TE0 = [4,5,8,11,14,17,20,21,22,23,24,25,26,27,32,35,36,41,43,45,46,48]\n",
    "MODEL_SELECTION_TE1 = [1,2,4,5,6,14,17,20,21,22,23,24,25,26,27,30,32,33,35,36,37,38,40,41,42,44,45,46,48,49,50]\n",
    "MODEL_SELECTION_UNET = [1,2,4,5,6,7,8,9,10,11,12,13,15,17,18,19,20,21,22,23,25,26,27,28,29,30,31,32,33,34,35,36,37,38,39,40,41,42,43,44,45,46,47,49]"
   ]
  },
  {
   "cell_type": "code",
   "execution_count": 9,
   "metadata": {},
   "outputs": [
    {
     "name": "stdout",
     "output_type": "stream",
     "text": [
      "TE0:22,TE1:31,UNET:44\n"
     ]
    }
   ],
   "source": [
    "print(\"TE0:{},TE1:{},UNET:{}\".format(len(MODEL_SELECTION_TE0),len(MODEL_SELECTION_TE1),len(MODEL_SELECTION_UNET)))"
   ]
  },
  {
   "cell_type": "markdown",
   "metadata": {},
   "source": [
    "Specify all the keywords (I'll avoid hardcode because they will be everywhere)"
   ]
  },
  {
   "cell_type": "code",
   "execution_count": 10,
   "metadata": {},
   "outputs": [],
   "source": [
    "MODE_RAW = 'MODE_RAW'\n",
    "MODE_CLIP = 'MODE_CLIP'\n",
    "MODE_UNET = 'MODE_UNET'\n",
    "MODE_FINAL = 'MODE_FINAL'\n",
    "\n",
    "MODE_ACTIVATED = [MODE_RAW] #[MODE_RAW,MODE_CLIP,MODE_UNET,MODE_FINAL]"
   ]
  },
  {
   "cell_type": "markdown",
   "metadata": {},
   "source": [
    "Insert version number, and the... *\"AstolfoMix\"*."
   ]
  },
  {
   "cell_type": "code",
   "execution_count": 11,
   "metadata": {},
   "outputs": [],
   "source": [
    "MODEL_NAME_SUFFIX = \"e2e-240222-60d0764\" #e2e-yymmdd-commit\n",
    "MODEL_NAME_KEYWORD = \"AstolfoMix\""
   ]
  },
  {
   "cell_type": "markdown",
   "metadata": {},
   "source": [
    "Change if your PC is in trouble.\n",
    "\n",
    "My PC: i9-7960X, X299 Dark, 128GB DDR4, 2x RTX3090, P4510. Overkill for a merger."
   ]
  },
  {
   "cell_type": "code",
   "execution_count": 12,
   "metadata": {},
   "outputs": [],
   "source": [
    "g_device = \"cuda:0\" #\"cpu\"\n",
    "g_precision_while_merge = torch.float64 if \"cuda\" in g_device else torch.float #I have RAM\n",
    "g_precision_final_model = torch.float16 if \"cuda\" in g_device else torch.float #fp16\n",
    "g_total_buffer_size=2**32 #4GB"
   ]
  },
  {
   "cell_type": "markdown",
   "metadata": {},
   "source": [
    "## User input shuold ends here. ##"
   ]
  },
  {
   "cell_type": "markdown",
   "metadata": {},
   "source": [
    "Define output model name. I want to keep the format, however I need to manage the name manually."
   ]
  },
  {
   "cell_type": "code",
   "execution_count": 13,
   "metadata": {},
   "outputs": [],
   "source": [
    "MODEL_NAME_RAW_PREFIX = \"x{}a\".format(len(MODEL_LIST_RAW)-1) #x49a\n",
    "\n",
    "MODEL_NAME_TE = \"x{}te0x{}te1\".format(len(MODEL_SELECTION_TE0)-1,len(MODEL_SELECTION_TE1)-1) #x22te0x31te1\n",
    "MODEL_NAME_FINAL_PREFIX = \"x{}\".format(len(MODEL_SELECTION_UNET)-1) #x43\n",
    "\n",
    "MODEL_NAME_RAW = \"{}-{}-{}\".format(MODEL_NAME_RAW_PREFIX,MODEL_NAME_KEYWORD,MODEL_NAME_SUFFIX) #x49a-AstolfoMix-e2e-240222-60d0764\n",
    "MODEL_NAME_TE_ITR = \"{}-{}-{}{}-{}\".format(MODEL_NAME_RAW_PREFIX,MODEL_NAME_KEYWORD,\"{}\",\"{}\",MODEL_NAME_SUFFIX) #x49a-AstolfoMix-_x01te0-e2e-240222-60d0764\n",
    "MODEL_NAME_TE_FINAL = \"{}-{}-{}-{}\".format(MODEL_NAME_RAW_PREFIX,MODEL_NAME_KEYWORD,MODEL_NAME_TE,MODEL_NAME_SUFFIX) #x49a-AstolfoMix-x22te0x31te1-e2e-240222-60d0764\n",
    "MODEL_NAME_UNET_ITR = \"{}-{}-{}-{}\".format(\"{}\",MODEL_NAME_KEYWORD,MODEL_NAME_TE,MODEL_NAME_SUFFIX) #_x01a-AstolfoMix-x22te0x31te1-e2e-240222-60d0764\n",
    "MODEL_NAME_FINAL = \"{}-{}-{}-{}\".format(MODEL_NAME_FINAL_PREFIX,MODEL_NAME_KEYWORD,MODEL_NAME_TE,MODEL_NAME_SUFFIX) #x43-AstolfoMix-x22te0x31te1-e2e-240222-60d0764"
   ]
  },
  {
   "cell_type": "code",
   "execution_count": 14,
   "metadata": {},
   "outputs": [
    {
     "name": "stdout",
     "output_type": "stream",
     "text": [
      "Naive average model:                     x51a-AstolfoMix-e2e-240222-60d0764\n",
      "CLIP models to iterlate:                 x51a-AstolfoMix-{}{}-e2e-240222-60d0764\n",
      "Naive average model with selected CLIP:  x51a-AstolfoMix-x21te0x30te1-e2e-240222-60d0764\n",
      "UNET models to iterlate:                 {}-AstolfoMix-x21te0x30te1-e2e-240222-60d0764\n",
      "Final merged model:                      x43-AstolfoMix-x21te0x30te1-e2e-240222-60d0764\n"
     ]
    }
   ],
   "source": [
    "print(\"Naive average model:                     {}\".format(MODEL_NAME_RAW))\n",
    "print(\"CLIP models to iterlate:                 {}\".format(MODEL_NAME_TE_ITR))\n",
    "print(\"Naive average model with selected CLIP:  {}\".format(MODEL_NAME_TE_FINAL))\n",
    "print(\"UNET models to iterlate:                 {}\".format(MODEL_NAME_UNET_ITR))\n",
    "print(\"Final merged model:                      {}\".format(MODEL_NAME_FINAL))"
   ]
  },
  {
   "cell_type": "markdown",
   "metadata": {},
   "source": [
    "## Setting up merge receipe and merge scheduler ##\n",
    "\n",
    "- I'm still a bit panic about hardcoding. Getter / Setter will be fine. ~~No, you won't see OOP in python notebook.~~\n",
    "- Will always run. `MODE_ACTIVATED` controls actual merge process only."
   ]
  },
  {
   "cell_type": "code",
   "execution_count": 15,
   "metadata": {},
   "outputs": [],
   "source": [
    "def rmk_raw():\n",
    "    return 'RAW'\n",
    "def rmk_ste():\n",
    "    return 'SELECTED_TE'\n",
    "def rmk_f():\n",
    "    return 'FINAL'\n",
    "def rmk_te(i,j):\n",
    "    return 'CLIP{}_TE{}'.format(i,j) #CLIP1TE0\n",
    "def rmk_unet(i):\n",
    "    return 'UNET{}'.format(i)  #UNET1"
   ]
  },
  {
   "cell_type": "code",
   "execution_count": 16,
   "metadata": {},
   "outputs": [],
   "source": [
    "recipe_mapping = {}\n",
    "\n",
    "def set_rmk(k, v):\n",
    "    recipe_mapping[k] = v"
   ]
  },
  {
   "cell_type": "code",
   "execution_count": 17,
   "metadata": {},
   "outputs": [],
   "source": [
    "def reset_rm():\n",
    "    set_rmk(rmk_raw(), None)\n",
    "    set_rmk(rmk_ste(), None)\n",
    "    set_rmk(rmk_f(), None)\n",
    "\n",
    "    for i in range(len(MODEL_LIST_RAW)):\n",
    "        set_rmk(rmk_unet(i+1), None)\n",
    "        for j in range(3):\n",
    "            set_rmk(rmk_te(i+1,j), None)"
   ]
  },
  {
   "cell_type": "code",
   "execution_count": 18,
   "metadata": {},
   "outputs": [],
   "source": [
    "reset_rm()"
   ]
  },
  {
   "cell_type": "markdown",
   "metadata": {},
   "source": [
    "Single merger should be fine."
   ]
  },
  {
   "cell_type": "code",
   "execution_count": 19,
   "metadata": {},
   "outputs": [],
   "source": [
    "scheduler = sd_mecha.RecipeMerger(\n",
    "    models_dir=DIR_BASE,\n",
    "    default_device=g_device,\n",
    "    default_dtype=g_precision_while_merge,\n",
    ")"
   ]
  },
  {
   "cell_type": "markdown",
   "metadata": {},
   "source": [
    "Define recipe extension."
   ]
  },
  {
   "cell_type": "code",
   "execution_count": 20,
   "metadata": {},
   "outputs": [],
   "source": [
    "RECIPE_EXT = \".mecha\""
   ]
  },
  {
   "cell_type": "markdown",
   "metadata": {},
   "source": [
    "### Naive Average ###\n",
    "\n",
    "- Pay attention to the `alpha`. It is opposite to A1111: It is \"A merge to B\" instead of \"Merge A with B\".\n",
    "- Also the receipe is set of `RecipeNode` under [tree structure](https://en.wikipedia.org/wiki/Tree_(data_structure)). Therefore you can expect there are quite a lot of recursive stuffs (returning iteself)."
   ]
  },
  {
   "cell_type": "code",
   "execution_count": 21,
   "metadata": {},
   "outputs": [],
   "source": [
    "def make_recipe_naive_merge():\n",
    "    models = list(map(lambda p: \"{}{}\".format(DIR_RAW,p),MODEL_LIST_RAW))\n",
    "\n",
    "    recipe = models[0]\n",
    "    for i, model in enumerate(models[1:], start=2):\n",
    "        recipe = sd_mecha.weighted_sum(model, recipe, alpha=(i-1)/i, dtype=g_precision_while_merge, device=g_device)\n",
    "\n",
    "    return recipe"
   ]
  },
  {
   "cell_type": "code",
   "execution_count": 22,
   "metadata": {},
   "outputs": [],
   "source": [
    "set_rmk(rmk_raw(), make_recipe_naive_merge())\n",
    "sd_mecha.serialize_and_save(recipe_mapping[rmk_raw()], \"{}{}{}\".format(DIR_BASE,MODEL_NAME_RAW, RECIPE_EXT))"
   ]
  },
  {
   "cell_type": "markdown",
   "metadata": {},
   "source": [
    "### CLIP Models to test ###"
   ]
  },
  {
   "cell_type": "code",
   "execution_count": 23,
   "metadata": {},
   "outputs": [],
   "source": [
    "# coming soon"
   ]
  },
  {
   "cell_type": "markdown",
   "metadata": {},
   "source": [
    "## Time for action ##"
   ]
  },
  {
   "cell_type": "code",
   "execution_count": 24,
   "metadata": {},
   "outputs": [],
   "source": [
    "ts = time.time()"
   ]
  },
  {
   "cell_type": "markdown",
   "metadata": {},
   "source": [
    "### Naive Average ###"
   ]
  },
  {
   "cell_type": "code",
   "execution_count": 25,
   "metadata": {},
   "outputs": [
    {
     "name": "stderr",
     "output_type": "stream",
     "text": [
      "Merging recipe: 100%|██████████| 2520/2520 [12:39<00:00,  3.32it/s, key=conditioner.embedders.1.model.text_projection.weight, shape=[1280, 1280]]                                  "
     ]
    },
    {
     "name": "stdout",
     "output_type": "stream",
     "text": [
      "Merge time: 767 sec\n"
     ]
    },
    {
     "name": "stderr",
     "output_type": "stream",
     "text": [
      "\n"
     ]
    }
   ],
   "source": [
    "if MODE_RAW in MODE_ACTIVATED:\n",
    "    if os.path.isfile(\"{}{}\".format(DIR_BASE,MODEL_NAME_RAW)):\n",
    "        print(\"Merged model is present. Skipping.\")\n",
    "    else:\n",
    "        tss = time.time()\n",
    "        scheduler.merge_and_save(recipe_mapping[rmk_raw()], output_path=\"{}{}\".format(DIR_FINAL,MODEL_NAME_RAW), save_dtype=g_precision_final_model, total_buffer_size=g_total_buffer_size)\n",
    "        tse = time.time()\n",
    "        print(\"Merge time: {} sec\".format(int(tse - tss)))    \n",
    "else:\n",
    "    print(\"This session is not activated. Skipping.\")"
   ]
  },
  {
   "cell_type": "markdown",
   "metadata": {},
   "source": [
    "Full operation time."
   ]
  },
  {
   "cell_type": "code",
   "execution_count": 26,
   "metadata": {},
   "outputs": [
    {
     "name": "stdout",
     "output_type": "stream",
     "text": [
      "Total time: 767 sec\n"
     ]
    }
   ],
   "source": [
    "te = time.time()\n",
    "print(\"Total time: {} sec\".format(int(te - ts)))"
   ]
  },
  {
   "cell_type": "code",
   "execution_count": null,
   "metadata": {},
   "outputs": [],
   "source": []
  }
 ],
 "metadata": {
  "anaconda-cloud": {},
  "kernelspec": {
   "display_name": "Python 3",
   "language": "python",
   "name": "python3"
  },
  "language_info": {
   "codemirror_mode": {
    "name": "ipython",
    "version": 3
   },
   "file_extension": ".py",
   "mimetype": "text/x-python",
   "name": "python",
   "nbconvert_exporter": "python",
   "pygments_lexer": "ipython3",
   "version": "3.10.13"
  },
  "toc": {
   "base_numbering": 1,
   "nav_menu": {},
   "number_sections": true,
   "sideBar": true,
   "skip_h1_title": false,
   "title_cell": "Table of Contents",
   "title_sidebar": "Contents",
   "toc_cell": false,
   "toc_position": {},
   "toc_section_display": true,
   "toc_window_display": false
  }
 },
 "nbformat": 4,
 "nbformat_minor": 4
}
