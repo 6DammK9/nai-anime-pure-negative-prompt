{
 "cells": [
  {
   "cell_type": "markdown",
   "metadata": {},
   "source": [
    "# N-Average merger #\n",
    "\n",
    "As known as \"one click Uniform Merge\".\n",
    "\n",
    "## Abstract ##\n",
    "\n",
    "- Self explained. Using `sd-mecha` as main library. **Thank you [@ljleb](https://github.com/ljleb/) for the codebase.**\n",
    "- **No need to waste 1TB+ of disk space for pariwise merging.** However you should know the \"model pool\", otherwise it is likely result in a worse model.\n",
    "- I intentionally make it into Python notebook because I can keep explaining stuffs inplace, like most AI / ML articles. [Base code is available here.](https://github.com/ljleb/sd-mecha/blob/main/examples/n_average.py) ~~I know this is also a nice testing script / example for a library.~~\n",
    "\n",
    "## Required libraries ##\n",
    "\n",
    "- `torch>=2.0.1`\n",
    "- `tensordict`\n",
    "- `sd-mecha` (I prefer [clone](https://github.com/ljleb/sd-mecha/tree/main) the source code inplace)\n",
    "- [safetensors](https://huggingface.co/docs/safetensors/index)\n",
    "- [diffusers](https://huggingface.co/docs/diffusers/installation)\n",
    "- [pytorch](https://pytorch.org/get-started/locally/#windows-python)\n",
    "\n",
    "## WTF why and will it work? ##\n",
    "\n",
    "- Yes. [It is part of my research](./README_XL.md).\n",
    "- Image comparasion will be listed there."
   ]
  },
  {
   "cell_type": "markdown",
   "metadata": {},
   "source": [
    "## Importing libraries ##"
   ]
  },
  {
   "cell_type": "code",
   "execution_count": 1,
   "metadata": {},
   "outputs": [],
   "source": [
    "# Built-in\n",
    "import glob \n",
    "import os\n",
    "\n",
    "# Is dependency fufilled?\n",
    "import torch\n",
    "import tensordict"
   ]
  },
  {
   "cell_type": "code",
   "execution_count": 2,
   "metadata": {},
   "outputs": [
    {
     "data": {
      "text/plain": [
       "'2.2.0+cu121'"
      ]
     },
     "execution_count": 2,
     "metadata": {},
     "output_type": "execute_result"
    }
   ],
   "source": [
    "torch.__version__"
   ]
  },
  {
   "cell_type": "code",
   "execution_count": 3,
   "metadata": {},
   "outputs": [],
   "source": [
    "# Import the main module.\n",
    "import sd_mecha"
   ]
  },
  {
   "cell_type": "code",
   "execution_count": 4,
   "metadata": {},
   "outputs": [],
   "source": [
    "# Fix for OMP: Error #15\n",
    "os.environ[\"KMP_DUPLICATE_LIB_OK\"] = \"TRUE\""
   ]
  },
  {
   "cell_type": "markdown",
   "metadata": {},
   "source": [
    "I'll disable pruning to let [toolkit](https://github.com/arenasys/stable-diffusion-webui-model-toolkit) support the merged model."
   ]
  },
  {
   "cell_type": "code",
   "execution_count": 5,
   "metadata": {},
   "outputs": [],
   "source": [
    "g_device = \"cuda:0\" #\"cpu\"\n",
    "g_prune = False\n",
    "g_merged_model = \"x45a-e2e\" #.safetensors\n",
    "g_precision = 16 #fp16, forwarded from sd-meh"
   ]
  },
  {
   "cell_type": "code",
   "execution_count": 6,
   "metadata": {},
   "outputs": [],
   "source": [
    "model_folder = \"../stable-diffusion-webui/tmp/astolfo_mix/sdxl/_x01/\"\n",
    "model_type = torch.float16 if \"cuda\" in g_device else torch.float # CPU doesn't support FP16 / FP8"
   ]
  },
  {
   "cell_type": "markdown",
   "metadata": {},
   "source": [
    "Exploring model inside a folder."
   ]
  },
  {
   "cell_type": "code",
   "execution_count": 7,
   "metadata": {},
   "outputs": [],
   "source": [
    "model_list = os.listdir(model_folder)\n",
    "# Exclude yaml.\n",
    "model_list = list(filter(lambda p: p.endswith(\".ckpt\") or p.endswith(\".safetensors\") or p.endswith(\".bin\"), model_list))\n",
    "if len(model_list) < 2:\n",
    "    raise Exception(\"Need at least 2 models for merge.\")\n",
    "\n",
    "#model_list = list(map(lambda p: os.path.splitext(os.path.basename(p))[0], model_list))"
   ]
  },
  {
   "cell_type": "code",
   "execution_count": 8,
   "metadata": {},
   "outputs": [
    {
     "data": {
      "text/plain": [
       "['_x01-deepDarkHentaiMixNSFW_v12.safetensors',\n",
       " '_x02-animeAntifreezingSolutionXL_v10.safetensors',\n",
       " '_x03-hsxl_base_1.0.f16.safetensors',\n",
       " '_x04-OpenDalleV1.1.safetensors',\n",
       " '_x05-copaxTimelessxlSDXL1_v8.safetensors',\n",
       " '_x06-juggernautXL_v8Rundiffusion.safetensors',\n",
       " '_x07-kohakuXLBeta_beta7.safetensors',\n",
       " '_x08-animagineXLV3_v30.safetensors',\n",
       " '_x09-animeboysxl_v10.safetensors',\n",
       " '_x10-dreamshaperXL_alpha2Xl10.safetensors',\n",
       " '_x11-SDXLRonghua_v40.safetensors',\n",
       " '_x12-bluePencilXL_v310.safetensors',\n",
       " '_x13-leosamsHelloworldSDXL_helloworldSDXL32DPO.safetensors',\n",
       " '_x14-ponyDiffusionV6XL_v6.safetensors',\n",
       " '_x15-animagineXL_v20.safetensors',\n",
       " '_x16-wdxl-aesthetic-0.9.safetensors',\n",
       " '_x17-leosamsHelloworldSDXLModel_helloworldSDXL10.safetensors',\n",
       " '_x18-nekoray-xl-1.5m-fp16mixed_e02.safetensors',\n",
       " '_x19-nekoray-xl-1.5m-pdg32_e02.safetensors',\n",
       " '_x20-explicitFreedomNSFW_beta.safetensors',\n",
       " '_x21-nd-run8-weighted-3.safetensors',\n",
       " '_x22-kohakuXL_alpha7.safetensors',\n",
       " '_x23-nekorayxl_v06W3.safetensors',\n",
       " '_x24-SwimInLatent-alpha.fp16.safetensors',\n",
       " '_x25-sd_xl_base_1.0.safetensors',\n",
       " '_x26-enjoyXLAdvancedEdition_v7AdvancedVersion.safetensors',\n",
       " '_x27-explicitFreedomNSFW_alpha.safetensors',\n",
       " '_x28-heartOfAppleXL_v10.safetensors',\n",
       " '_x29-kohakuXLGamma_rev1.safetensors',\n",
       " '_x30-aamXLAnimeMix_v10.safetensors',\n",
       " '_x31-counterfeitxl_v25.safetensors',\n",
       " '_x32-enjoyPandoraXL_v10.safetensors',\n",
       " '_x33-4Guofeng4XL_v12.safetensors',\n",
       " '_x34-animeIllustDiffusion_v061.safetensors',\n",
       " '_x35-brightprotonukeBPNNo_bpn13.safetensors',\n",
       " '_x36-devlishphotorealism_sdxl15.safetensors',\n",
       " '_x37-himawarimix_xlV4.safetensors',\n",
       " '_x38-aio_v10.safetensors',\n",
       " '_x39-sakumix_v10.safetensors',\n",
       " '_x40-218xl_.safetensors',\n",
       " '_x41-riotDiffusionXLLeagueOfLegendsSplash_v20.safetensors',\n",
       " '_x42-himawarimix_xlV5.safetensors',\n",
       " '_x43-SDXLAnimeBulldozer_v20.safetensors',\n",
       " '_x44-kohakuXLGamma_rev2.safetensors',\n",
       " '_x45-awmo-xl.safetensors',\n",
       " '_x46-realvisxlV30Turbo_v30Bakedvae.safetensors']"
      ]
     },
     "execution_count": 8,
     "metadata": {},
     "output_type": "execute_result"
    }
   ],
   "source": [
    "model_list"
   ]
  },
  {
   "cell_type": "markdown",
   "metadata": {},
   "source": [
    "Setting up merge receipe and merge scheduler."
   ]
  },
  {
   "cell_type": "code",
   "execution_count": 9,
   "metadata": {},
   "outputs": [],
   "source": [
    "models = model_list\n",
    "\n",
    "merge = models[0]\n",
    "for i, model in enumerate(models[1:], start=2):\n",
    "    merge = sd_mecha.weighted_sum(merge, model, alpha=1/i)\n",
    "\n",
    "scheduler = sd_mecha.MergeScheduler(\n",
    "    base_dir=model_folder,\n",
    "    device=g_device,\n",
    "    prune=g_prune,\n",
    "    precision=g_precision,\n",
    ")"
   ]
  },
  {
   "cell_type": "markdown",
   "metadata": {},
   "source": [
    "Time for action."
   ]
  },
  {
   "cell_type": "code",
   "execution_count": 10,
   "metadata": {},
   "outputs": [
    {
     "name": "stderr",
     "output_type": "stream",
     "text": [
      "stage 1: 100%|██████████| 2515/2515 [00:00<00:00, 3607.55it/s]\n",
      "stage 2: 100%|██████████| 2515/2515 [00:00<00:00, 420282.66it/s]\n",
      "stage 1: 100%|██████████| 2515/2515 [00:00<00:00, 5757.19it/s]\n",
      "stage 2: 100%|██████████| 2516/2516 [00:00<00:00, 504559.83it/s]\n",
      "stage 1: 100%|██████████| 2516/2516 [00:00<00:00, 4879.55it/s]\n",
      "stage 2: 100%|██████████| 2516/2516 [00:00<00:00, 420416.27it/s]\n",
      "stage 1: 100%|██████████| 2516/2516 [00:00<00:00, 4414.17it/s]\n",
      "stage 2: 100%|██████████| 2515/2515 [00:00<00:00, 504214.64it/s]\n",
      "stage 1: 100%|██████████| 2516/2516 [00:00<00:00, 4349.53it/s]\n",
      "stage 2: 100%|██████████| 2515/2515 [00:00<00:00, 420249.18it/s]\n",
      "stage 1: 100%|██████████| 2516/2516 [00:00<00:00, 4553.66it/s]\n",
      "stage 2: 100%|██████████| 2515/2515 [00:00<00:00, 504311.07it/s]\n",
      "stage 1: 100%|██████████| 2516/2516 [00:00<00:00, 5096.42it/s]\n",
      "stage 2: 100%|██████████| 2515/2515 [00:00<00:00, 420249.18it/s]\n",
      "stage 1: 100%|██████████| 2516/2516 [00:00<00:00, 4052.53it/s]\n",
      "stage 2: 100%|██████████| 2515/2515 [00:00<00:00, 420332.90it/s]\n",
      "stage 1: 100%|██████████| 2516/2516 [00:00<00:00, 4799.81it/s]\n",
      "stage 2: 100%|██████████| 2516/2516 [00:00<00:00, 504559.83it/s]\n",
      "stage 1: 100%|██████████| 2517/2517 [00:00<00:00, 3218.97it/s]\n",
      "stage 2: 100%|██████████| 2515/2515 [00:00<00:00, 420299.41it/s]\n",
      "stage 1: 100%|██████████| 2517/2517 [00:00<00:00, 5444.83it/s]\n",
      "stage 2: 100%|██████████| 2515/2515 [00:00<00:00, 360232.03it/s]\n",
      "stage 1: 100%|██████████| 2517/2517 [00:00<00:00, 3794.98it/s]\n",
      "stage 2: 100%|██████████| 2515/2515 [00:00<00:00, 360195.13it/s]\n",
      "stage 1: 100%|██████████| 2517/2517 [00:00<00:00, 5910.36it/s]\n",
      "stage 2: 100%|██████████| 2515/2515 [00:00<00:00, 420299.41it/s]\n",
      "stage 1: 100%|██████████| 2517/2517 [00:00<00:00, 4038.11it/s]\n",
      "stage 2: 100%|██████████| 2515/2515 [00:00<00:00, 420299.41it/s]\n",
      "stage 1: 100%|██████████| 2517/2517 [00:00<00:00, 4150.78it/s]\n",
      "stage 2: 100%|██████████| 2515/2515 [00:00<00:00, 420299.41it/s]\n",
      "stage 1: 100%|██████████| 2517/2517 [00:00<00:00, 3277.44it/s]\n",
      "stage 2: 100%|██████████| 2515/2515 [00:00<00:00, 420316.16it/s]\n",
      "stage 1: 100%|██████████| 2517/2517 [00:00<00:00, 5358.24it/s]\n",
      "stage 2: 100%|██████████| 2515/2515 [00:00<00:00, 420332.90it/s]\n",
      "stage 1: 100%|██████████| 2517/2517 [00:00<00:00, 4044.32it/s]\n",
      "stage 2: 100%|██████████| 2515/2515 [00:00<00:00, 420299.41it/s]\n",
      "stage 1: 100%|██████████| 2517/2517 [00:00<00:00, 5124.24it/s]\n",
      "stage 2: 100%|██████████| 2516/2516 [00:00<00:00, 360387.57it/s]\n",
      "stage 1: 100%|██████████| 2517/2517 [00:00<00:00, 4604.82it/s]\n",
      "stage 2: 100%|██████████| 2514/2514 [00:00<00:00, 504158.75it/s]\n",
      "stage 1: 100%|██████████| 2517/2517 [00:00<00:00, 4328.87it/s]\n",
      "stage 2: 100%|██████████| 2515/2515 [00:00<00:00, 504359.29it/s]\n",
      "stage 1: 100%|██████████| 2517/2517 [00:00<00:00, 5775.12it/s]\n",
      "stage 2: 100%|██████████| 2514/2514 [00:00<00:00, 420132.29it/s]\n",
      "stage 1: 100%|██████████| 2517/2517 [00:00<00:00, 4539.08it/s]\n",
      "stage 2: 100%|██████████| 2515/2515 [00:00<00:00, 506684.98it/s]\n",
      "stage 1: 100%|██████████| 2517/2517 [00:00<00:00, 5257.77it/s]\n",
      "stage 2: 100%|██████████| 2515/2515 [00:00<00:00, 420265.92it/s]\n",
      "stage 1: 100%|██████████| 2517/2517 [00:00<00:00, 4366.32it/s]\n",
      "stage 2: 100%|██████████| 3308/3308 [00:00<00:00, 100511.13it/s]\n",
      "stage 1: 100%|██████████| 3309/3309 [00:00<00:00, 5945.97it/s]\n",
      "stage 2: 100%|██████████| 2516/2516 [00:00<00:00, 504535.71it/s]\n",
      "stage 1: 100%|██████████| 3309/3309 [00:00<00:00, 6076.64it/s]\n",
      "stage 2: 100%|██████████| 2515/2515 [00:00<00:00, 504359.29it/s]\n",
      "stage 1: 100%|██████████| 3309/3309 [00:00<00:00, 5073.17it/s]\n",
      "stage 2: 100%|██████████| 2515/2515 [00:00<00:00, 420299.41it/s]\n",
      "stage 1: 100%|██████████| 3309/3309 [00:00<00:00, 7044.26it/s]\n",
      "stage 2: 100%|██████████| 2516/2516 [00:00<00:00, 504583.96it/s]\n",
      "stage 1: 100%|██████████| 3309/3309 [00:00<00:00, 4570.04it/s]\n",
      "stage 2: 100%|██████████| 2516/2516 [00:00<00:00, 420466.53it/s]\n",
      "stage 1: 100%|██████████| 3309/3309 [00:00<00:00, 4739.77it/s]\n",
      "stage 2: 100%|██████████| 3308/3308 [00:00<00:00, 414592.65it/s]\n",
      "stage 1: 100%|██████████| 3309/3309 [00:00<00:00, 7165.98it/s]\n",
      "stage 2: 100%|██████████| 2515/2515 [00:00<00:00, 420299.41it/s]\n",
      "stage 1: 100%|██████████| 3309/3309 [00:00<00:00, 5200.39it/s]\n",
      "stage 2: 100%|██████████| 2515/2515 [00:00<00:00, 420316.16it/s]\n",
      "stage 1: 100%|██████████| 3309/3309 [00:00<00:00, 7228.31it/s]\n",
      "stage 2: 100%|██████████| 2516/2516 [00:00<00:00, 360412.19it/s]\n",
      "stage 1: 100%|██████████| 3309/3309 [00:00<00:00, 4989.24it/s]\n",
      "stage 2: 100%|██████████| 2515/2515 [00:00<00:00, 504311.07it/s]\n",
      "stage 1: 100%|██████████| 3309/3309 [00:00<00:00, 5216.74it/s]\n",
      "stage 2: 100%|██████████| 2515/2515 [00:00<00:00, 504383.41it/s]\n",
      "stage 1: 100%|██████████| 3309/3309 [00:00<00:00, 6544.07it/s]\n",
      "stage 2: 100%|██████████| 2515/2515 [00:00<00:00, 504335.18it/s]\n",
      "stage 1: 100%|██████████| 3309/3309 [00:00<00:00, 5120.14it/s]\n",
      "stage 2: 100%|██████████| 2516/2516 [00:00<00:00, 420433.02it/s]\n",
      "stage 1: 100%|██████████| 3309/3309 [00:00<00:00, 5073.17it/s]\n",
      "stage 2: 100%|██████████| 2514/2514 [00:00<00:00, 360101.09it/s]\n",
      "stage 1: 100%|██████████| 3309/3309 [00:00<00:00, 6010.59it/s]\n",
      "stage 2: 100%|██████████| 2515/2515 [00:00<00:00, 360244.33it/s]\n",
      "stage 1: 100%|██████████| 3309/3309 [00:00<00:00, 4429.71it/s]\n",
      "stage 2: 100%|██████████| 2515/2515 [00:00<00:00, 420316.16it/s]\n",
      "stage 1: 100%|██████████| 3309/3309 [00:00<00:00, 6583.02it/s]\n",
      "stage 2: 100%|██████████| 2515/2515 [00:00<00:00, 420299.41it/s]\n",
      "stage 1: 100%|██████████| 3309/3309 [00:00<00:00, 4659.90it/s]\n",
      "stage 2: 100%|██████████| 2515/2515 [00:00<00:00, 504335.18it/s]\n",
      "stage 1: 100%|██████████| 3309/3309 [00:00<00:00, 4406.17it/s]\n",
      "stage 2: 100%|██████████| 2514/2514 [00:00<00:00, 420115.55it/s]\n",
      "stage 1: 100%|██████████| 3309/3309 [00:00<00:00, 5861.93it/s]\n",
      "stage 2: 100%|██████████| 2515/2515 [00:00<00:00, 504359.29it/s]\n"
     ]
    }
   ],
   "source": [
    "scheduler.merge_and_save(merge, output_path=g_merged_model)"
   ]
  },
  {
   "cell_type": "code",
   "execution_count": null,
   "metadata": {},
   "outputs": [],
   "source": []
  }
 ],
 "metadata": {
  "anaconda-cloud": {},
  "kernelspec": {
   "display_name": "Python 3",
   "language": "python",
   "name": "python3"
  },
  "language_info": {
   "codemirror_mode": {
    "name": "ipython",
    "version": 3
   },
   "file_extension": ".py",
   "mimetype": "text/x-python",
   "name": "python",
   "nbconvert_exporter": "python",
   "pygments_lexer": "ipython3",
   "version": "3.10.13"
  },
  "toc": {
   "base_numbering": 1,
   "nav_menu": {},
   "number_sections": true,
   "sideBar": true,
   "skip_h1_title": false,
   "title_cell": "Table of Contents",
   "title_sidebar": "Contents",
   "toc_cell": false,
   "toc_position": {},
   "toc_section_display": true,
   "toc_window_display": false
  }
 },
 "nbformat": 4,
 "nbformat_minor": 4
}
