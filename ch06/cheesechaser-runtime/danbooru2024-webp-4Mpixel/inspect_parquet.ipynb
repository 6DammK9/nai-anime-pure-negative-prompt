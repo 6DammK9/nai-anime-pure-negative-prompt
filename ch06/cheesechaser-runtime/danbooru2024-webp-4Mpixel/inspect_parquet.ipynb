{
 "cells": [
  {
   "cell_type": "markdown",
   "metadata": {},
   "source": [
    "# Insepect the tag dataset #\n",
    "\n",
    "install necessary packages, you can choose `pyarrow` or `fastparquet`."
   ]
  },
  {
   "cell_type": "code",
   "execution_count": 1,
   "metadata": {},
   "outputs": [],
   "source": [
    "#%pip install pandas pyarrow"
   ]
  },
  {
   "cell_type": "code",
   "execution_count": 2,
   "metadata": {},
   "outputs": [],
   "source": [
    "import pandas as pd"
   ]
  },
  {
   "cell_type": "code",
   "execution_count": 3,
   "metadata": {},
   "outputs": [],
   "source": [
    "df = pd.read_parquet('./metadata.parquet')"
   ]
  },
  {
   "cell_type": "code",
   "execution_count": 4,
   "metadata": {},
   "outputs": [
    {
     "data": {
      "text/html": [
       "<div>\n",
       "<style scoped>\n",
       "    .dataframe tbody tr th:only-of-type {\n",
       "        vertical-align: middle;\n",
       "    }\n",
       "\n",
       "    .dataframe tbody tr th {\n",
       "        vertical-align: top;\n",
       "    }\n",
       "\n",
       "    .dataframe thead th {\n",
       "        text-align: right;\n",
       "    }\n",
       "</style>\n",
       "<table border=\"1\" class=\"dataframe\">\n",
       "  <thead>\n",
       "    <tr style=\"text-align: right;\">\n",
       "      <th></th>\n",
       "      <th>created_at</th>\n",
       "      <th>uploader_id</th>\n",
       "      <th>score</th>\n",
       "      <th>source</th>\n",
       "      <th>md5</th>\n",
       "      <th>last_comment_bumped_at</th>\n",
       "      <th>rating</th>\n",
       "      <th>image_width</th>\n",
       "      <th>image_height</th>\n",
       "      <th>tag_string</th>\n",
       "      <th>...</th>\n",
       "      <th>media_asset.variants.4.type</th>\n",
       "      <th>media_asset.variants.4.url</th>\n",
       "      <th>media_asset.variants.4.width</th>\n",
       "      <th>media_asset.variants.4.height</th>\n",
       "      <th>media_asset.variants.4.file_ext</th>\n",
       "      <th>media_asset.variants.5.type</th>\n",
       "      <th>media_asset.variants.5.url</th>\n",
       "      <th>media_asset.variants.5.width</th>\n",
       "      <th>media_asset.variants.5.height</th>\n",
       "      <th>media_asset.variants.5.file_ext</th>\n",
       "    </tr>\n",
       "    <tr>\n",
       "      <th>id</th>\n",
       "      <th></th>\n",
       "      <th></th>\n",
       "      <th></th>\n",
       "      <th></th>\n",
       "      <th></th>\n",
       "      <th></th>\n",
       "      <th></th>\n",
       "      <th></th>\n",
       "      <th></th>\n",
       "      <th></th>\n",
       "      <th></th>\n",
       "      <th></th>\n",
       "      <th></th>\n",
       "      <th></th>\n",
       "      <th></th>\n",
       "      <th></th>\n",
       "      <th></th>\n",
       "      <th></th>\n",
       "      <th></th>\n",
       "      <th></th>\n",
       "      <th></th>\n",
       "    </tr>\n",
       "  </thead>\n",
       "  <tbody>\n",
       "    <tr>\n",
       "      <th>1</th>\n",
       "      <td>2005-05-23T23:35:31.000-04:00</td>\n",
       "      <td>1</td>\n",
       "      <td>1519</td>\n",
       "      <td>http://www.biwa.ne.jp/~kyogoku/nekotama.jpg</td>\n",
       "      <td>d34e4cf0a437a5d65f8e82b7bcd02606</td>\n",
       "      <td>2024-10-06T15:54:12.170-04:00</td>\n",
       "      <td>s</td>\n",
       "      <td>459</td>\n",
       "      <td>650</td>\n",
       "      <td>1girl 2000s_(style) ;p animal_ear_fluff animal...</td>\n",
       "      <td>...</td>\n",
       "      <td>None</td>\n",
       "      <td>None</td>\n",
       "      <td>NaN</td>\n",
       "      <td>NaN</td>\n",
       "      <td>None</td>\n",
       "      <td>None</td>\n",
       "      <td>None</td>\n",
       "      <td>NaN</td>\n",
       "      <td>NaN</td>\n",
       "      <td>None</td>\n",
       "    </tr>\n",
       "    <tr>\n",
       "      <th>2</th>\n",
       "      <td>2005-05-23T23:37:30.000-04:00</td>\n",
       "      <td>1</td>\n",
       "      <td>22</td>\n",
       "      <td>http://page.freett.com/tyuyan/leafkey_014658.png</td>\n",
       "      <td>710fd9cba4ef37260f9152ffa9d154d8</td>\n",
       "      <td>2024-10-14T04:33:25.913-04:00</td>\n",
       "      <td>s</td>\n",
       "      <td>450</td>\n",
       "      <td>450</td>\n",
       "      <td>2boys 2girls ahoge ass bad_id bad_link blue_ha...</td>\n",
       "      <td>...</td>\n",
       "      <td>None</td>\n",
       "      <td>None</td>\n",
       "      <td>NaN</td>\n",
       "      <td>NaN</td>\n",
       "      <td>None</td>\n",
       "      <td>None</td>\n",
       "      <td>None</td>\n",
       "      <td>NaN</td>\n",
       "      <td>NaN</td>\n",
       "      <td>None</td>\n",
       "    </tr>\n",
       "    <tr>\n",
       "      <th>3</th>\n",
       "      <td>2005-05-23T23:38:05.000-04:00</td>\n",
       "      <td>1</td>\n",
       "      <td>53</td>\n",
       "      <td>http://page.freett.com/tyuyan/saber%20top.jpg</td>\n",
       "      <td>fdb47f79fb8da82e66eeb1d84a1cae8d</td>\n",
       "      <td>2024-08-18T02:15:51.337-04:00</td>\n",
       "      <td>g</td>\n",
       "      <td>444</td>\n",
       "      <td>621</td>\n",
       "      <td>1girl 2005 ahoge armor armored_dress artoria_p...</td>\n",
       "      <td>...</td>\n",
       "      <td>None</td>\n",
       "      <td>None</td>\n",
       "      <td>NaN</td>\n",
       "      <td>NaN</td>\n",
       "      <td>None</td>\n",
       "      <td>None</td>\n",
       "      <td>None</td>\n",
       "      <td>NaN</td>\n",
       "      <td>NaN</td>\n",
       "      <td>None</td>\n",
       "    </tr>\n",
       "    <tr>\n",
       "      <th>4</th>\n",
       "      <td>2005-05-23T23:42:26.000-04:00</td>\n",
       "      <td>1</td>\n",
       "      <td>35</td>\n",
       "      <td>https://ja.hentai-img.com/image/48-pictures-ma...</td>\n",
       "      <td>552e74406af8a2b6b8b7fd547bc2c353</td>\n",
       "      <td>2024-06-04T11:13:48.674-04:00</td>\n",
       "      <td>s</td>\n",
       "      <td>600</td>\n",
       "      <td>730</td>\n",
       "      <td>2girls :d ;) arm_up armpits bare_arms bare_sho...</td>\n",
       "      <td>...</td>\n",
       "      <td>None</td>\n",
       "      <td>None</td>\n",
       "      <td>NaN</td>\n",
       "      <td>NaN</td>\n",
       "      <td>None</td>\n",
       "      <td>None</td>\n",
       "      <td>None</td>\n",
       "      <td>NaN</td>\n",
       "      <td>NaN</td>\n",
       "      <td>None</td>\n",
       "    </tr>\n",
       "    <tr>\n",
       "      <th>5</th>\n",
       "      <td>2005-05-23T23:57:53.000-04:00</td>\n",
       "      <td>1</td>\n",
       "      <td>79</td>\n",
       "      <td>http://4040.main.jp/noteimage/20050523.jpg</td>\n",
       "      <td>4f5ac0caa62550b0eeac5d91a9f53ffe</td>\n",
       "      <td>2024-10-01T17:04:38.763-04:00</td>\n",
       "      <td>q</td>\n",
       "      <td>512</td>\n",
       "      <td>384</td>\n",
       "      <td>3girls :d ass bad_id bamboo_fence barefoot bat...</td>\n",
       "      <td>...</td>\n",
       "      <td>None</td>\n",
       "      <td>None</td>\n",
       "      <td>NaN</td>\n",
       "      <td>NaN</td>\n",
       "      <td>None</td>\n",
       "      <td>None</td>\n",
       "      <td>None</td>\n",
       "      <td>NaN</td>\n",
       "      <td>NaN</td>\n",
       "      <td>None</td>\n",
       "    </tr>\n",
       "  </tbody>\n",
       "</table>\n",
       "<p>5 rows × 87 columns</p>\n",
       "</div>"
      ],
      "text/plain": [
       "                       created_at  uploader_id  score  \\\n",
       "id                                                      \n",
       "1   2005-05-23T23:35:31.000-04:00            1   1519   \n",
       "2   2005-05-23T23:37:30.000-04:00            1     22   \n",
       "3   2005-05-23T23:38:05.000-04:00            1     53   \n",
       "4   2005-05-23T23:42:26.000-04:00            1     35   \n",
       "5   2005-05-23T23:57:53.000-04:00            1     79   \n",
       "\n",
       "                                               source  \\\n",
       "id                                                      \n",
       "1         http://www.biwa.ne.jp/~kyogoku/nekotama.jpg   \n",
       "2    http://page.freett.com/tyuyan/leafkey_014658.png   \n",
       "3       http://page.freett.com/tyuyan/saber%20top.jpg   \n",
       "4   https://ja.hentai-img.com/image/48-pictures-ma...   \n",
       "5          http://4040.main.jp/noteimage/20050523.jpg   \n",
       "\n",
       "                                 md5         last_comment_bumped_at rating  \\\n",
       "id                                                                           \n",
       "1   d34e4cf0a437a5d65f8e82b7bcd02606  2024-10-06T15:54:12.170-04:00      s   \n",
       "2   710fd9cba4ef37260f9152ffa9d154d8  2024-10-14T04:33:25.913-04:00      s   \n",
       "3   fdb47f79fb8da82e66eeb1d84a1cae8d  2024-08-18T02:15:51.337-04:00      g   \n",
       "4   552e74406af8a2b6b8b7fd547bc2c353  2024-06-04T11:13:48.674-04:00      s   \n",
       "5   4f5ac0caa62550b0eeac5d91a9f53ffe  2024-10-01T17:04:38.763-04:00      q   \n",
       "\n",
       "    image_width  image_height  \\\n",
       "id                              \n",
       "1           459           650   \n",
       "2           450           450   \n",
       "3           444           621   \n",
       "4           600           730   \n",
       "5           512           384   \n",
       "\n",
       "                                           tag_string  ...  \\\n",
       "id                                                     ...   \n",
       "1   1girl 2000s_(style) ;p animal_ear_fluff animal...  ...   \n",
       "2   2boys 2girls ahoge ass bad_id bad_link blue_ha...  ...   \n",
       "3   1girl 2005 ahoge armor armored_dress artoria_p...  ...   \n",
       "4   2girls :d ;) arm_up armpits bare_arms bare_sho...  ...   \n",
       "5   3girls :d ass bad_id bamboo_fence barefoot bat...  ...   \n",
       "\n",
       "    media_asset.variants.4.type media_asset.variants.4.url  \\\n",
       "id                                                           \n",
       "1                          None                       None   \n",
       "2                          None                       None   \n",
       "3                          None                       None   \n",
       "4                          None                       None   \n",
       "5                          None                       None   \n",
       "\n",
       "   media_asset.variants.4.width  media_asset.variants.4.height  \\\n",
       "id                                                               \n",
       "1                           NaN                            NaN   \n",
       "2                           NaN                            NaN   \n",
       "3                           NaN                            NaN   \n",
       "4                           NaN                            NaN   \n",
       "5                           NaN                            NaN   \n",
       "\n",
       "    media_asset.variants.4.file_ext  media_asset.variants.5.type  \\\n",
       "id                                                                 \n",
       "1                              None                         None   \n",
       "2                              None                         None   \n",
       "3                              None                         None   \n",
       "4                              None                         None   \n",
       "5                              None                         None   \n",
       "\n",
       "    media_asset.variants.5.url  media_asset.variants.5.width  \\\n",
       "id                                                             \n",
       "1                         None                           NaN   \n",
       "2                         None                           NaN   \n",
       "3                         None                           NaN   \n",
       "4                         None                           NaN   \n",
       "5                         None                           NaN   \n",
       "\n",
       "    media_asset.variants.5.height  media_asset.variants.5.file_ext  \n",
       "id                                                                  \n",
       "1                             NaN                             None  \n",
       "2                             NaN                             None  \n",
       "3                             NaN                             None  \n",
       "4                             NaN                             None  \n",
       "5                             NaN                             None  \n",
       "\n",
       "[5 rows x 87 columns]"
      ]
     },
     "execution_count": 4,
     "metadata": {},
     "output_type": "execute_result"
    }
   ],
   "source": [
    "df.head(5)"
   ]
  },
  {
   "cell_type": "code",
   "execution_count": 5,
   "metadata": {},
   "outputs": [
    {
     "data": {
      "text/plain": [
       "rating\n",
       "s    4222302\n",
       "g    2200816\n",
       "q     903999\n",
       "e     677893\n",
       "Name: count, dtype: int64"
      ]
     },
     "execution_count": 5,
     "metadata": {},
     "output_type": "execute_result"
    }
   ],
   "source": [
    "df[\"rating\"].value_counts()"
   ]
  },
  {
   "cell_type": "code",
   "execution_count": 6,
   "metadata": {},
   "outputs": [
    {
     "data": {
      "text/plain": [
       "411306"
      ]
     },
     "execution_count": 6,
     "metadata": {},
     "output_type": "execute_result"
    }
   ],
   "source": [
    "len(df[df['tag_string'].str.contains('nude')])"
   ]
  },
  {
   "cell_type": "code",
   "execution_count": 8,
   "metadata": {},
   "outputs": [
    {
     "data": {
      "text/plain": [
       "6224"
      ]
     },
     "execution_count": 8,
     "metadata": {},
     "output_type": "execute_result"
    }
   ],
   "source": [
    "len(df[df['tag_string'].str.contains('astolfo')])"
   ]
  },
  {
   "cell_type": "markdown",
   "metadata": {},
   "source": [
    "This just print a `row`. Notice that it is different from the `df.head()`.\n",
    "\n",
    "Notice that `id` is magially becomes `Index`. Meanwhile nested fields are caseted as `_dd`."
   ]
  },
  {
   "cell_type": "code",
   "execution_count": 7,
   "metadata": {},
   "outputs": [
    {
     "name": "stdout",
     "output_type": "stream",
     "text": [
      "Pandas(Index=1, created_at='2005-05-23T23:35:31.000-04:00', uploader_id=1, score=1519, source='http://www.biwa.ne.jp/~kyogoku/nekotama.jpg', md5='d34e4cf0a437a5d65f8e82b7bcd02606', last_comment_bumped_at='2024-10-06T15:54:12.170-04:00', rating='s', image_width=459, image_height=650, tag_string='1girl 2000s_(style) ;p animal_ear_fluff animal_ears aqua_panties bad_id bad_link blue_bow blush border bow bow_panties breasts brown_eyes cat_ears cat_girl cat_tail collarbone colored_stripes commentary cowboy_shot groin hands_up kemonomimi_mode kousaka_tamaki kyogoku_shin large_breasts long_hair long_sleeves looking_at_viewer no_pants one_eye_closed orange_background outside_border panties parted_bangs pink_shirt red_hair red_sailor_collar sailor_collar school_uniform serafuku shirt sidelocks simple_background smile solo standing straight_hair striped_background striped_clothes striped_panties tail thigh_gap thighhighs thighs to_heart_(series) to_heart_2 tongue tongue_out two_side_up underwear very_long_hair w_arms white_border white_panties white_thighhighs', fav_count=1833, file_ext='jpg', last_noted_at=None, parent_id=57501.0, has_children=False, approver_id=nan, tag_count_general=61, tag_count_artist=1, tag_count_character=1, tag_count_copyright=2, file_size=127238, up_score=1510, down_score=-7, is_pending=False, is_flagged=False, is_deleted=False, tag_count=68, updated_at='2024-10-18T16:51:04.036-04:00', is_banned=False, pixiv_id=nan, last_commented_at='2024-10-06T15:54:12.170-04:00', has_active_children=False, bit_flags=0, tag_count_meta=3, has_large=False, has_visible_children=False, _37=1, _38='2005-05-23T23:35:31.000-04:00', _39='2023-02-23T03:15:45.265-05:00', _40='d34e4cf0a437a5d65f8e82b7bcd02606', _41='jpg', _42=127238, _43=459, _44=650, _45=nan, _46='active', _47='wUufKEivb', _48=True, _49='9c877dd5674d7fa251ce2de0c956fd36', _50='180x180', _51='https://cdn.donmai.us/180x180/d3/4e/d34e4cf0a437a5d65f8e82b7bcd02606.jpg', _52=127.0, _53=180.0, _54='jpg', _55='360x360', _56='https://cdn.donmai.us/360x360/d3/4e/d34e4cf0a437a5d65f8e82b7bcd02606.jpg', _57=254.0, _58=360.0, _59='jpg', _60='720x720', _61='https://cdn.donmai.us/720x720/d3/4e/d34e4cf0a437a5d65f8e82b7bcd02606.webp', _62=459.0, _63=650.0, _64='webp', _65='original', _66='https://cdn.donmai.us/original/d3/4e/d34e4cf0a437a5d65f8e82b7bcd02606.jpg', _67=459.0, _68=650.0, _69='jpg', tag_string_general='1girl 2000s_(style) ;p animal_ear_fluff animal_ears aqua_panties blue_bow blush border bow bow_panties breasts brown_eyes cat_ears cat_girl cat_tail collarbone colored_stripes cowboy_shot groin hands_up kemonomimi_mode large_breasts long_hair long_sleeves looking_at_viewer no_pants one_eye_closed orange_background outside_border panties parted_bangs pink_shirt red_hair red_sailor_collar sailor_collar school_uniform serafuku shirt sidelocks simple_background smile solo standing straight_hair striped_background striped_clothes striped_panties tail thigh_gap thighhighs thighs tongue tongue_out two_side_up underwear very_long_hair w_arms white_border white_panties white_thighhighs', tag_string_character='kousaka_tamaki', tag_string_copyright='to_heart_(series) to_heart_2', tag_string_artist='kyogoku_shin', tag_string_meta='bad_id bad_link commentary', file_url='https://cdn.donmai.us/original/d3/4e/d34e4cf0a437a5d65f8e82b7bcd02606.jpg', large_file_url='https://cdn.donmai.us/original/d3/4e/d34e4cf0a437a5d65f8e82b7bcd02606.jpg', preview_file_url='https://cdn.donmai.us/180x180/d3/4e/d34e4cf0a437a5d65f8e82b7bcd02606.jpg', _78=None, _79=None, _80=nan, _81=nan, _82=None, _83=None, _84=None, _85=nan, _86=nan, _87=None)\n"
     ]
    }
   ],
   "source": [
    "for row in df.itertuples():\n",
    "    print(row)\n",
    "    break"
   ]
  }
 ],
 "metadata": {
  "anaconda-cloud": {},
  "kernelspec": {
   "display_name": "cheesechaser-env",
   "language": "python",
   "name": "python3"
  },
  "language_info": {
   "codemirror_mode": {
    "name": "ipython",
    "version": 3
   },
   "file_extension": ".py",
   "mimetype": "text/x-python",
   "name": "python",
   "nbconvert_exporter": "python",
   "pygments_lexer": "ipython3",
   "version": "3.12.7"
  },
  "toc": {
   "base_numbering": 1,
   "nav_menu": {},
   "number_sections": true,
   "sideBar": true,
   "skip_h1_title": false,
   "title_cell": "Table of Contents",
   "title_sidebar": "Contents",
   "toc_cell": false,
   "toc_position": {},
   "toc_section_display": true,
   "toc_window_display": false
  }
 },
 "nbformat": 4,
 "nbformat_minor": 4
}
