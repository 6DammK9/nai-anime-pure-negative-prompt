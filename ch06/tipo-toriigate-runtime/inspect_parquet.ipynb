{
 "cells": [
  {
   "cell_type": "markdown",
   "metadata": {},
   "source": [
    "# Insepect the tag dataset #\n",
    "\n",
    "install necessary packages, you can choose `pyarrow` or `fastparquet`."
   ]
  },
  {
   "cell_type": "code",
   "execution_count": 1,
   "metadata": {},
   "outputs": [],
   "source": [
    "#%pip install pandas pyarrow"
   ]
  },
  {
   "cell_type": "code",
   "execution_count": 2,
   "metadata": {},
   "outputs": [],
   "source": [
    "import pandas as pd\n",
    "import json"
   ]
  },
  {
   "cell_type": "code",
   "execution_count": 3,
   "metadata": {},
   "outputs": [],
   "source": [
    "df = pd.read_parquet('F:/danbooru2023-metadata-database/danbooru2023-prompt-gen-data.parquet')"
   ]
  },
  {
   "cell_type": "code",
   "execution_count": 4,
   "metadata": {},
   "outputs": [
    {
     "data": {
      "text/plain": [
       "7827640"
      ]
     },
     "execution_count": 4,
     "metadata": {},
     "output_type": "execute_result"
    }
   ],
   "source": [
    "len(df)"
   ]
  },
  {
   "cell_type": "code",
   "execution_count": 5,
   "metadata": {},
   "outputs": [
    {
     "data": {
      "text/plain": [
       "7866491"
      ]
     },
     "execution_count": 5,
     "metadata": {},
     "output_type": "execute_result"
    }
   ],
   "source": [
    "df.index.max()"
   ]
  },
  {
   "cell_type": "code",
   "execution_count": 6,
   "metadata": {},
   "outputs": [
    {
     "data": {
      "text/html": [
       "<div>\n",
       "<style scoped>\n",
       "    .dataframe tbody tr th:only-of-type {\n",
       "        vertical-align: middle;\n",
       "    }\n",
       "\n",
       "    .dataframe tbody tr th {\n",
       "        vertical-align: top;\n",
       "    }\n",
       "\n",
       "    .dataframe thead th {\n",
       "        text-align: right;\n",
       "    }\n",
       "</style>\n",
       "<table border=\"1\" class=\"dataframe\">\n",
       "  <thead>\n",
       "    <tr style=\"text-align: right;\">\n",
       "      <th></th>\n",
       "      <th>height</th>\n",
       "      <th>width</th>\n",
       "      <th>fav</th>\n",
       "      <th>quality</th>\n",
       "      <th>special</th>\n",
       "      <th>general</th>\n",
       "      <th>character</th>\n",
       "      <th>copyright</th>\n",
       "      <th>artist</th>\n",
       "      <th>meta</th>\n",
       "      <th>year</th>\n",
       "      <th>rating</th>\n",
       "      <th>florence_long</th>\n",
       "      <th>florence_short</th>\n",
       "      <th>phi3v_horny</th>\n",
       "      <th>pixtral_caption</th>\n",
       "    </tr>\n",
       "    <tr>\n",
       "      <th>index</th>\n",
       "      <th></th>\n",
       "      <th></th>\n",
       "      <th></th>\n",
       "      <th></th>\n",
       "      <th></th>\n",
       "      <th></th>\n",
       "      <th></th>\n",
       "      <th></th>\n",
       "      <th></th>\n",
       "      <th></th>\n",
       "      <th></th>\n",
       "      <th></th>\n",
       "      <th></th>\n",
       "      <th></th>\n",
       "      <th></th>\n",
       "      <th></th>\n",
       "    </tr>\n",
       "  </thead>\n",
       "  <tbody>\n",
       "    <tr>\n",
       "      <th>1</th>\n",
       "      <td>650</td>\n",
       "      <td>459</td>\n",
       "      <td>1079</td>\n",
       "      <td>[masterpiece]</td>\n",
       "      <td>[1girl]</td>\n",
       "      <td>[2000s (style), ;p, animal ear fluff, animal e...</td>\n",
       "      <td>[kousaka tamaki]</td>\n",
       "      <td>[to heart (series), to heart 2]</td>\n",
       "      <td>[kyogoku shin]</td>\n",
       "      <td>[]</td>\n",
       "      <td>[old]</td>\n",
       "      <td>[sensitive]</td>\n",
       "      <td>A young girl with long purple hair and cat ear...</td>\n",
       "      <td>A woman in a bikini with long hair and a cat's...</td>\n",
       "      <td>None</td>\n",
       "      <td>The image is a vibrant illustration by Kyogoku...</td>\n",
       "    </tr>\n",
       "    <tr>\n",
       "      <th>2</th>\n",
       "      <td>450</td>\n",
       "      <td>450</td>\n",
       "      <td>24</td>\n",
       "      <td>[good quality]</td>\n",
       "      <td>[2boys, 2girls, multiple boys, multiple girls]</td>\n",
       "      <td>[ahoge, ass, blue hair, blush, bow, brown eyes...</td>\n",
       "      <td>[card master peach, haga reiko, kuhonbutsu tai...</td>\n",
       "      <td>[cardcaptor sakura, comic party, leaf (studio)...</td>\n",
       "      <td>[nakamura hisashi]</td>\n",
       "      <td>[lowres]</td>\n",
       "      <td>[old]</td>\n",
       "      <td>[sensitive]</td>\n",
       "      <td>A group of anime characters. in the center, th...</td>\n",
       "      <td>A group of anime characters standing next to e...</td>\n",
       "      <td>None</td>\n",
       "      <td>In this vibrant illustration by nakamura_hisas...</td>\n",
       "    </tr>\n",
       "    <tr>\n",
       "      <th>3</th>\n",
       "      <td>621</td>\n",
       "      <td>444</td>\n",
       "      <td>64</td>\n",
       "      <td>[masterpiece]</td>\n",
       "      <td>[1girl]</td>\n",
       "      <td>[ahoge, armor, armored dress, blonde hair, blu...</td>\n",
       "      <td>[artoria pendragon (fate), saber (fate)]</td>\n",
       "      <td>[fate/stay night, fate (series)]</td>\n",
       "      <td>[nakamura hisashi]</td>\n",
       "      <td>[]</td>\n",
       "      <td>[old]</td>\n",
       "      <td>[safe]</td>\n",
       "      <td>A female character from the anime series fate/...</td>\n",
       "      <td>A poster of a girl in a blue and white dress h...</td>\n",
       "      <td>None</td>\n",
       "      <td>The image is a colorful and detailed cover fro...</td>\n",
       "    </tr>\n",
       "    <tr>\n",
       "      <th>4</th>\n",
       "      <td>730</td>\n",
       "      <td>600</td>\n",
       "      <td>52</td>\n",
       "      <td>[best quality]</td>\n",
       "      <td>[2girls, multiple girls]</td>\n",
       "      <td>[:d, ;), arm up, armpits, bare arms, bare shou...</td>\n",
       "      <td>[sugiura midori, tokiha mai]</td>\n",
       "      <td>[my-hime]</td>\n",
       "      <td>[soshina nohito]</td>\n",
       "      <td>[]</td>\n",
       "      <td>[old]</td>\n",
       "      <td>[sensitive]</td>\n",
       "      <td>Two young girls. the girl on the left is weari...</td>\n",
       "      <td>This is an animated image. in this image we ca...</td>\n",
       "      <td>None</td>\n",
       "      <td>The image by the artist Soshina Nohito, known ...</td>\n",
       "    </tr>\n",
       "    <tr>\n",
       "      <th>5</th>\n",
       "      <td>384</td>\n",
       "      <td>512</td>\n",
       "      <td>162</td>\n",
       "      <td>[best quality]</td>\n",
       "      <td>[3girls, multiple girls]</td>\n",
       "      <td>[:d, ass, bamboo fence, barefoot, bath, bathin...</td>\n",
       "      <td>[kojima kirie, koyomi hare nanaka, miharu sena...</td>\n",
       "      <td>[girls bravo]</td>\n",
       "      <td>[sanshita]</td>\n",
       "      <td>[]</td>\n",
       "      <td>[old]</td>\n",
       "      <td>[nsfw]</td>\n",
       "      <td>Three young women in a bathtub. the woman in t...</td>\n",
       "      <td>This is an animated image. in this image we ca...</td>\n",
       "      <td>None</td>\n",
       "      <td>None</td>\n",
       "    </tr>\n",
       "  </tbody>\n",
       "</table>\n",
       "</div>"
      ],
      "text/plain": [
       "       height  width   fav         quality  \\\n",
       "index                                        \n",
       "1         650    459  1079   [masterpiece]   \n",
       "2         450    450    24  [good quality]   \n",
       "3         621    444    64   [masterpiece]   \n",
       "4         730    600    52  [best quality]   \n",
       "5         384    512   162  [best quality]   \n",
       "\n",
       "                                              special  \\\n",
       "index                                                   \n",
       "1                                             [1girl]   \n",
       "2      [2boys, 2girls, multiple boys, multiple girls]   \n",
       "3                                             [1girl]   \n",
       "4                            [2girls, multiple girls]   \n",
       "5                            [3girls, multiple girls]   \n",
       "\n",
       "                                                 general  \\\n",
       "index                                                      \n",
       "1      [2000s (style), ;p, animal ear fluff, animal e...   \n",
       "2      [ahoge, ass, blue hair, blush, bow, brown eyes...   \n",
       "3      [ahoge, armor, armored dress, blonde hair, blu...   \n",
       "4      [:d, ;), arm up, armpits, bare arms, bare shou...   \n",
       "5      [:d, ass, bamboo fence, barefoot, bath, bathin...   \n",
       "\n",
       "                                               character  \\\n",
       "index                                                      \n",
       "1                                       [kousaka tamaki]   \n",
       "2      [card master peach, haga reiko, kuhonbutsu tai...   \n",
       "3               [artoria pendragon (fate), saber (fate)]   \n",
       "4                           [sugiura midori, tokiha mai]   \n",
       "5      [kojima kirie, koyomi hare nanaka, miharu sena...   \n",
       "\n",
       "                                               copyright              artist  \\\n",
       "index                                                                          \n",
       "1                        [to heart (series), to heart 2]      [kyogoku shin]   \n",
       "2      [cardcaptor sakura, comic party, leaf (studio)...  [nakamura hisashi]   \n",
       "3                       [fate/stay night, fate (series)]  [nakamura hisashi]   \n",
       "4                                              [my-hime]    [soshina nohito]   \n",
       "5                                          [girls bravo]          [sanshita]   \n",
       "\n",
       "           meta   year       rating  \\\n",
       "index                                 \n",
       "1            []  [old]  [sensitive]   \n",
       "2      [lowres]  [old]  [sensitive]   \n",
       "3            []  [old]       [safe]   \n",
       "4            []  [old]  [sensitive]   \n",
       "5            []  [old]       [nsfw]   \n",
       "\n",
       "                                           florence_long  \\\n",
       "index                                                      \n",
       "1      A young girl with long purple hair and cat ear...   \n",
       "2      A group of anime characters. in the center, th...   \n",
       "3      A female character from the anime series fate/...   \n",
       "4      Two young girls. the girl on the left is weari...   \n",
       "5      Three young women in a bathtub. the woman in t...   \n",
       "\n",
       "                                          florence_short phi3v_horny  \\\n",
       "index                                                                  \n",
       "1      A woman in a bikini with long hair and a cat's...        None   \n",
       "2      A group of anime characters standing next to e...        None   \n",
       "3      A poster of a girl in a blue and white dress h...        None   \n",
       "4      This is an animated image. in this image we ca...        None   \n",
       "5      This is an animated image. in this image we ca...        None   \n",
       "\n",
       "                                         pixtral_caption  \n",
       "index                                                     \n",
       "1      The image is a vibrant illustration by Kyogoku...  \n",
       "2      In this vibrant illustration by nakamura_hisas...  \n",
       "3      The image is a colorful and detailed cover fro...  \n",
       "4      The image by the artist Soshina Nohito, known ...  \n",
       "5                                                   None  "
      ]
     },
     "execution_count": 6,
     "metadata": {},
     "output_type": "execute_result"
    }
   ],
   "source": [
    "df.head(5)"
   ]
  },
  {
   "cell_type": "code",
   "execution_count": 7,
   "metadata": {},
   "outputs": [],
   "source": [
    "df['quality_0'] = df['quality'].apply(lambda x: x[0] if len(x) > 0 else None)\n",
    "df['artist_0'] = df['artist'].apply(lambda x: x[0] if len(x) > 0 else None)\n",
    "df['year_0'] = df['year'].apply(lambda x: x[0] if len(x) > 0 else None)\n",
    "df['rating_0'] = df['rating'].apply(lambda x: x[0] if len(x) > 0 else None)\n",
    "\n",
    "df['characters'] = df['character'].apply(lambda x: \", \".join(x) if len(x) > 0 else None)"
   ]
  },
  {
   "cell_type": "code",
   "execution_count": 8,
   "metadata": {},
   "outputs": [
    {
     "data": {
      "text/plain": [
       "year_0\n",
       "newest    3581433\n",
       "recent    1305845\n",
       "mid       1082090\n",
       "early     1067242\n",
       "old        791030\n",
       "Name: count, dtype: int64"
      ]
     },
     "execution_count": 8,
     "metadata": {},
     "output_type": "execute_result"
    }
   ],
   "source": [
    "df[\"year_0\"].value_counts()"
   ]
  },
  {
   "cell_type": "code",
   "execution_count": 9,
   "metadata": {},
   "outputs": [
    {
     "data": {
      "text/plain": [
       "rating_0\n",
       "sensitive    4191248\n",
       "safe         1931392\n",
       "nsfw          938626\n",
       "explicit      766374\n",
       "Name: count, dtype: int64"
      ]
     },
     "execution_count": 9,
     "metadata": {},
     "output_type": "execute_result"
    }
   ],
   "source": [
    "df[\"rating_0\"].value_counts()"
   ]
  },
  {
   "cell_type": "code",
   "execution_count": 10,
   "metadata": {},
   "outputs": [
    {
     "data": {
      "text/plain": [
       "quality_0\n",
       "normal quality    1815164\n",
       "good quality      1676032\n",
       "low quality        973459\n",
       "best quality       711939\n",
       "worst quality      710590\n",
       "great quality      701750\n",
       "masterpiece        373789\n",
       "Name: count, dtype: int64"
      ]
     },
     "execution_count": 10,
     "metadata": {},
     "output_type": "execute_result"
    }
   ],
   "source": [
    "df[\"quality_0\"].value_counts()"
   ]
  },
  {
   "cell_type": "code",
   "execution_count": 11,
   "metadata": {},
   "outputs": [
    {
     "data": {
      "text/plain": [
       "4249"
      ]
     },
     "execution_count": 11,
     "metadata": {},
     "output_type": "execute_result"
    }
   ],
   "source": [
    "len(df[df['florence_long'].str.contains('nude', na=False)])"
   ]
  },
  {
   "cell_type": "code",
   "execution_count": 12,
   "metadata": {},
   "outputs": [
    {
     "data": {
      "text/plain": [
       "5555"
      ]
     },
     "execution_count": 12,
     "metadata": {},
     "output_type": "execute_result"
    }
   ],
   "source": [
    "len(df[df['florence_short'].str.contains('nude', na=False)])"
   ]
  },
  {
   "cell_type": "code",
   "execution_count": 13,
   "metadata": {},
   "outputs": [
    {
     "data": {
      "text/plain": [
       "203"
      ]
     },
     "execution_count": 13,
     "metadata": {},
     "output_type": "execute_result"
    }
   ],
   "source": [
    "len(df[df['phi3v_horny'].str.contains('nude', na=False)])"
   ]
  },
  {
   "cell_type": "code",
   "execution_count": 14,
   "metadata": {},
   "outputs": [
    {
     "data": {
      "text/plain": [
       "2244"
      ]
     },
     "execution_count": 14,
     "metadata": {},
     "output_type": "execute_result"
    }
   ],
   "source": [
    "len(df[df['pixtral_caption'].str.contains('nude', na=False)])"
   ]
  },
  {
   "cell_type": "code",
   "execution_count": 15,
   "metadata": {},
   "outputs": [
    {
     "data": {
      "text/plain": [
       "6142"
      ]
     },
     "execution_count": 15,
     "metadata": {},
     "output_type": "execute_result"
    }
   ],
   "source": [
    "len(df[df['characters'].str.contains('astolfo', na=False)])"
   ]
  },
  {
   "cell_type": "code",
   "execution_count": 16,
   "metadata": {},
   "outputs": [
    {
     "data": {
      "text/plain": [
       "69"
      ]
     },
     "execution_count": 16,
     "metadata": {},
     "output_type": "execute_result"
    }
   ],
   "source": [
    "len(df[df['florence_long'].str.contains('astolfo', na=False)])"
   ]
  },
  {
   "cell_type": "code",
   "execution_count": 17,
   "metadata": {},
   "outputs": [
    {
     "data": {
      "text/plain": [
       "40"
      ]
     },
     "execution_count": 17,
     "metadata": {},
     "output_type": "execute_result"
    }
   ],
   "source": [
    "len(df[df['florence_short'].str.contains('astolfo', na=False)])"
   ]
  },
  {
   "cell_type": "code",
   "execution_count": 18,
   "metadata": {},
   "outputs": [
    {
     "data": {
      "text/plain": [
       "99"
      ]
     },
     "execution_count": 18,
     "metadata": {},
     "output_type": "execute_result"
    }
   ],
   "source": [
    "len(df[df['phi3v_horny'].str.contains('astolfo', na=False)])"
   ]
  },
  {
   "cell_type": "code",
   "execution_count": 19,
   "metadata": {},
   "outputs": [
    {
     "data": {
      "text/plain": [
       "0"
      ]
     },
     "execution_count": 19,
     "metadata": {},
     "output_type": "execute_result"
    }
   ],
   "source": [
    "len(df[df['pixtral_caption'].str.contains('astolfo', na=False)])"
   ]
  },
  {
   "cell_type": "markdown",
   "metadata": {},
   "source": [
    "This just print a `row`. Notice that it is different from the `df.head()`.\n",
    "\n",
    "Notice that `id` is magially becomes `Index`. Meanwhile nested fields are caseted as `_dd`."
   ]
  },
  {
   "cell_type": "code",
   "execution_count": 20,
   "metadata": {},
   "outputs": [
    {
     "name": "stdout",
     "output_type": "stream",
     "text": [
      "Pandas(Index=1, height=650, width=459, fav=1079, quality=array(['masterpiece'], dtype=object), special=array(['1girl'], dtype=object), general=array(['2000s (style)', ';p', 'animal ear fluff', 'animal ears',\n",
      "       'aqua panties', 'blue bow', 'blue panties', 'blue ribbon', 'blush',\n",
      "       'border', 'bow', 'bow panties', 'breasts', 'brown eyes',\n",
      "       'cat ears', 'cat girl', 'cat tail', 'collarbone',\n",
      "       'colored stripes', 'cowboy shot', 'hands up', 'kemonomimi mode',\n",
      "       'large breasts', 'long hair', 'long sleeves', 'looking at viewer',\n",
      "       'no pants', 'one eye closed', 'orange background',\n",
      "       'outside border', 'panties', 'parted bangs', 'pink shirt',\n",
      "       'red hair', 'red sailor collar', 'ribbon', 'sailor collar',\n",
      "       'school uniform', 'serafuku', 'shirt', 'sidelocks',\n",
      "       'simple background', 'smile', 'solo', 'standing',\n",
      "       'striped background', 'striped clothes', 'striped panties', 'tail',\n",
      "       'thigh gap', 'thighhighs', 'thighs', 'tongue', 'tongue out',\n",
      "       'two side up', 'underwear', 'very long hair', 'w arms',\n",
      "       'white border', 'white thighhighs'], dtype=object), character=array(['kousaka tamaki'], dtype=object), copyright=array(['to heart (series)', 'to heart 2'], dtype=object), artist=array(['kyogoku shin'], dtype=object), meta=array([], dtype=object), year=array(['old'], dtype=object), rating=array(['sensitive'], dtype=object), florence_long='A young girl with long purple hair and cat ears on her head. she is wearing a pink and blue striped bikini top and white thigh-high boots. her arms are raised above her head, as if she is posing for the camera. she has a playful expression on her face and is looking directly at the viewer. the background is a striped orange color. the overall style of the illustration is anime-style.', florence_short=\"A woman in a bikini with long hair and a cat's ears, standing in front of a white background. she has a mischievous expression on her face, as if she is up to something. her hair is long and wavy, and her eyes are wide and alert. she is wearing a pink and white striped bikini top and a pair of blue shorts.\", phi3v_horny=None, pixtral_caption='The image is a vibrant illustration by Kyogoku Shin, characterized by a distinct 2000s style. It features a young woman with long, pink hair and animal ear fluff, suggesting a fantastical or supernatural theme. She is dressed in a white top and blue shorts, striking a playful pose with her hands on her head. The background is a simple, warm-toned pattern, which helps to highlight the central figure. The artwork is part of the \"To Heart\" series, specifically \"To Heart 2,\" and captures a moment of whimsy and charm.', quality_0='masterpiece', artist_0='kyogoku shin', year_0='old', rating_0='sensitive', characters='kousaka tamaki')\n"
     ]
    }
   ],
   "source": [
    "for row in df.itertuples():\n",
    "    print(row)\n",
    "    break"
   ]
  },
  {
   "cell_type": "code",
   "execution_count": 21,
   "metadata": {},
   "outputs": [
    {
     "name": "stdout",
     "output_type": "stream",
     "text": [
      "Pandas(Index=7583376, height=3466, width=2252, fav=102, quality=array([], dtype=object), special=array(['1girl'], dtype=object), general=array(['black hairband', 'blonde hair', 'breasts', 'fire',\n",
      "       'glowing pupils', 'grey hair', 'hair intakes', 'hairband',\n",
      "       'henshin', 'henshin pose', 'long hair', 'looking at viewer',\n",
      "       'nude', 'purple eyes', 'solo', 'upper body', 'v-shaped eyebrows'],\n",
      "      dtype=object), character=array(['firefly (honkai: star rail)'], dtype=object), copyright=array(['honkai: star rail', 'honkai (series)'], dtype=object), artist=array(['hinagikumonnme'], dtype=object), meta=array(['absurdres', 'highres'], dtype=object), year=array(['newest'], dtype=object), rating=array(['sensitive'], dtype=object), florence_long=None, florence_short=None, phi3v_horny=None, pixtral_caption='', quality_0=None, artist_0='hinagikumonnme', year_0='newest', rating_0='sensitive', characters='firefly (honkai: star rail)')\n"
     ]
    }
   ],
   "source": [
    "df_astolfo = df[df.index == 7583376]\n",
    "for row in df_astolfo.itertuples():\n",
    "    print(row)"
   ]
  },
  {
   "cell_type": "code",
   "execution_count": 22,
   "metadata": {},
   "outputs": [],
   "source": [
    "empty_df = df[(df['florence_long'].isnull()) & (df['florence_short'].isnull()) & (df['phi3v_horny'].isnull()) & (df['pixtral_caption'].isnull())]"
   ]
  },
  {
   "cell_type": "code",
   "execution_count": 23,
   "metadata": {},
   "outputs": [
    {
     "data": {
      "text/plain": [
       "116913"
      ]
     },
     "execution_count": 23,
     "metadata": {},
     "output_type": "execute_result"
    }
   ],
   "source": [
    "len(empty_df)"
   ]
  },
  {
   "cell_type": "code",
   "execution_count": 24,
   "metadata": {},
   "outputs": [],
   "source": [
    "missing_id = { \"caption\": [str(row.Index) for row in empty_df.itertuples()] }"
   ]
  },
  {
   "cell_type": "code",
   "execution_count": 25,
   "metadata": {},
   "outputs": [],
   "source": [
    "MISSING_JSON = \"./empty_2023.json\""
   ]
  },
  {
   "cell_type": "code",
   "execution_count": 26,
   "metadata": {},
   "outputs": [],
   "source": [
    "# Align to actual metadata json.\n",
    "output_missing = json.dumps(missing_id, indent=2)\n",
    "\n",
    "with open(MISSING_JSON, \"w\") as outfile:\n",
    "    outfile.write(output_missing)"
   ]
  },
  {
   "cell_type": "code",
   "execution_count": null,
   "metadata": {},
   "outputs": [],
   "source": []
  }
 ],
 "metadata": {
  "anaconda-cloud": {},
  "kernelspec": {
   "display_name": "Python 3",
   "language": "python",
   "name": "python3"
  },
  "language_info": {
   "codemirror_mode": {
    "name": "ipython",
    "version": 3
   },
   "file_extension": ".py",
   "mimetype": "text/x-python",
   "name": "python",
   "nbconvert_exporter": "python",
   "pygments_lexer": "ipython3",
   "version": "3.12.8"
  },
  "toc": {
   "base_numbering": 1,
   "nav_menu": {},
   "number_sections": true,
   "sideBar": true,
   "skip_h1_title": false,
   "title_cell": "Table of Contents",
   "title_sidebar": "Contents",
   "toc_cell": false,
   "toc_position": {},
   "toc_section_display": true,
   "toc_window_display": false
  }
 },
 "nbformat": 4,
 "nbformat_minor": 4
}
